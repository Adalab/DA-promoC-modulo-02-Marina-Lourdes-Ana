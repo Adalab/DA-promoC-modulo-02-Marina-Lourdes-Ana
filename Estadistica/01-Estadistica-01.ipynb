{
 "cells": [
  {
   "cell_type": "code",
   "execution_count": null,
   "metadata": {},
   "outputs": [],
   "source": [
    "import numpy as np\n",
    "from scipy import stats # importando scipy.stats\n",
    "import pandas as pd # importando pandas\n",
    "import matplotlib.pyplot as plt # importando matplotlib"
   ]
  },
  {
   "attachments": {},
   "cell_type": "markdown",
   "metadata": {},
   "source": [
    "# Pair Programming Estadística I"
   ]
  },
  {
   "attachments": {},
   "cell_type": "markdown",
   "metadata": {},
   "source": [
    "Empezamos una nueva lección, y este es el momento de poner en práctica los conocimientos adquiridos del Estadística Descriptiva básica.\n",
    "\n",
    "En este caso vamos a darle un giro de tuerca a la forma en la que se ha resuelto los ejercicios de la Pair de hasta ahora! \n",
    "\n",
    "Para ello os vamos a pedir que por vuestra cuenta busqueis un dataset que os guste,por ejemplo de Kaggle o de donde queráis extraerlo. \n",
    "\n",
    "De esta forma vamos a estudiar los diferentes estadísiticos que contiene en dataset seleccionado Para todas los ejercicios de pair programming de Estadística I, II y III usaremos el dataframe que se tome para el desarrollo de este ejercicio de pair programming."
   ]
  },
  {
   "attachments": {},
   "cell_type": "markdown",
   "metadata": {},
   "source": [
    "### Objetivos"
   ]
  },
  {
   "attachments": {},
   "cell_type": "markdown",
   "metadata": {},
   "source": [
    "Los objetivos de hoy son:\n",
    "\n",
    "Buscar un conjunto de datos a analizar:\n",
    "Se recomienda que el conjunto de datos a analizar tenga variables numéricas y categóricas.\n",
    "Ya que también se analizarán.\n",
    "\n",
    "Extraer los siguentes estadísticos del conjunto de datos para varias de las variables disponibles:"
   ]
  },
  {
   "cell_type": "code",
   "execution_count": null,
   "metadata": {},
   "outputs": [],
   "source": [
    "# Media\n",
    "    media = np.mean(datos)\n",
    "    print (f'La media es {media}')\n",
    "\n",
    "# Desviación con respecto de la media\n",
    "    print(datos)\n",
    "    # media arítmetica usando un método de los numpy array (se hace la media de toda la matriz)\n",
    "    media = datos.mean()\n",
    "    print(media)\n",
    "    # Calculamos la diferencia respecto a la media para cada elemento de la matriz\n",
    "    desviacion_media = np.abs(datos-media)\n",
    "    print(f'La desviacion de la media es{desviacion_media})\n",
    "\n",
    "# Varianza\n",
    "    print(np.var(datos)) # varianza para todos los datos\n",
    "    print(np.var(datos, 0)) # varianza de cada columna\n",
    "    print(np.var(datos, 1)) # varianza de cada fila\n",
    "\n",
    "# Desviación típica\n",
    "    print(np.std(datos)) # desviación típica para todos los datos\n",
    "    print(np.std(datos, 0)) # desviación típica de cada columna\n",
    "    print(np.std(datos, 1)) # desviación típica de cada fila\n",
    "\n",
    "# Moda\n",
    "    moda, frecuencia = stats.mode(datos)\n",
    "    print (f'La moda y la frecuencia son {moda, frecuencia}')\n",
    "\n",
    "# Mediana\n",
    "    print(np.median(datos)) # mediana para todos los datos\n",
    "    print(np.median(datos, 0)) # mediana de cada columna\n",
    "    print(np.median(datos, 1)) # mediana de cada fila\n",
    "# Media ponderada\n",
    "    w = np.ones(5, dtype=np.complex64)\n",
    "    # Calculamos la media ponderada usando el método average() de Numpy\n",
    "    avg = np.average(datos, weights=w)\n",
    "    print(avg)\n",
    "\n",
    "# Robustez\n",
    "\n",
    "# Coeficiente de variación\n",
    "    print(np.mean(datos)) # media para todos los datos\n",
    "    print(np.std(datos)) # desviación típica para todos los datos\n",
    "    print(np.std(datos) / np.abs(np.mean(datos))) # coeficiente de variación\n",
    "    \n",
    "# Interpretación de los resultados.\n",
    "# Ahora interpreta los resultados obtenidos de los\n",
    "#  diferentes estadísticos estudiados haciendo hincapié \n",
    "# en aspectos interesantes de tus datos\n",
    "# y explica lo mejor posible la naturaleza de los mismos.\n",
    "\n",
    "# Happy coding 📊📈📉"
   ]
  }
 ],
 "metadata": {
  "language_info": {
   "name": "python"
  },
  "orig_nbformat": 4
 },
 "nbformat": 4,
 "nbformat_minor": 2
}
