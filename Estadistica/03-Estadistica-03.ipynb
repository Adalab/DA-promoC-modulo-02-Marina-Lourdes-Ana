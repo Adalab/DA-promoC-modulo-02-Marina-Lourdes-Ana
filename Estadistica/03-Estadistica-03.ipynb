{
 "cells": [
  {
   "cell_type": "code",
   "execution_count": 24,
   "metadata": {},
   "outputs": [],
   "source": [
    "import numpy as np\n",
    "from scipy import stats # importando scipy.stats\n",
    "import pandas as pd # importando pandas\n",
    "import matplotlib.pyplot as plt # importando matplotlib\n",
    "import seaborn as sns\n",
    "from scipy.stats import skew\n",
    "import scipy.stats as st"
   ]
  },
  {
   "attachments": {},
   "cell_type": "markdown",
   "metadata": {},
   "source": [
    "# Pair Programming Estadística III\n",
    "\n",
    "Vamos ahora a tomar de nuevo el conjunto de datos con el que \n",
    "estuvimos trabajando en los últimos días y vamos a continuar \n",
    "con el análisis de las estadísitcas de los contenidos del conjunto de datos.\n",
    "\n",
    "Para todas los ejercicios de pair programming de\n",
    "Estadística I, II y III usaremos el dataframe que \n",
    "se tome para el desarrollo de este ejercicio de pair programming.\n",
    "\n",
    "Se ruega a la hora de realizar la entrega que incluyais el conjunto de datos que hayais decidido emplear para estos ejercicios.\n",
    "\n",
    "# Objetivos\n",
    "Los objetivos de hoy son:\n",
    " Extraer los siguentes estadísiticos del conjunto de datos para varias de las varibles disponibles:"
   ]
  },
  {
   "attachments": {},
   "cell_type": "markdown",
   "metadata": {},
   "source": [
    "### Tabla de contingencia"
   ]
  },
  {
   "cell_type": "code",
   "execution_count": 2,
   "metadata": {},
   "outputs": [
    {
     "data": {
      "text/html": [
       "<div>\n",
       "<style scoped>\n",
       "    .dataframe tbody tr th:only-of-type {\n",
       "        vertical-align: middle;\n",
       "    }\n",
       "\n",
       "    .dataframe tbody tr th {\n",
       "        vertical-align: top;\n",
       "    }\n",
       "\n",
       "    .dataframe thead th {\n",
       "        text-align: right;\n",
       "    }\n",
       "</style>\n",
       "<table border=\"1\" class=\"dataframe\">\n",
       "  <thead>\n",
       "    <tr style=\"text-align: right;\">\n",
       "      <th></th>\n",
       "      <th>Poster_Link</th>\n",
       "      <th>Series_Title</th>\n",
       "      <th>Released_Year</th>\n",
       "      <th>Certificate</th>\n",
       "      <th>Runtime</th>\n",
       "      <th>Genre</th>\n",
       "      <th>IMDB_Rating</th>\n",
       "      <th>Overview</th>\n",
       "      <th>Meta_score</th>\n",
       "      <th>Director</th>\n",
       "      <th>Star1</th>\n",
       "      <th>Star2</th>\n",
       "      <th>Star3</th>\n",
       "      <th>Star4</th>\n",
       "      <th>No_of_Votes</th>\n",
       "      <th>Gross</th>\n",
       "    </tr>\n",
       "  </thead>\n",
       "  <tbody>\n",
       "    <tr>\n",
       "      <th>0</th>\n",
       "      <td>https://m.media-amazon.com/images/M/MV5BMDFkYT...</td>\n",
       "      <td>The Shawshank Redemption</td>\n",
       "      <td>1994</td>\n",
       "      <td>A</td>\n",
       "      <td>142 min</td>\n",
       "      <td>Drama</td>\n",
       "      <td>9.3</td>\n",
       "      <td>Two imprisoned men bond over a number of years...</td>\n",
       "      <td>80.0</td>\n",
       "      <td>Frank Darabont</td>\n",
       "      <td>Tim Robbins</td>\n",
       "      <td>Morgan Freeman</td>\n",
       "      <td>Bob Gunton</td>\n",
       "      <td>William Sadler</td>\n",
       "      <td>2343110</td>\n",
       "      <td>28,341,469</td>\n",
       "    </tr>\n",
       "    <tr>\n",
       "      <th>1</th>\n",
       "      <td>https://m.media-amazon.com/images/M/MV5BM2MyNj...</td>\n",
       "      <td>The Godfather</td>\n",
       "      <td>1972</td>\n",
       "      <td>A</td>\n",
       "      <td>175 min</td>\n",
       "      <td>Crime, Drama</td>\n",
       "      <td>9.2</td>\n",
       "      <td>An organized crime dynasty's aging patriarch t...</td>\n",
       "      <td>100.0</td>\n",
       "      <td>Francis Ford Coppola</td>\n",
       "      <td>Marlon Brando</td>\n",
       "      <td>Al Pacino</td>\n",
       "      <td>James Caan</td>\n",
       "      <td>Diane Keaton</td>\n",
       "      <td>1620367</td>\n",
       "      <td>134,966,411</td>\n",
       "    </tr>\n",
       "  </tbody>\n",
       "</table>\n",
       "</div>"
      ],
      "text/plain": [
       "                                         Poster_Link  \\\n",
       "0  https://m.media-amazon.com/images/M/MV5BMDFkYT...   \n",
       "1  https://m.media-amazon.com/images/M/MV5BM2MyNj...   \n",
       "\n",
       "               Series_Title Released_Year Certificate  Runtime         Genre  \\\n",
       "0  The Shawshank Redemption          1994           A  142 min         Drama   \n",
       "1             The Godfather          1972           A  175 min  Crime, Drama   \n",
       "\n",
       "   IMDB_Rating                                           Overview  Meta_score  \\\n",
       "0          9.3  Two imprisoned men bond over a number of years...        80.0   \n",
       "1          9.2  An organized crime dynasty's aging patriarch t...       100.0   \n",
       "\n",
       "               Director          Star1           Star2       Star3  \\\n",
       "0        Frank Darabont    Tim Robbins  Morgan Freeman  Bob Gunton   \n",
       "1  Francis Ford Coppola  Marlon Brando       Al Pacino  James Caan   \n",
       "\n",
       "            Star4  No_of_Votes        Gross  \n",
       "0  William Sadler      2343110   28,341,469  \n",
       "1    Diane Keaton      1620367  134,966,411  "
      ]
     },
     "execution_count": 2,
     "metadata": {},
     "output_type": "execute_result"
    }
   ],
   "source": [
    "df_csv = pd.read_csv(\"01-imdb_top_1000.csv\" )\n",
    "df_csv.head(2)"
   ]
  },
  {
   "cell_type": "code",
   "execution_count": 6,
   "metadata": {},
   "outputs": [],
   "source": [
    "votos = df_csv['No_of_Votes']\n",
    "meta = df_csv['Meta_score']\n",
    "imdb = df_csv['IMDB_Rating']"
   ]
  },
  {
   "cell_type": "code",
   "execution_count": 7,
   "metadata": {},
   "outputs": [
    {
     "data": {
      "text/plain": [
       "0      2343110\n",
       "1      1620367\n",
       "2      2303232\n",
       "3      1129952\n",
       "4       689845\n",
       "        ...   \n",
       "995     166544\n",
       "996      34075\n",
       "997      43374\n",
       "998      26471\n",
       "999      51853\n",
       "Name: No_of_Votes, Length: 1000, dtype: int64"
      ]
     },
     "execution_count": 7,
     "metadata": {},
     "output_type": "execute_result"
    }
   ],
   "source": [
    "votos"
   ]
  },
  {
   "cell_type": "code",
   "execution_count": 8,
   "metadata": {},
   "outputs": [
    {
     "data": {
      "text/plain": [
       "0       80.0\n",
       "1      100.0\n",
       "2       84.0\n",
       "3       90.0\n",
       "4       96.0\n",
       "       ...  \n",
       "995     76.0\n",
       "996     84.0\n",
       "997     85.0\n",
       "998     78.0\n",
       "999     93.0\n",
       "Name: Meta_score, Length: 1000, dtype: float64"
      ]
     },
     "execution_count": 8,
     "metadata": {},
     "output_type": "execute_result"
    }
   ],
   "source": [
    "meta"
   ]
  },
  {
   "cell_type": "code",
   "execution_count": 3,
   "metadata": {},
   "outputs": [],
   "source": [
    "df_csv[\"votos\"] = pd.cut(df_csv[\"No_of_Votes\"], bins= 100)\n",
    "df_csv[\"meta_score\"] = pd.cut(df_csv[\"Meta_score\"], bins=100)"
   ]
  },
  {
   "cell_type": "code",
   "execution_count": 9,
   "metadata": {},
   "outputs": [
    {
     "name": "stdout",
     "output_type": "stream",
     "text": [
      "votos            (22769.978, 48268.22]  (48268.22, 71448.44]  \\\n",
      "meta_score                                                     \n",
      "(27.928, 28.72]                      0                     0   \n",
      "(29.44, 30.16]                       0                     0   \n",
      "(32.32, 33.04]                       0                     0   \n",
      "(35.92, 36.64]                       0                     0   \n",
      "(39.52, 40.24]                       1                     0   \n",
      "...                                ...                   ...   \n",
      "(95.68, 96.4]                        2                     2   \n",
      "(96.4, 97.12]                        3                     3   \n",
      "(97.84, 98.56]                       1                     0   \n",
      "(98.56, 99.28]                       0                     0   \n",
      "(99.28, 100.0]                       2                     1   \n",
      "\n",
      "votos            (71448.44, 94628.66]  (94628.66, 117808.88]  \\\n",
      "meta_score                                                     \n",
      "(27.928, 28.72]                     0                      0   \n",
      "(29.44, 30.16]                      0                      0   \n",
      "(32.32, 33.04]                      0                      1   \n",
      "(35.92, 36.64]                      0                      0   \n",
      "(39.52, 40.24]                      0                      0   \n",
      "...                               ...                    ...   \n",
      "(95.68, 96.4]                       2                      1   \n",
      "(96.4, 97.12]                       1                      1   \n",
      "(97.84, 98.56]                      0                      1   \n",
      "(98.56, 99.28]                      1                      1   \n",
      "(99.28, 100.0]                      2                      0   \n",
      "\n",
      "votos            (117808.88, 140989.1]  (140989.1, 164169.32]  \\\n",
      "meta_score                                                      \n",
      "(27.928, 28.72]                      0                      1   \n",
      "(29.44, 30.16]                       0                      0   \n",
      "(32.32, 33.04]                       0                      0   \n",
      "(35.92, 36.64]                       0                      0   \n",
      "(39.52, 40.24]                       0                      0   \n",
      "...                                ...                    ...   \n",
      "(95.68, 96.4]                        1                      1   \n",
      "(96.4, 97.12]                        0                      1   \n",
      "(97.84, 98.56]                       1                      2   \n",
      "(98.56, 99.28]                       0                      0   \n",
      "(99.28, 100.0]                       0                      0   \n",
      "\n",
      "votos            (164169.32, 187349.54]  (187349.54, 210529.76]  \\\n",
      "meta_score                                                        \n",
      "(27.928, 28.72]                       0                       0   \n",
      "(29.44, 30.16]                        0                       0   \n",
      "(32.32, 33.04]                        0                       0   \n",
      "(35.92, 36.64]                        0                       0   \n",
      "(39.52, 40.24]                        0                       0   \n",
      "...                                 ...                     ...   \n",
      "(95.68, 96.4]                         0                       1   \n",
      "(96.4, 97.12]                         0                       0   \n",
      "(97.84, 98.56]                        0                       0   \n",
      "(98.56, 99.28]                        1                       0   \n",
      "(99.28, 100.0]                        0                       0   \n",
      "\n",
      "votos            (210529.76, 233709.98]  (233709.98, 256890.2]  ...  \\\n",
      "meta_score                                                      ...   \n",
      "(27.928, 28.72]                       0                      0  ...   \n",
      "(29.44, 30.16]                        0                      0  ...   \n",
      "(32.32, 33.04]                        0                      0  ...   \n",
      "(35.92, 36.64]                        0                      0  ...   \n",
      "(39.52, 40.24]                        0                      0  ...   \n",
      "...                                 ...                    ...  ...   \n",
      "(95.68, 96.4]                         1                      1  ...   \n",
      "(96.4, 97.12]                         0                      0  ...   \n",
      "(97.84, 98.56]                        0                      1  ...   \n",
      "(98.56, 99.28]                        1                      0  ...   \n",
      "(99.28, 100.0]                        0                      0  ...   \n",
      "\n",
      "votos            (1601342.96, 1624523.18]  (1624523.18, 1647703.4]  \\\n",
      "meta_score                                                           \n",
      "(27.928, 28.72]                         0                        0   \n",
      "(29.44, 30.16]                          0                        0   \n",
      "(32.32, 33.04]                          0                        0   \n",
      "(35.92, 36.64]                          0                        0   \n",
      "(39.52, 40.24]                          0                        0   \n",
      "...                                   ...                      ...   \n",
      "(95.68, 96.4]                           0                        0   \n",
      "(96.4, 97.12]                           0                        0   \n",
      "(97.84, 98.56]                          0                        0   \n",
      "(98.56, 99.28]                          0                        0   \n",
      "(99.28, 100.0]                          1                        0   \n",
      "\n",
      "votos            (1647703.4, 1670883.62]  (1670883.62, 1694063.84]  \\\n",
      "meta_score                                                           \n",
      "(27.928, 28.72]                        0                         0   \n",
      "(29.44, 30.16]                         0                         0   \n",
      "(32.32, 33.04]                         0                         0   \n",
      "(35.92, 36.64]                         0                         0   \n",
      "(39.52, 40.24]                         0                         0   \n",
      "...                                  ...                       ...   \n",
      "(95.68, 96.4]                          0                         0   \n",
      "(96.4, 97.12]                          0                         0   \n",
      "(97.84, 98.56]                         0                         0   \n",
      "(98.56, 99.28]                         0                         0   \n",
      "(99.28, 100.0]                         0                         0   \n",
      "\n",
      "votos            (1786784.72, 1809964.94]  (1809964.94, 1833145.16]  \\\n",
      "meta_score                                                            \n",
      "(27.928, 28.72]                         0                         0   \n",
      "(29.44, 30.16]                          0                         0   \n",
      "(32.32, 33.04]                          0                         0   \n",
      "(35.92, 36.64]                          0                         0   \n",
      "(39.52, 40.24]                          0                         0   \n",
      "...                                   ...                       ...   \n",
      "(95.68, 96.4]                           0                         0   \n",
      "(96.4, 97.12]                           0                         0   \n",
      "(97.84, 98.56]                          0                         0   \n",
      "(98.56, 99.28]                          0                         0   \n",
      "(99.28, 100.0]                          0                         0   \n",
      "\n",
      "votos            (1833145.16, 1856325.38]  (2064947.36, 2088127.58]  \\\n",
      "meta_score                                                            \n",
      "(27.928, 28.72]                         0                         0   \n",
      "(29.44, 30.16]                          0                         0   \n",
      "(32.32, 33.04]                          0                         0   \n",
      "(35.92, 36.64]                          0                         0   \n",
      "(39.52, 40.24]                          0                         0   \n",
      "...                                   ...                       ...   \n",
      "(95.68, 96.4]                           0                         0   \n",
      "(96.4, 97.12]                           0                         0   \n",
      "(97.84, 98.56]                          0                         0   \n",
      "(98.56, 99.28]                          0                         0   \n",
      "(99.28, 100.0]                          0                         0   \n",
      "\n",
      "votos            (2296749.56, 2319929.78]  (2319929.78, 2343110.0]  \n",
      "meta_score                                                          \n",
      "(27.928, 28.72]                         0                        0  \n",
      "(29.44, 30.16]                          0                        0  \n",
      "(32.32, 33.04]                          0                        0  \n",
      "(35.92, 36.64]                          0                        0  \n",
      "(39.52, 40.24]                          0                        0  \n",
      "...                                   ...                      ...  \n",
      "(95.68, 96.4]                           0                        0  \n",
      "(96.4, 97.12]                           0                        0  \n",
      "(97.84, 98.56]                          0                        0  \n",
      "(98.56, 99.28]                          0                        0  \n",
      "(99.28, 100.0]                          0                        0  \n",
      "\n",
      "[63 rows x 68 columns]\n"
     ]
    }
   ],
   "source": [
    "\n",
    "votos_crosstab = pd.crosstab(df_csv[\"meta_score\"],\n",
    "                            df_csv[\"votos\"])\n",
    "print(votos_crosstab)"
   ]
  },
  {
   "attachments": {},
   "cell_type": "markdown",
   "metadata": {},
   "source": [
    "### Coeficiente de correlación de las variables numéricas del dataset."
   ]
  },
  {
   "cell_type": "code",
   "execution_count": 20,
   "metadata": {},
   "outputs": [
    {
     "data": {
      "text/plain": [
       "array([[nan, nan],\n",
       "       [nan,  1.]])"
      ]
     },
     "execution_count": 20,
     "metadata": {},
     "output_type": "execute_result"
    }
   ],
   "source": [
    "df_cor = np.corrcoef(df_csv[\"Meta_score\"], df_csv[\"IMDB_Rating\"])\n",
    "df_cor"
   ]
  },
  {
   "attachments": {},
   "cell_type": "markdown",
   "metadata": {},
   "source": [
    "### Sesgos de alguna de las variables numéricas del dataset."
   ]
  },
  {
   "cell_type": "code",
   "execution_count": 23,
   "metadata": {},
   "outputs": [
    {
     "name": "stdout",
     "output_type": "stream",
     "text": [
      "2.2965591310736615\n"
     ]
    }
   ],
   "source": [
    "sesgo_votos = skew(df_csv['No_of_Votes'])\n",
    "print(sesgo_votos)"
   ]
  },
  {
   "attachments": {},
   "cell_type": "markdown",
   "metadata": {},
   "source": [
    "### Intervalo de confianza de algunas de las variables numéricas del dataset"
   ]
  },
  {
   "cell_type": "code",
   "execution_count": 32,
   "metadata": {},
   "outputs": [
    {
     "name": "stdout",
     "output_type": "stream",
     "text": [
      "(246975.76748985777, 300410.0545101423)\n",
      "El intervalo de confianza de votos al 99% es 273692.911\n",
      "(7.9268169461659586, 7.97178305383404)\n",
      "El intervalo de confianza de imdb al 99% es 7.949299999999999\n"
     ]
    }
   ],
   "source": [
    "votos = df_csv['No_of_Votes']\n",
    "imdb = df_csv['IMDB_Rating']\n",
    "\n",
    "print(st.t.interval(alpha=0.99, df=len(votos)-1, loc=np.mean(votos), scale=st.sem(votos)))\n",
    "\n",
    "print(\"El intervalo de confianza de votos al 99% es\", np.mean(votos))\n",
    "\n",
    "print(st.t.interval(alpha=0.99, df=len(imdb)-1, loc=np.mean(imdb), scale=st.sem(imdb)))\n",
    "\n",
    "print(\"El intervalo de confianza de imdb al 99% es\", np.mean(imdb))\n"
   ]
  },
  {
   "attachments": {},
   "cell_type": "markdown",
   "metadata": {},
   "source": [
    "### Interpretación de los resultados.\n",
    "\n",
    "Ahora interpreta los resultados obtenidos de los diferentes estadísticos estudiados haciendo hincapié en aspectos interesantes de tus datos y explica lo mejor posible la naturaleza de los mismos.\n",
    "\n",
    "Datos obtenidos:\n",
    "\n",
    "- Tabla de contingencia\n",
    "\n",
    "Hemos obtenido una tabla en la que cruzábamos la puntuación en meta con los votos obtenidos en cada película y se nos han cruzado dos intervalos. Para cada puntuación se han obtenido intervalos de aproximadamente 20000. Entre los rangos de 20000 y 1400000 es donde se han obtenido más votos.\n",
    "\n",
    "- Coeficiente de correlación:\n",
    "\n",
    "array([[nan, nan],\n",
    "       [nan,  1.]])\n",
    "\n",
    "Aquí la correlación no existe.\n",
    "\n",
    "- Sesgo\n",
    "\n",
    "2.2965591310736615\n",
    "\n",
    "Al ser un sesgo positivo, nuetros datos estarían sesgados hacia la derecha, pero lo que realmente ocurre es que tenemos más películas de mayor metascore (las valoraciones son en decenas frente a IMDB que son unidades), no es que esté sesgada nuestra muestra, sino que es así.\n",
    "\n",
    "- Intervalos de confianza:\n",
    "\n",
    "    · Votos = 273692.911\n",
    "\n",
    "       (246975.76748985777, 300410.0545101423)\n",
    "\n",
    "    · IMDB = 7.949299999999\n",
    "\n",
    "       (7.9268169461659586, 7.97178305383404)\n",
    "\n",
    "Hemos elegido unos intervalos de confianza del 99% que quieren decir que según el número de votos lo más seguro es que estuviera entre 2046975 y 300410, ya que todos nuestros datos tienen números elevados.\n",
    "\n",
    "Para el IMDB, lo más seguro es si le otorgan una calificación a una nueva película que introdujéramos, lo más seguro es que estaría entre esos valores."
   ]
  },
  {
   "cell_type": "markdown",
   "metadata": {},
   "source": []
  }
 ],
 "metadata": {
  "kernelspec": {
   "display_name": "Python 3.9.7 ('base')",
   "language": "python",
   "name": "python3"
  },
  "language_info": {
   "codemirror_mode": {
    "name": "ipython",
    "version": 3
   },
   "file_extension": ".py",
   "mimetype": "text/x-python",
   "name": "python",
   "nbconvert_exporter": "python",
   "pygments_lexer": "ipython3",
   "version": "3.9.7"
  },
  "orig_nbformat": 4,
  "vscode": {
   "interpreter": {
    "hash": "0620710c65b0f5ccc651a2aa8870ae0eb4c70492424a8d7866846658189426a3"
   }
  }
 },
 "nbformat": 4,
 "nbformat_minor": 2
}
