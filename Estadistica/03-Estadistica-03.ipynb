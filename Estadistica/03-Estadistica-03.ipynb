{
 "cells": [
  {
   "cell_type": "code",
   "execution_count": null,
   "metadata": {},
   "outputs": [],
   "source": [
    "import numpy as np\n",
    "from scipy import stats # importando scipy.stats\n",
    "import pandas as pd # importando pandas\n",
    "import matplotlib.pyplot as plt # importando matplotlib\n",
    "import seaborn as sns"
   ]
  },
  {
   "attachments": {},
   "cell_type": "markdown",
   "metadata": {},
   "source": [
    "# Pair Programming Estadística III\n",
    "\n",
    "Vamos ahora a tomar de nuevo el conjunto de datos con el que \n",
    "estuvimos trabajando en los últimos días y vamos a continuar \n",
    "con el análisis de las estadísitcas de los contenidos del conjunto de datos.\n",
    "\n",
    "Para todas los ejercicios de pair programming de\n",
    "Estadística I, II y III usaremos el dataframe que \n",
    "se tome para el desarrollo de este ejercicio de pair programming.\n",
    "\n",
    "Se ruega a la hora de realizar la entrega que incluyais el conjunto de datos que hayais decidido emplear para estos ejercicios.\n",
    "\n",
    "# Objetivos\n",
    "Los objetivos de hoy son:\n",
    " Extraer los siguentes estadísiticos del conjunto de datos para varias de las varibles disponibles:"
   ]
  },
  {
   "attachments": {},
   "cell_type": "markdown",
   "metadata": {},
   "source": [
    "### Tabla de contingencia"
   ]
  },
  {
   "cell_type": "code",
   "execution_count": null,
   "metadata": {},
   "outputs": [],
   "source": []
  },
  {
   "attachments": {},
   "cell_type": "markdown",
   "metadata": {},
   "source": [
    "### Coeficiente de correlación de las variables numéricas del dataset."
   ]
  },
  {
   "cell_type": "code",
   "execution_count": null,
   "metadata": {},
   "outputs": [],
   "source": []
  },
  {
   "attachments": {},
   "cell_type": "markdown",
   "metadata": {},
   "source": [
    "### Sesgos de alguna de las variables numéricas del dataset."
   ]
  },
  {
   "cell_type": "code",
   "execution_count": null,
   "metadata": {},
   "outputs": [],
   "source": []
  },
  {
   "attachments": {},
   "cell_type": "markdown",
   "metadata": {},
   "source": [
    "### Intervalo de confianza de algunas de las variables numéricas del dataset"
   ]
  },
  {
   "cell_type": "code",
   "execution_count": null,
   "metadata": {},
   "outputs": [],
   "source": []
  },
  {
   "attachments": {},
   "cell_type": "markdown",
   "metadata": {},
   "source": [
    "# Interpretación de los resultados.\n",
    "Ahora interpreta los resultados obtenidos de los diferentes estadísticos\n",
    "estudiados haciendo hincapié en aspectos interesantes de tus datos \n",
    "y explica lo mejor posible la naturaleza de los mismos.\n",
    "\n",
    "# Happy coding 📊📈📉"
   ]
  },
  {
   "cell_type": "markdown",
   "metadata": {},
   "source": []
  }
 ],
 "metadata": {
  "language_info": {
   "name": "python"
  },
  "orig_nbformat": 4
 },
 "nbformat": 4,
 "nbformat_minor": 2
}
