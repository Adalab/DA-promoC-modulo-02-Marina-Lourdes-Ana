{
 "cells": [
  {
   "cell_type": "code",
   "execution_count": 19,
   "metadata": {},
   "outputs": [],
   "source": [
    "import numpy as np\n",
    "from scipy import stats # importando scipy.stats\n",
    "import pandas as pd # importando pandas\n",
    "import matplotlib.pyplot as plt # importando matplotlib\n",
    "import seaborn as sns\n",
    "from scipy.stats import skew\n",
    "import scipy.stats as st"
   ]
  },
  {
   "cell_type": "code",
   "execution_count": 20,
   "metadata": {},
   "outputs": [],
   "source": [
    "df = pd.read_csv('04-maskbeliefs.csv', index_col = 0)"
   ]
  },
  {
   "cell_type": "code",
   "execution_count": 21,
   "metadata": {},
   "outputs": [
    {
     "data": {
      "text/html": [
       "<div>\n",
       "<style scoped>\n",
       "    .dataframe tbody tr th:only-of-type {\n",
       "        vertical-align: middle;\n",
       "    }\n",
       "\n",
       "    .dataframe tbody tr th {\n",
       "        vertical-align: top;\n",
       "    }\n",
       "\n",
       "    .dataframe thead th {\n",
       "        text-align: right;\n",
       "    }\n",
       "</style>\n",
       "<table border=\"1\" class=\"dataframe\">\n",
       "  <thead>\n",
       "    <tr style=\"text-align: right;\">\n",
       "      <th></th>\n",
       "      <th>Boarding</th>\n",
       "      <th>Age</th>\n",
       "      <th>Gender</th>\n",
       "      <th>ResidentialElder</th>\n",
       "      <th>InteractedElder</th>\n",
       "      <th>Restaurant</th>\n",
       "      <th>PreventSpread</th>\n",
       "      <th>Reason</th>\n",
       "      <th>Public</th>\n",
       "    </tr>\n",
       "    <tr>\n",
       "      <th>Timestamp</th>\n",
       "      <th></th>\n",
       "      <th></th>\n",
       "      <th></th>\n",
       "      <th></th>\n",
       "      <th></th>\n",
       "      <th></th>\n",
       "      <th></th>\n",
       "      <th></th>\n",
       "      <th></th>\n",
       "    </tr>\n",
       "  </thead>\n",
       "  <tbody>\n",
       "    <tr>\n",
       "      <th>9/25/2020 15:04:43</th>\n",
       "      <td>Day</td>\n",
       "      <td>16</td>\n",
       "      <td>Female</td>\n",
       "      <td>No</td>\n",
       "      <td>Yes</td>\n",
       "      <td>1.0</td>\n",
       "      <td>Yes</td>\n",
       "      <td>To protect yourself AND others</td>\n",
       "      <td>Yes</td>\n",
       "    </tr>\n",
       "    <tr>\n",
       "      <th>9/25/2020 15:04:46</th>\n",
       "      <td>Boarding</td>\n",
       "      <td>17</td>\n",
       "      <td>Male</td>\n",
       "      <td>No</td>\n",
       "      <td>No</td>\n",
       "      <td>2.0</td>\n",
       "      <td>Yes</td>\n",
       "      <td>To protect yourself AND others</td>\n",
       "      <td>Yes</td>\n",
       "    </tr>\n",
       "    <tr>\n",
       "      <th>9/25/2020 15:04:58</th>\n",
       "      <td>Boarding</td>\n",
       "      <td>17</td>\n",
       "      <td>Male</td>\n",
       "      <td>No</td>\n",
       "      <td>Yes</td>\n",
       "      <td>0.0</td>\n",
       "      <td>Yes</td>\n",
       "      <td>To protect yourself AND others</td>\n",
       "      <td>Yes</td>\n",
       "    </tr>\n",
       "    <tr>\n",
       "      <th>9/25/2020 15:05:12</th>\n",
       "      <td>Day</td>\n",
       "      <td>17</td>\n",
       "      <td>Female</td>\n",
       "      <td>No</td>\n",
       "      <td>Yes</td>\n",
       "      <td>2.0</td>\n",
       "      <td>Yes</td>\n",
       "      <td>To protect yourself AND others</td>\n",
       "      <td>Yes</td>\n",
       "    </tr>\n",
       "    <tr>\n",
       "      <th>9/25/2020 15:05:12</th>\n",
       "      <td>Day</td>\n",
       "      <td>17</td>\n",
       "      <td>Female</td>\n",
       "      <td>No</td>\n",
       "      <td>Yes</td>\n",
       "      <td>2.0</td>\n",
       "      <td>Yes</td>\n",
       "      <td>To protect yourself AND others</td>\n",
       "      <td>Yes</td>\n",
       "    </tr>\n",
       "    <tr>\n",
       "      <th>9/25/2020 15:05:15</th>\n",
       "      <td>Boarding</td>\n",
       "      <td>18</td>\n",
       "      <td>Male</td>\n",
       "      <td>No</td>\n",
       "      <td>No</td>\n",
       "      <td>0.0</td>\n",
       "      <td>Yes</td>\n",
       "      <td>To protect other people</td>\n",
       "      <td>No</td>\n",
       "    </tr>\n",
       "    <tr>\n",
       "      <th>9/25/2020 15:05:22</th>\n",
       "      <td>Day</td>\n",
       "      <td>18</td>\n",
       "      <td>Male</td>\n",
       "      <td>No</td>\n",
       "      <td>Yes</td>\n",
       "      <td>3.0</td>\n",
       "      <td>Yes</td>\n",
       "      <td>To protect other people</td>\n",
       "      <td>Yes</td>\n",
       "    </tr>\n",
       "    <tr>\n",
       "      <th>9/25/2020 15:05:30</th>\n",
       "      <td>Day</td>\n",
       "      <td>18</td>\n",
       "      <td>Male</td>\n",
       "      <td>No</td>\n",
       "      <td>Yes</td>\n",
       "      <td>0.0</td>\n",
       "      <td>Yes</td>\n",
       "      <td>Because you are required to</td>\n",
       "      <td>Yes</td>\n",
       "    </tr>\n",
       "    <tr>\n",
       "      <th>9/25/2020 15:05:33</th>\n",
       "      <td>Day</td>\n",
       "      <td>17</td>\n",
       "      <td>Female</td>\n",
       "      <td>No</td>\n",
       "      <td>Yes</td>\n",
       "      <td>1.0</td>\n",
       "      <td>Yes</td>\n",
       "      <td>To protect other people</td>\n",
       "      <td>Yes</td>\n",
       "    </tr>\n",
       "    <tr>\n",
       "      <th>9/25/2020 15:06:16</th>\n",
       "      <td>Boarding</td>\n",
       "      <td>16</td>\n",
       "      <td>Female</td>\n",
       "      <td>No</td>\n",
       "      <td>No</td>\n",
       "      <td>0.0</td>\n",
       "      <td>Yes</td>\n",
       "      <td>To protect yourself AND others</td>\n",
       "      <td>Yes</td>\n",
       "    </tr>\n",
       "    <tr>\n",
       "      <th>9/25/2020 15:06:33</th>\n",
       "      <td>Boarding</td>\n",
       "      <td>18</td>\n",
       "      <td>Female</td>\n",
       "      <td>Yes</td>\n",
       "      <td>No</td>\n",
       "      <td>0.0</td>\n",
       "      <td>Yes</td>\n",
       "      <td>To protect yourself</td>\n",
       "      <td>Yes</td>\n",
       "    </tr>\n",
       "    <tr>\n",
       "      <th>9/25/2020 15:06:35</th>\n",
       "      <td>Boarding</td>\n",
       "      <td>14</td>\n",
       "      <td>Female</td>\n",
       "      <td>No</td>\n",
       "      <td>Yes</td>\n",
       "      <td>6.0</td>\n",
       "      <td>Yes</td>\n",
       "      <td>To protect yourself AND others</td>\n",
       "      <td>No</td>\n",
       "    </tr>\n",
       "    <tr>\n",
       "      <th>9/25/2020 15:06:40</th>\n",
       "      <td>Boarding</td>\n",
       "      <td>16</td>\n",
       "      <td>Male</td>\n",
       "      <td>No</td>\n",
       "      <td>No</td>\n",
       "      <td>0.0</td>\n",
       "      <td>Yes</td>\n",
       "      <td>Because you are required to</td>\n",
       "      <td>No</td>\n",
       "    </tr>\n",
       "    <tr>\n",
       "      <th>9/25/2020 15:08:42</th>\n",
       "      <td>Day</td>\n",
       "      <td>17</td>\n",
       "      <td>Female</td>\n",
       "      <td>No</td>\n",
       "      <td>Yes</td>\n",
       "      <td>0.0</td>\n",
       "      <td>Yes</td>\n",
       "      <td>To protect yourself AND others</td>\n",
       "      <td>Yes</td>\n",
       "    </tr>\n",
       "    <tr>\n",
       "      <th>9/25/2020 15:08:51</th>\n",
       "      <td>Boarding</td>\n",
       "      <td>17</td>\n",
       "      <td>Male</td>\n",
       "      <td>No</td>\n",
       "      <td>Yes</td>\n",
       "      <td>0.0</td>\n",
       "      <td>Yes</td>\n",
       "      <td>To protect other people</td>\n",
       "      <td>No</td>\n",
       "    </tr>\n",
       "  </tbody>\n",
       "</table>\n",
       "</div>"
      ],
      "text/plain": [
       "                    Boarding  Age  Gender ResidentialElder InteractedElder  \\\n",
       "Timestamp                                                                    \n",
       "9/25/2020 15:04:43       Day   16  Female               No             Yes   \n",
       "9/25/2020 15:04:46  Boarding   17    Male               No              No   \n",
       "9/25/2020 15:04:58  Boarding   17    Male               No             Yes   \n",
       "9/25/2020 15:05:12       Day   17  Female               No             Yes   \n",
       "9/25/2020 15:05:12       Day   17  Female               No             Yes   \n",
       "9/25/2020 15:05:15  Boarding   18    Male               No              No   \n",
       "9/25/2020 15:05:22       Day   18    Male               No             Yes   \n",
       "9/25/2020 15:05:30       Day   18    Male               No             Yes   \n",
       "9/25/2020 15:05:33       Day   17  Female               No             Yes   \n",
       "9/25/2020 15:06:16  Boarding   16  Female               No              No   \n",
       "9/25/2020 15:06:33  Boarding   18  Female              Yes              No   \n",
       "9/25/2020 15:06:35  Boarding   14  Female               No             Yes   \n",
       "9/25/2020 15:06:40  Boarding   16    Male               No              No   \n",
       "9/25/2020 15:08:42       Day   17  Female               No             Yes   \n",
       "9/25/2020 15:08:51  Boarding   17    Male               No             Yes   \n",
       "\n",
       "                    Restaurant PreventSpread                          Reason  \\\n",
       "Timestamp                                                                      \n",
       "9/25/2020 15:04:43         1.0           Yes  To protect yourself AND others   \n",
       "9/25/2020 15:04:46         2.0           Yes  To protect yourself AND others   \n",
       "9/25/2020 15:04:58         0.0           Yes  To protect yourself AND others   \n",
       "9/25/2020 15:05:12         2.0           Yes  To protect yourself AND others   \n",
       "9/25/2020 15:05:12         2.0           Yes  To protect yourself AND others   \n",
       "9/25/2020 15:05:15         0.0           Yes         To protect other people   \n",
       "9/25/2020 15:05:22         3.0           Yes         To protect other people   \n",
       "9/25/2020 15:05:30         0.0           Yes     Because you are required to   \n",
       "9/25/2020 15:05:33         1.0           Yes         To protect other people   \n",
       "9/25/2020 15:06:16         0.0           Yes  To protect yourself AND others   \n",
       "9/25/2020 15:06:33         0.0           Yes             To protect yourself   \n",
       "9/25/2020 15:06:35         6.0           Yes  To protect yourself AND others   \n",
       "9/25/2020 15:06:40         0.0           Yes     Because you are required to   \n",
       "9/25/2020 15:08:42         0.0           Yes  To protect yourself AND others   \n",
       "9/25/2020 15:08:51         0.0           Yes         To protect other people   \n",
       "\n",
       "                   Public  \n",
       "Timestamp                  \n",
       "9/25/2020 15:04:43    Yes  \n",
       "9/25/2020 15:04:46    Yes  \n",
       "9/25/2020 15:04:58    Yes  \n",
       "9/25/2020 15:05:12    Yes  \n",
       "9/25/2020 15:05:12    Yes  \n",
       "9/25/2020 15:05:15     No  \n",
       "9/25/2020 15:05:22    Yes  \n",
       "9/25/2020 15:05:30    Yes  \n",
       "9/25/2020 15:05:33    Yes  \n",
       "9/25/2020 15:06:16    Yes  \n",
       "9/25/2020 15:06:33    Yes  \n",
       "9/25/2020 15:06:35     No  \n",
       "9/25/2020 15:06:40     No  \n",
       "9/25/2020 15:08:42    Yes  \n",
       "9/25/2020 15:08:51     No  "
      ]
     },
     "execution_count": 21,
     "metadata": {},
     "output_type": "execute_result"
    }
   ],
   "source": [
    "df.head(15)"
   ]
  },
  {
   "attachments": {},
   "cell_type": "markdown",
   "metadata": {},
   "source": [
    "# Renombramos las columnas para tener buenos nombres y claros"
   ]
  },
  {
   "cell_type": "code",
   "execution_count": 22,
   "metadata": {},
   "outputs": [
    {
     "data": {
      "text/html": [
       "<div>\n",
       "<style scoped>\n",
       "    .dataframe tbody tr th:only-of-type {\n",
       "        vertical-align: middle;\n",
       "    }\n",
       "\n",
       "    .dataframe tbody tr th {\n",
       "        vertical-align: top;\n",
       "    }\n",
       "\n",
       "    .dataframe thead th {\n",
       "        text-align: right;\n",
       "    }\n",
       "</style>\n",
       "<table border=\"1\" class=\"dataframe\">\n",
       "  <thead>\n",
       "    <tr style=\"text-align: right;\">\n",
       "      <th></th>\n",
       "      <th>boarding</th>\n",
       "      <th>age</th>\n",
       "      <th>gender</th>\n",
       "      <th>residentialelder</th>\n",
       "      <th>interactedelder</th>\n",
       "      <th>restaurant</th>\n",
       "      <th>preventspread</th>\n",
       "      <th>reason</th>\n",
       "      <th>public</th>\n",
       "    </tr>\n",
       "    <tr>\n",
       "      <th>Timestamp</th>\n",
       "      <th></th>\n",
       "      <th></th>\n",
       "      <th></th>\n",
       "      <th></th>\n",
       "      <th></th>\n",
       "      <th></th>\n",
       "      <th></th>\n",
       "      <th></th>\n",
       "      <th></th>\n",
       "    </tr>\n",
       "  </thead>\n",
       "  <tbody>\n",
       "    <tr>\n",
       "      <th>9/25/2020 15:04:43</th>\n",
       "      <td>Day</td>\n",
       "      <td>16</td>\n",
       "      <td>Female</td>\n",
       "      <td>No</td>\n",
       "      <td>Yes</td>\n",
       "      <td>1.0</td>\n",
       "      <td>Yes</td>\n",
       "      <td>To protect yourself AND others</td>\n",
       "      <td>Yes</td>\n",
       "    </tr>\n",
       "    <tr>\n",
       "      <th>9/25/2020 15:04:46</th>\n",
       "      <td>Boarding</td>\n",
       "      <td>17</td>\n",
       "      <td>Male</td>\n",
       "      <td>No</td>\n",
       "      <td>No</td>\n",
       "      <td>2.0</td>\n",
       "      <td>Yes</td>\n",
       "      <td>To protect yourself AND others</td>\n",
       "      <td>Yes</td>\n",
       "    </tr>\n",
       "  </tbody>\n",
       "</table>\n",
       "</div>"
      ],
      "text/plain": [
       "                    boarding  age  gender residentialelder interactedelder  \\\n",
       "Timestamp                                                                    \n",
       "9/25/2020 15:04:43       Day   16  Female               No             Yes   \n",
       "9/25/2020 15:04:46  Boarding   17    Male               No              No   \n",
       "\n",
       "                    restaurant preventspread                          reason  \\\n",
       "Timestamp                                                                      \n",
       "9/25/2020 15:04:43         1.0           Yes  To protect yourself AND others   \n",
       "9/25/2020 15:04:46         2.0           Yes  To protect yourself AND others   \n",
       "\n",
       "                   public  \n",
       "Timestamp                  \n",
       "9/25/2020 15:04:43    Yes  \n",
       "9/25/2020 15:04:46    Yes  "
      ]
     },
     "execution_count": 22,
     "metadata": {},
     "output_type": "execute_result"
    }
   ],
   "source": [
    "lista_columnas = {col: col.strip().replace(\" \", \"_\").lower() for col in df.columns}\n",
    "df.rename(columns=lista_columnas, inplace=True)\n",
    "df.head(2)"
   ]
  },
  {
   "cell_type": "code",
   "execution_count": 23,
   "metadata": {},
   "outputs": [
    {
     "name": "stdout",
     "output_type": "stream",
     "text": [
      "El dataframe tiene filas y columnas, respectivamente: (107, 9)\n"
     ]
    }
   ],
   "source": [
    "print(\"El dataframe tiene filas y columnas, respectivamente:\", df.shape)"
   ]
  },
  {
   "cell_type": "code",
   "execution_count": 24,
   "metadata": {},
   "outputs": [
    {
     "data": {
      "text/plain": [
       "boarding            0\n",
       "age                 0\n",
       "gender              1\n",
       "residentialelder    0\n",
       "interactedelder     0\n",
       "restaurant          2\n",
       "preventspread       0\n",
       "reason              0\n",
       "public              0\n",
       "dtype: int64"
      ]
     },
     "execution_count": 24,
     "metadata": {},
     "output_type": "execute_result"
    }
   ],
   "source": [
    "df.isnull().sum()"
   ]
  },
  {
   "cell_type": "code",
   "execution_count": 25,
   "metadata": {},
   "outputs": [
    {
     "name": "stdout",
     "output_type": "stream",
     "text": [
      "El dataframe tiene 18 duplicados.\n"
     ]
    }
   ],
   "source": [
    "print(\"El dataframe tiene\", df.duplicated().sum(), \"duplicados.\")"
   ]
  },
  {
   "cell_type": "code",
   "execution_count": 26,
   "metadata": {},
   "outputs": [
    {
     "name": "stdout",
     "output_type": "stream",
     "text": [
      "<class 'pandas.core.frame.DataFrame'>\n",
      "Index: 107 entries, 9/25/2020 15:04:43 to 9/29/2020 9:56:52\n",
      "Data columns (total 9 columns):\n",
      " #   Column            Non-Null Count  Dtype  \n",
      "---  ------            --------------  -----  \n",
      " 0   boarding          107 non-null    object \n",
      " 1   age               107 non-null    int64  \n",
      " 2   gender            106 non-null    object \n",
      " 3   residentialelder  107 non-null    object \n",
      " 4   interactedelder   107 non-null    object \n",
      " 5   restaurant        105 non-null    float64\n",
      " 6   preventspread     107 non-null    object \n",
      " 7   reason            107 non-null    object \n",
      " 8   public            107 non-null    object \n",
      "dtypes: float64(1), int64(1), object(7)\n",
      "memory usage: 8.4+ KB\n"
     ]
    }
   ],
   "source": [
    "df.info()"
   ]
  },
  {
   "cell_type": "code",
   "execution_count": 27,
   "metadata": {},
   "outputs": [
    {
     "data": {
      "text/plain": [
       "Index(['boarding', 'age', 'gender', 'residentialelder', 'interactedelder',\n",
       "       'restaurant', 'preventspread', 'reason', 'public'],\n",
       "      dtype='object')"
      ]
     },
     "execution_count": 27,
     "metadata": {},
     "output_type": "execute_result"
    }
   ],
   "source": [
    "df.columns"
   ]
  },
  {
   "cell_type": "code",
   "execution_count": 32,
   "metadata": {},
   "outputs": [],
   "source": [
    "df.columns = ['embarque',\n",
    "                'edad',\n",
    "                'genero',\n",
    "                'reside_con_anciano',\n",
    "                'interactua_con_anciano',\n",
    "                'restaurante',\n",
    "                'prevenir_la_propagacion',\n",
    "                'razon',\n",
    "                'publico']"
   ]
  },
  {
   "cell_type": "code",
   "execution_count": 33,
   "metadata": {},
   "outputs": [
    {
     "data": {
      "text/plain": [
       "Index(['embarque', 'edad', 'genero', 'reside_con_anciano',\n",
       "       'interactua_con_anciano', 'restaurante', 'prevenir_la_propagacion',\n",
       "       'razon', 'publico'],\n",
       "      dtype='object')"
      ]
     },
     "execution_count": 33,
     "metadata": {},
     "output_type": "execute_result"
    }
   ],
   "source": [
    "df.columns"
   ]
  },
  {
   "attachments": {},
   "cell_type": "markdown",
   "metadata": {},
   "source": [
    "# lo traducimos para enterarnos mejor"
   ]
  },
  {
   "cell_type": "code",
   "execution_count": 28,
   "metadata": {},
   "outputs": [
    {
     "data": {
      "text/plain": [
       "(107, 9)"
      ]
     },
     "execution_count": 28,
     "metadata": {},
     "output_type": "execute_result"
    }
   ],
   "source": [
    "df.shape"
   ]
  },
  {
   "cell_type": "code",
   "execution_count": 34,
   "metadata": {},
   "outputs": [],
   "source": [
    "#variables cuantitativas\n",
    "edad = df['edad']\n",
    "restaurante = df['restaurante']\n"
   ]
  },
  {
   "cell_type": "code",
   "execution_count": 36,
   "metadata": {},
   "outputs": [],
   "source": [
    "# variables cualitativas\n",
    "genero = df['genero']\n",
    "reside = df['reside_con_anciano']\n",
    "prevenir = df['prevenir_la_propagacion']"
   ]
  },
  {
   "cell_type": "markdown",
   "metadata": {},
   "source": [
    "Plantead una serie de preguntas como las que fuimos contestando en la clase invertida.\n",
    "\n",
    "Contestad a las preguntas planteadas usando los principales estadísticos que hemos aprendid \n",
    "y gráficas que mejor se ajusten."
   ]
  },
  {
   "cell_type": "markdown",
   "metadata": {},
   "source": [
    "Preguntas:\n",
    "- "
   ]
  },
  {
   "attachments": {},
   "cell_type": "markdown",
   "metadata": {},
   "source": [
    "¿quién previene más la enfermedad por genero? "
   ]
  },
  {
   "cell_type": "code",
   "execution_count": 38,
   "metadata": {},
   "outputs": [
    {
     "data": {
      "text/plain": [
       "genero\n",
       "Female    58\n",
       "Male      46\n",
       "Other      2\n",
       "Name: prevenir_la_propagacion, dtype: int64"
      ]
     },
     "execution_count": 38,
     "metadata": {},
     "output_type": "execute_result"
    }
   ],
   "source": [
    "df_p=df.groupby('genero')['prevenir_la_propagacion'].count()\n",
    "df_p"
   ]
  },
  {
   "attachments": {},
   "cell_type": "markdown",
   "metadata": {},
   "source": [
    "Las mujeres"
   ]
  },
  {
   "attachments": {},
   "cell_type": "markdown",
   "metadata": {},
   "source": [
    "¿ y por edad?"
   ]
  },
  {
   "cell_type": "code",
   "execution_count": 39,
   "metadata": {},
   "outputs": [
    {
     "data": {
      "text/plain": [
       "edad\n",
       "12     1\n",
       "14    13\n",
       "15    23\n",
       "16    30\n",
       "17    29\n",
       "18    11\n",
       "Name: prevenir_la_propagacion, dtype: int64"
      ]
     },
     "execution_count": 39,
     "metadata": {},
     "output_type": "execute_result"
    }
   ],
   "source": [
    "df_e = df.groupby('edad')['prevenir_la_propagacion'].count()\n",
    "df_e"
   ]
  },
  {
   "attachments": {},
   "cell_type": "markdown",
   "metadata": {},
   "source": [
    "Los de 16 años"
   ]
  },
  {
   "attachments": {},
   "cell_type": "markdown",
   "metadata": {},
   "source": [
    "# HAcemos una grafica de si previene npor edad"
   ]
  },
  {
   "cell_type": "code",
   "execution_count": 85,
   "metadata": {},
   "outputs": [
    {
     "data": {
      "image/png": "[encoded data removed]",
      "text/plain": [
       "<Figure size 600x200 with 1 Axes>"
      ]
     },
     "metadata": {},
     "output_type": "display_data"
    }
   ],
   "source": [
    "plt.figure(figsize=(6,2))\n",
    "plt.bar(edad, prevenir)\n",
    "plt.xticks(rotation=40)\n",
    "plt.show;"
   ]
  },
  {
   "attachments": {},
   "cell_type": "markdown",
   "metadata": {},
   "source": [
    "Hacer un boxplot para ver la relación entre la edad y la prevención"
   ]
  },
  {
   "cell_type": "code",
   "execution_count": 55,
   "metadata": {},
   "outputs": [
    {
     "data": {
      "image/png": "[encoded data removed]",
      "text/plain": [
       "<Figure size 700x300 with 1 Axes>"
      ]
     },
     "metadata": {},
     "output_type": "display_data"
    }
   ],
   "source": [
    "plt.figure(figsize =(7,3))\n",
    "fig = sns.boxplot(x=edad, y= reside, color=  \"pink\")\n",
    "fig.set(xlabel='edad', ylabel= 'Reside con anciano' )\n",
    "fig.set_title('Relación entre la edad y la residencia con ancianos')\n",
    "plt.show()"
   ]
  },
  {
   "cell_type": "code",
   "execution_count": 56,
   "metadata": {},
   "outputs": [
    {
     "name": "stdout",
     "output_type": "stream",
     "text": [
      "La media de edad es 15.981308411214954\n"
     ]
    }
   ],
   "source": [
    "media = np.mean(edad)\n",
    "print (f'La media de edad es {media}')"
   ]
  },
  {
   "cell_type": "code",
   "execution_count": 80,
   "metadata": {},
   "outputs": [
    {
     "name": "stdout",
     "output_type": "stream",
     "text": [
      "La moda y la frecuencia son (array([16]), array([30]))\n"
     ]
    }
   ],
   "source": [
    "moda, frecuencia = stats.mode(edad)\n",
    "print (f'La moda y la frecuencia son {moda, frecuencia}')"
   ]
  },
  {
   "cell_type": "code",
   "execution_count": null,
   "metadata": {},
   "outputs": [],
   "source": [
    "# Vamos a hacer un countplot para visualizarlo\n",
    "\n",
    "fig, ax = plt.subplots(figsize=(20, 12))\n",
    "\n",
    "plt.title('Frecuencia de los distintos puestos de trabajo')\n",
    "sns.countplot(x = 'job_title', data= df)\n",
    "ax.set_xticklabels(labels = ax.get_xticklabels(), rotation=45, horizontalalignment='right')"
   ]
  },
  {
   "cell_type": "code",
   "execution_count": 60,
   "metadata": {},
   "outputs": [
    {
     "name": "stdout",
     "output_type": "stream",
     "text": [
      "prevenir_la_propagacion  No  Yes\n",
      "genero                          \n",
      "Female                    5   53\n",
      "Male                      2   44\n",
      "Other                     0    2\n"
     ]
    }
   ],
   "source": [
    "data_crosstab = pd.crosstab(genero, \n",
    "                            prevenir) \n",
    "print(data_crosstab) "
   ]
  },
  {
   "attachments": {},
   "cell_type": "markdown",
   "metadata": {},
   "source": [
    "De lo que deducimos que mas mujeres previenen la enfermedad."
   ]
  },
  {
   "cell_type": "code",
   "execution_count": 66,
   "metadata": {},
   "outputs": [
    {
     "name": "stdout",
     "output_type": "stream",
     "text": [
      "-0.31928907046294486\n"
     ]
    }
   ],
   "source": [
    "skewness = skew(edad)\n",
    "print(skewness)"
   ]
  },
  {
   "attachments": {},
   "cell_type": "markdown",
   "metadata": {},
   "source": [
    "Con este numero podemos decir que nuestros datos estan sesgados a la izquierda, aunque si vemos los datos, en realidad, no es asi, es que solo tenemos edades bajas."
   ]
  },
  {
   "cell_type": "code",
   "execution_count": 71,
   "metadata": {},
   "outputs": [],
   "source": [
    "intervalo =(st.t.interval(alpha=0.65, df=len(edad)-1, loc=np.mean(edad), scale=st.sem(edad)))"
   ]
  },
  {
   "cell_type": "code",
   "execution_count": 81,
   "metadata": {},
   "outputs": [
    {
     "name": "stdout",
     "output_type": "stream",
     "text": [
      "Nuestro intervalo de confianza al 95% es(15.868440246028253, 16.094176576401654) La media de edad es 15.981308411214954 Lo que nos indica que esta media esta dentro de nuestro intervalo La moda de nuestros datos es [16]\n"
     ]
    }
   ],
   "source": [
    "print(f'Nuestro intervalo de confianza al 95% es{intervalo}',\n",
    "f'La media de edad es {media}',\n",
    "('Lo que nos indica que esta media esta dentro de nuestro intervalo'),\n",
    "f'La moda de nuestros datos es {moda}')"
   ]
  }
 ],
 "metadata": {
  "kernelspec": {
   "display_name": "base",
   "language": "python",
   "name": "python3"
  },
  "language_info": {
   "codemirror_mode": {
    "name": "ipython",
    "version": 3
   },
   "file_extension": ".py",
   "mimetype": "text/x-python",
   "name": "python",
   "nbconvert_exporter": "python",
   "pygments_lexer": "ipython3",
   "version": "3.9.7"
  },
  "orig_nbformat": 4,
  "vscode": {
   "interpreter": {
    "hash": "f8e782a3a92a384869fb83a8974812ed4d4d199ed3e8c8704ecd8a7536d7fad4"
   }
  }
 },
 "nbformat": 4,
 "nbformat_minor": 2
}
