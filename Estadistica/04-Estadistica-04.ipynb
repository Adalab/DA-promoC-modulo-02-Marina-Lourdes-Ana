{
 "cells": [
  {
   "cell_type": "markdown",
   "metadata": {},
   "source": [
    "### Pair Programming Estadística IV"
   ]
  },
  {
   "cell_type": "code",
   "execution_count": 34,
   "metadata": {},
   "outputs": [],
   "source": [
    "# Importamos las librerías necesarias:\n",
    "\n",
    "import numpy as np\n",
    "from scipy import stats # importando scipy.stats\n",
    "import pandas as pd # importando pandas\n",
    "import matplotlib.pyplot as plt # importando matplotlib\n",
    "import seaborn as sns\n",
    "from scipy.stats import skew\n",
    "import scipy.stats as st"
   ]
  },
  {
   "cell_type": "code",
   "execution_count": 35,
   "metadata": {},
   "outputs": [],
   "source": [
    "# Abrimos el archivo que vamos a usar:\n",
    "\n",
    "df = pd.read_csv('04-maskbeliefs.csv', index_col = 0)"
   ]
  },
  {
   "cell_type": "code",
   "execution_count": 36,
   "metadata": {},
   "outputs": [
    {
     "data": {
      "text/html": [
       "<div>\n",
       "<style scoped>\n",
       "    .dataframe tbody tr th:only-of-type {\n",
       "        vertical-align: middle;\n",
       "    }\n",
       "\n",
       "    .dataframe tbody tr th {\n",
       "        vertical-align: top;\n",
       "    }\n",
       "\n",
       "    .dataframe thead th {\n",
       "        text-align: right;\n",
       "    }\n",
       "</style>\n",
       "<table border=\"1\" class=\"dataframe\">\n",
       "  <thead>\n",
       "    <tr style=\"text-align: right;\">\n",
       "      <th></th>\n",
       "      <th>Boarding</th>\n",
       "      <th>Age</th>\n",
       "      <th>Gender</th>\n",
       "      <th>ResidentialElder</th>\n",
       "      <th>InteractedElder</th>\n",
       "      <th>Restaurant</th>\n",
       "      <th>PreventSpread</th>\n",
       "      <th>Reason</th>\n",
       "      <th>Public</th>\n",
       "    </tr>\n",
       "    <tr>\n",
       "      <th>Timestamp</th>\n",
       "      <th></th>\n",
       "      <th></th>\n",
       "      <th></th>\n",
       "      <th></th>\n",
       "      <th></th>\n",
       "      <th></th>\n",
       "      <th></th>\n",
       "      <th></th>\n",
       "      <th></th>\n",
       "    </tr>\n",
       "  </thead>\n",
       "  <tbody>\n",
       "    <tr>\n",
       "      <th>9/25/2020 15:04:43</th>\n",
       "      <td>Day</td>\n",
       "      <td>16</td>\n",
       "      <td>Female</td>\n",
       "      <td>No</td>\n",
       "      <td>Yes</td>\n",
       "      <td>1.0</td>\n",
       "      <td>Yes</td>\n",
       "      <td>To protect yourself AND others</td>\n",
       "      <td>Yes</td>\n",
       "    </tr>\n",
       "    <tr>\n",
       "      <th>9/25/2020 15:04:46</th>\n",
       "      <td>Boarding</td>\n",
       "      <td>17</td>\n",
       "      <td>Male</td>\n",
       "      <td>No</td>\n",
       "      <td>No</td>\n",
       "      <td>2.0</td>\n",
       "      <td>Yes</td>\n",
       "      <td>To protect yourself AND others</td>\n",
       "      <td>Yes</td>\n",
       "    </tr>\n",
       "    <tr>\n",
       "      <th>9/25/2020 15:04:58</th>\n",
       "      <td>Boarding</td>\n",
       "      <td>17</td>\n",
       "      <td>Male</td>\n",
       "      <td>No</td>\n",
       "      <td>Yes</td>\n",
       "      <td>0.0</td>\n",
       "      <td>Yes</td>\n",
       "      <td>To protect yourself AND others</td>\n",
       "      <td>Yes</td>\n",
       "    </tr>\n",
       "    <tr>\n",
       "      <th>9/25/2020 15:05:12</th>\n",
       "      <td>Day</td>\n",
       "      <td>17</td>\n",
       "      <td>Female</td>\n",
       "      <td>No</td>\n",
       "      <td>Yes</td>\n",
       "      <td>2.0</td>\n",
       "      <td>Yes</td>\n",
       "      <td>To protect yourself AND others</td>\n",
       "      <td>Yes</td>\n",
       "    </tr>\n",
       "    <tr>\n",
       "      <th>9/25/2020 15:05:12</th>\n",
       "      <td>Day</td>\n",
       "      <td>17</td>\n",
       "      <td>Female</td>\n",
       "      <td>No</td>\n",
       "      <td>Yes</td>\n",
       "      <td>2.0</td>\n",
       "      <td>Yes</td>\n",
       "      <td>To protect yourself AND others</td>\n",
       "      <td>Yes</td>\n",
       "    </tr>\n",
       "    <tr>\n",
       "      <th>9/25/2020 15:05:15</th>\n",
       "      <td>Boarding</td>\n",
       "      <td>18</td>\n",
       "      <td>Male</td>\n",
       "      <td>No</td>\n",
       "      <td>No</td>\n",
       "      <td>0.0</td>\n",
       "      <td>Yes</td>\n",
       "      <td>To protect other people</td>\n",
       "      <td>No</td>\n",
       "    </tr>\n",
       "    <tr>\n",
       "      <th>9/25/2020 15:05:22</th>\n",
       "      <td>Day</td>\n",
       "      <td>18</td>\n",
       "      <td>Male</td>\n",
       "      <td>No</td>\n",
       "      <td>Yes</td>\n",
       "      <td>3.0</td>\n",
       "      <td>Yes</td>\n",
       "      <td>To protect other people</td>\n",
       "      <td>Yes</td>\n",
       "    </tr>\n",
       "    <tr>\n",
       "      <th>9/25/2020 15:05:30</th>\n",
       "      <td>Day</td>\n",
       "      <td>18</td>\n",
       "      <td>Male</td>\n",
       "      <td>No</td>\n",
       "      <td>Yes</td>\n",
       "      <td>0.0</td>\n",
       "      <td>Yes</td>\n",
       "      <td>Because you are required to</td>\n",
       "      <td>Yes</td>\n",
       "    </tr>\n",
       "    <tr>\n",
       "      <th>9/25/2020 15:05:33</th>\n",
       "      <td>Day</td>\n",
       "      <td>17</td>\n",
       "      <td>Female</td>\n",
       "      <td>No</td>\n",
       "      <td>Yes</td>\n",
       "      <td>1.0</td>\n",
       "      <td>Yes</td>\n",
       "      <td>To protect other people</td>\n",
       "      <td>Yes</td>\n",
       "    </tr>\n",
       "    <tr>\n",
       "      <th>9/25/2020 15:06:16</th>\n",
       "      <td>Boarding</td>\n",
       "      <td>16</td>\n",
       "      <td>Female</td>\n",
       "      <td>No</td>\n",
       "      <td>No</td>\n",
       "      <td>0.0</td>\n",
       "      <td>Yes</td>\n",
       "      <td>To protect yourself AND others</td>\n",
       "      <td>Yes</td>\n",
       "    </tr>\n",
       "    <tr>\n",
       "      <th>9/25/2020 15:06:33</th>\n",
       "      <td>Boarding</td>\n",
       "      <td>18</td>\n",
       "      <td>Female</td>\n",
       "      <td>Yes</td>\n",
       "      <td>No</td>\n",
       "      <td>0.0</td>\n",
       "      <td>Yes</td>\n",
       "      <td>To protect yourself</td>\n",
       "      <td>Yes</td>\n",
       "    </tr>\n",
       "    <tr>\n",
       "      <th>9/25/2020 15:06:35</th>\n",
       "      <td>Boarding</td>\n",
       "      <td>14</td>\n",
       "      <td>Female</td>\n",
       "      <td>No</td>\n",
       "      <td>Yes</td>\n",
       "      <td>6.0</td>\n",
       "      <td>Yes</td>\n",
       "      <td>To protect yourself AND others</td>\n",
       "      <td>No</td>\n",
       "    </tr>\n",
       "    <tr>\n",
       "      <th>9/25/2020 15:06:40</th>\n",
       "      <td>Boarding</td>\n",
       "      <td>16</td>\n",
       "      <td>Male</td>\n",
       "      <td>No</td>\n",
       "      <td>No</td>\n",
       "      <td>0.0</td>\n",
       "      <td>Yes</td>\n",
       "      <td>Because you are required to</td>\n",
       "      <td>No</td>\n",
       "    </tr>\n",
       "    <tr>\n",
       "      <th>9/25/2020 15:08:42</th>\n",
       "      <td>Day</td>\n",
       "      <td>17</td>\n",
       "      <td>Female</td>\n",
       "      <td>No</td>\n",
       "      <td>Yes</td>\n",
       "      <td>0.0</td>\n",
       "      <td>Yes</td>\n",
       "      <td>To protect yourself AND others</td>\n",
       "      <td>Yes</td>\n",
       "    </tr>\n",
       "    <tr>\n",
       "      <th>9/25/2020 15:08:51</th>\n",
       "      <td>Boarding</td>\n",
       "      <td>17</td>\n",
       "      <td>Male</td>\n",
       "      <td>No</td>\n",
       "      <td>Yes</td>\n",
       "      <td>0.0</td>\n",
       "      <td>Yes</td>\n",
       "      <td>To protect other people</td>\n",
       "      <td>No</td>\n",
       "    </tr>\n",
       "  </tbody>\n",
       "</table>\n",
       "</div>"
      ],
      "text/plain": [
       "                    Boarding  Age  Gender ResidentialElder InteractedElder  \\\n",
       "Timestamp                                                                    \n",
       "9/25/2020 15:04:43       Day   16  Female               No             Yes   \n",
       "9/25/2020 15:04:46  Boarding   17    Male               No              No   \n",
       "9/25/2020 15:04:58  Boarding   17    Male               No             Yes   \n",
       "9/25/2020 15:05:12       Day   17  Female               No             Yes   \n",
       "9/25/2020 15:05:12       Day   17  Female               No             Yes   \n",
       "9/25/2020 15:05:15  Boarding   18    Male               No              No   \n",
       "9/25/2020 15:05:22       Day   18    Male               No             Yes   \n",
       "9/25/2020 15:05:30       Day   18    Male               No             Yes   \n",
       "9/25/2020 15:05:33       Day   17  Female               No             Yes   \n",
       "9/25/2020 15:06:16  Boarding   16  Female               No              No   \n",
       "9/25/2020 15:06:33  Boarding   18  Female              Yes              No   \n",
       "9/25/2020 15:06:35  Boarding   14  Female               No             Yes   \n",
       "9/25/2020 15:06:40  Boarding   16    Male               No              No   \n",
       "9/25/2020 15:08:42       Day   17  Female               No             Yes   \n",
       "9/25/2020 15:08:51  Boarding   17    Male               No             Yes   \n",
       "\n",
       "                    Restaurant PreventSpread                          Reason  \\\n",
       "Timestamp                                                                      \n",
       "9/25/2020 15:04:43         1.0           Yes  To protect yourself AND others   \n",
       "9/25/2020 15:04:46         2.0           Yes  To protect yourself AND others   \n",
       "9/25/2020 15:04:58         0.0           Yes  To protect yourself AND others   \n",
       "9/25/2020 15:05:12         2.0           Yes  To protect yourself AND others   \n",
       "9/25/2020 15:05:12         2.0           Yes  To protect yourself AND others   \n",
       "9/25/2020 15:05:15         0.0           Yes         To protect other people   \n",
       "9/25/2020 15:05:22         3.0           Yes         To protect other people   \n",
       "9/25/2020 15:05:30         0.0           Yes     Because you are required to   \n",
       "9/25/2020 15:05:33         1.0           Yes         To protect other people   \n",
       "9/25/2020 15:06:16         0.0           Yes  To protect yourself AND others   \n",
       "9/25/2020 15:06:33         0.0           Yes             To protect yourself   \n",
       "9/25/2020 15:06:35         6.0           Yes  To protect yourself AND others   \n",
       "9/25/2020 15:06:40         0.0           Yes     Because you are required to   \n",
       "9/25/2020 15:08:42         0.0           Yes  To protect yourself AND others   \n",
       "9/25/2020 15:08:51         0.0           Yes         To protect other people   \n",
       "\n",
       "                   Public  \n",
       "Timestamp                  \n",
       "9/25/2020 15:04:43    Yes  \n",
       "9/25/2020 15:04:46    Yes  \n",
       "9/25/2020 15:04:58    Yes  \n",
       "9/25/2020 15:05:12    Yes  \n",
       "9/25/2020 15:05:12    Yes  \n",
       "9/25/2020 15:05:15     No  \n",
       "9/25/2020 15:05:22    Yes  \n",
       "9/25/2020 15:05:30    Yes  \n",
       "9/25/2020 15:05:33    Yes  \n",
       "9/25/2020 15:06:16    Yes  \n",
       "9/25/2020 15:06:33    Yes  \n",
       "9/25/2020 15:06:35     No  \n",
       "9/25/2020 15:06:40     No  \n",
       "9/25/2020 15:08:42    Yes  \n",
       "9/25/2020 15:08:51     No  "
      ]
     },
     "execution_count": 36,
     "metadata": {},
     "output_type": "execute_result"
    }
   ],
   "source": [
    "df.head(15)"
   ]
  },
  {
   "attachments": {},
   "cell_type": "markdown",
   "metadata": {},
   "source": [
    "Renombramos las columnas:"
   ]
  },
  {
   "cell_type": "code",
   "execution_count": 37,
   "metadata": {},
   "outputs": [
    {
     "data": {
      "text/html": [
       "<div>\n",
       "<style scoped>\n",
       "    .dataframe tbody tr th:only-of-type {\n",
       "        vertical-align: middle;\n",
       "    }\n",
       "\n",
       "    .dataframe tbody tr th {\n",
       "        vertical-align: top;\n",
       "    }\n",
       "\n",
       "    .dataframe thead th {\n",
       "        text-align: right;\n",
       "    }\n",
       "</style>\n",
       "<table border=\"1\" class=\"dataframe\">\n",
       "  <thead>\n",
       "    <tr style=\"text-align: right;\">\n",
       "      <th></th>\n",
       "      <th>boarding</th>\n",
       "      <th>age</th>\n",
       "      <th>gender</th>\n",
       "      <th>residentialelder</th>\n",
       "      <th>interactedelder</th>\n",
       "      <th>restaurant</th>\n",
       "      <th>preventspread</th>\n",
       "      <th>reason</th>\n",
       "      <th>public</th>\n",
       "    </tr>\n",
       "    <tr>\n",
       "      <th>Timestamp</th>\n",
       "      <th></th>\n",
       "      <th></th>\n",
       "      <th></th>\n",
       "      <th></th>\n",
       "      <th></th>\n",
       "      <th></th>\n",
       "      <th></th>\n",
       "      <th></th>\n",
       "      <th></th>\n",
       "    </tr>\n",
       "  </thead>\n",
       "  <tbody>\n",
       "    <tr>\n",
       "      <th>9/25/2020 15:04:43</th>\n",
       "      <td>Day</td>\n",
       "      <td>16</td>\n",
       "      <td>Female</td>\n",
       "      <td>No</td>\n",
       "      <td>Yes</td>\n",
       "      <td>1.0</td>\n",
       "      <td>Yes</td>\n",
       "      <td>To protect yourself AND others</td>\n",
       "      <td>Yes</td>\n",
       "    </tr>\n",
       "    <tr>\n",
       "      <th>9/25/2020 15:04:46</th>\n",
       "      <td>Boarding</td>\n",
       "      <td>17</td>\n",
       "      <td>Male</td>\n",
       "      <td>No</td>\n",
       "      <td>No</td>\n",
       "      <td>2.0</td>\n",
       "      <td>Yes</td>\n",
       "      <td>To protect yourself AND others</td>\n",
       "      <td>Yes</td>\n",
       "    </tr>\n",
       "  </tbody>\n",
       "</table>\n",
       "</div>"
      ],
      "text/plain": [
       "                    boarding  age  gender residentialelder interactedelder  \\\n",
       "Timestamp                                                                    \n",
       "9/25/2020 15:04:43       Day   16  Female               No             Yes   \n",
       "9/25/2020 15:04:46  Boarding   17    Male               No              No   \n",
       "\n",
       "                    restaurant preventspread                          reason  \\\n",
       "Timestamp                                                                      \n",
       "9/25/2020 15:04:43         1.0           Yes  To protect yourself AND others   \n",
       "9/25/2020 15:04:46         2.0           Yes  To protect yourself AND others   \n",
       "\n",
       "                   public  \n",
       "Timestamp                  \n",
       "9/25/2020 15:04:43    Yes  \n",
       "9/25/2020 15:04:46    Yes  "
      ]
     },
     "execution_count": 37,
     "metadata": {},
     "output_type": "execute_result"
    }
   ],
   "source": [
    "lista_columnas = {col: col.strip().replace(\" \", \"_\").lower() for col in df.columns}\n",
    "df.rename(columns=lista_columnas, inplace=True)\n",
    "df.head(2)"
   ]
  },
  {
   "cell_type": "code",
   "execution_count": 38,
   "metadata": {},
   "outputs": [
    {
     "name": "stdout",
     "output_type": "stream",
     "text": [
      "El dataframe tiene filas y columnas, respectivamente: (107, 9)\n"
     ]
    }
   ],
   "source": [
    "print(\"El dataframe tiene filas y columnas, respectivamente:\", df.shape)"
   ]
  },
  {
   "cell_type": "code",
   "execution_count": 39,
   "metadata": {},
   "outputs": [
    {
     "data": {
      "text/plain": [
       "boarding            0\n",
       "age                 0\n",
       "gender              1\n",
       "residentialelder    0\n",
       "interactedelder     0\n",
       "restaurant          2\n",
       "preventspread       0\n",
       "reason              0\n",
       "public              0\n",
       "dtype: int64"
      ]
     },
     "execution_count": 39,
     "metadata": {},
     "output_type": "execute_result"
    }
   ],
   "source": [
    "df.isnull().sum()"
   ]
  },
  {
   "cell_type": "code",
   "execution_count": 40,
   "metadata": {},
   "outputs": [
    {
     "name": "stdout",
     "output_type": "stream",
     "text": [
      "El dataframe tiene 18 duplicados.\n"
     ]
    }
   ],
   "source": [
    "print(\"El dataframe tiene\", df.duplicated().sum(), \"duplicados.\")"
   ]
  },
  {
   "cell_type": "code",
   "execution_count": 41,
   "metadata": {},
   "outputs": [
    {
     "name": "stdout",
     "output_type": "stream",
     "text": [
      "<class 'pandas.core.frame.DataFrame'>\n",
      "Index: 107 entries, 9/25/2020 15:04:43 to 9/29/2020 9:56:52\n",
      "Data columns (total 9 columns):\n",
      " #   Column            Non-Null Count  Dtype  \n",
      "---  ------            --------------  -----  \n",
      " 0   boarding          107 non-null    object \n",
      " 1   age               107 non-null    int64  \n",
      " 2   gender            106 non-null    object \n",
      " 3   residentialelder  107 non-null    object \n",
      " 4   interactedelder   107 non-null    object \n",
      " 5   restaurant        105 non-null    float64\n",
      " 6   preventspread     107 non-null    object \n",
      " 7   reason            107 non-null    object \n",
      " 8   public            107 non-null    object \n",
      "dtypes: float64(1), int64(1), object(7)\n",
      "memory usage: 8.4+ KB\n"
     ]
    }
   ],
   "source": [
    "df.info()"
   ]
  },
  {
   "cell_type": "code",
   "execution_count": 42,
   "metadata": {},
   "outputs": [
    {
     "data": {
      "text/plain": [
       "Index(['boarding', 'age', 'gender', 'residentialelder', 'interactedelder',\n",
       "       'restaurant', 'preventspread', 'reason', 'public'],\n",
       "      dtype='object')"
      ]
     },
     "execution_count": 42,
     "metadata": {},
     "output_type": "execute_result"
    }
   ],
   "source": [
    "df.columns"
   ]
  },
  {
   "cell_type": "code",
   "execution_count": 43,
   "metadata": {},
   "outputs": [],
   "source": [
    "df.columns = ['embarque',\n",
    "                'edad',\n",
    "                'genero',\n",
    "                'reside_con_anciano',\n",
    "                'interactua_con_anciano',\n",
    "                'restaurante',\n",
    "                'prevenir_la_propagacion',\n",
    "                'razon',\n",
    "                'publico']"
   ]
  },
  {
   "cell_type": "code",
   "execution_count": 44,
   "metadata": {},
   "outputs": [
    {
     "data": {
      "text/plain": [
       "Index(['embarque', 'edad', 'genero', 'reside_con_anciano',\n",
       "       'interactua_con_anciano', 'restaurante', 'prevenir_la_propagacion',\n",
       "       'razon', 'publico'],\n",
       "      dtype='object')"
      ]
     },
     "execution_count": 44,
     "metadata": {},
     "output_type": "execute_result"
    }
   ],
   "source": [
    "df.columns"
   ]
  },
  {
   "attachments": {},
   "cell_type": "markdown",
   "metadata": {},
   "source": [
    "Traducimos los términos al español:"
   ]
  },
  {
   "cell_type": "code",
   "execution_count": 45,
   "metadata": {},
   "outputs": [
    {
     "data": {
      "text/plain": [
       "(107, 9)"
      ]
     },
     "execution_count": 45,
     "metadata": {},
     "output_type": "execute_result"
    }
   ],
   "source": [
    "df.shape"
   ]
  },
  {
   "cell_type": "code",
   "execution_count": 46,
   "metadata": {},
   "outputs": [],
   "source": [
    "# Cuantitativas:\n",
    "\n",
    "edad = df['edad']\n",
    "restaurante = df['restaurante']\n"
   ]
  },
  {
   "cell_type": "code",
   "execution_count": 47,
   "metadata": {},
   "outputs": [],
   "source": [
    "# Cualitativas:\n",
    "\n",
    "genero = df['genero']\n",
    "reside = df['reside_con_anciano']\n",
    "prevenir = df['prevenir_la_propagacion']"
   ]
  },
  {
   "cell_type": "markdown",
   "metadata": {},
   "source": [
    "Plantead una serie de preguntas como las que fuimos contestando en la clase invertida.\n",
    "\n",
    "Contestad a las preguntas planteadas usando los principales estadísticos que hemos aprendid \n",
    "y gráficas que mejor se ajusten."
   ]
  },
  {
   "cell_type": "markdown",
   "metadata": {},
   "source": [
    "Preguntas:"
   ]
  },
  {
   "attachments": {},
   "cell_type": "markdown",
   "metadata": {},
   "source": [
    "- ¿Quién previene más la enfermedad por genero? "
   ]
  },
  {
   "cell_type": "code",
   "execution_count": 48,
   "metadata": {},
   "outputs": [
    {
     "data": {
      "text/plain": [
       "genero\n",
       "Female    58\n",
       "Male      46\n",
       "Other      2\n",
       "Name: prevenir_la_propagacion, dtype: int64"
      ]
     },
     "execution_count": 48,
     "metadata": {},
     "output_type": "execute_result"
    }
   ],
   "source": [
    "df_p=df.groupby('genero')['prevenir_la_propagacion'].count()\n",
    "df_p"
   ]
  },
  {
   "attachments": {},
   "cell_type": "markdown",
   "metadata": {},
   "source": [
    "Las mujeres."
   ]
  },
  {
   "attachments": {},
   "cell_type": "markdown",
   "metadata": {},
   "source": [
    "- ¿Y por edad?"
   ]
  },
  {
   "cell_type": "code",
   "execution_count": 49,
   "metadata": {},
   "outputs": [
    {
     "data": {
      "text/plain": [
       "edad\n",
       "12     1\n",
       "14    13\n",
       "15    23\n",
       "16    30\n",
       "17    29\n",
       "18    11\n",
       "Name: prevenir_la_propagacion, dtype: int64"
      ]
     },
     "execution_count": 49,
     "metadata": {},
     "output_type": "execute_result"
    }
   ],
   "source": [
    "df_e = df.groupby('edad')['prevenir_la_propagacion'].count()\n",
    "df_e"
   ]
  },
  {
   "attachments": {},
   "cell_type": "markdown",
   "metadata": {},
   "source": [
    "Las personas de 16 años."
   ]
  },
  {
   "attachments": {},
   "cell_type": "markdown",
   "metadata": {},
   "source": [
    "¿Piensan los jóvenes que las mascarillas previenen de verdad?"
   ]
  },
  {
   "cell_type": "code",
   "execution_count": 50,
   "metadata": {},
   "outputs": [
    {
     "data": {
      "image/png": "[encoded data removed]",
      "text/plain": [
       "<Figure size 432x144 with 1 Axes>"
      ]
     },
     "metadata": {
      "needs_background": "light"
     },
     "output_type": "display_data"
    }
   ],
   "source": [
    "plt.figure(figsize=(6,2))\n",
    "plt.bar(edad, prevenir)\n",
    "plt.xticks(rotation=40)\n",
    "plt.show;"
   ]
  },
  {
   "attachments": {},
   "cell_type": "markdown",
   "metadata": {},
   "source": [
    "Hacemos un boxplot para ver la relación entre la edad y la prevención:"
   ]
  },
  {
   "cell_type": "code",
   "execution_count": 51,
   "metadata": {},
   "outputs": [
    {
     "data": {
      "image/png": "[encoded data removed]",
      "text/plain": [
       "<Figure size 504x216 with 1 Axes>"
      ]
     },
     "metadata": {
      "needs_background": "light"
     },
     "output_type": "display_data"
    }
   ],
   "source": [
    "plt.figure(figsize =(7,3))\n",
    "fig = sns.boxplot(x = edad, y = reside, color =  \"pink\")\n",
    "fig.set(xlabel = \"edad\", ylabel = \"Reside con anciano\")\n",
    "fig.set_title(\"Relación entre la edad y la residencia con ancianos\")\n",
    "plt.show()"
   ]
  },
  {
   "cell_type": "code",
   "execution_count": 52,
   "metadata": {},
   "outputs": [
    {
     "name": "stdout",
     "output_type": "stream",
     "text": [
      "La media de edad es 15.981308411214954\n"
     ]
    }
   ],
   "source": [
    "media = np.mean(edad)\n",
    "print (f'La media de edad es {media}')"
   ]
  },
  {
   "cell_type": "code",
   "execution_count": 53,
   "metadata": {},
   "outputs": [
    {
     "name": "stdout",
     "output_type": "stream",
     "text": [
      "La moda y la frecuencia son (array([16]), array([30]))\n"
     ]
    }
   ],
   "source": [
    "moda, frecuencia = stats.mode(edad)\n",
    "print (f'La moda y la frecuencia son {moda, frecuencia}')"
   ]
  },
  {
   "cell_type": "code",
   "execution_count": 54,
   "metadata": {},
   "outputs": [
    {
     "ename": "ValueError",
     "evalue": "Could not interpret input 'job_title'",
     "output_type": "error",
     "traceback": [
      "\u001b[0;31m---------------------------------------------------------------------------\u001b[0m",
      "\u001b[0;31mValueError\u001b[0m                                Traceback (most recent call last)",
      "\u001b[0;32m/tmp/ipykernel_28001/4187152443.py\u001b[0m in \u001b[0;36m<module>\u001b[0;34m\u001b[0m\n\u001b[1;32m      4\u001b[0m \u001b[0;34m\u001b[0m\u001b[0m\n\u001b[1;32m      5\u001b[0m \u001b[0mplt\u001b[0m\u001b[0;34m.\u001b[0m\u001b[0mtitle\u001b[0m\u001b[0;34m(\u001b[0m\u001b[0;34m'Frecuencia de los distintos puestos de trabajo'\u001b[0m\u001b[0;34m)\u001b[0m\u001b[0;34m\u001b[0m\u001b[0;34m\u001b[0m\u001b[0m\n\u001b[0;32m----> 6\u001b[0;31m \u001b[0msns\u001b[0m\u001b[0;34m.\u001b[0m\u001b[0mcountplot\u001b[0m\u001b[0;34m(\u001b[0m\u001b[0mx\u001b[0m \u001b[0;34m=\u001b[0m \u001b[0;34m'job_title'\u001b[0m\u001b[0;34m,\u001b[0m \u001b[0mdata\u001b[0m\u001b[0;34m=\u001b[0m \u001b[0mdf\u001b[0m\u001b[0;34m)\u001b[0m\u001b[0;34m\u001b[0m\u001b[0;34m\u001b[0m\u001b[0m\n\u001b[0m\u001b[1;32m      7\u001b[0m \u001b[0max\u001b[0m\u001b[0;34m.\u001b[0m\u001b[0mset_xticklabels\u001b[0m\u001b[0;34m(\u001b[0m\u001b[0mlabels\u001b[0m \u001b[0;34m=\u001b[0m \u001b[0max\u001b[0m\u001b[0;34m.\u001b[0m\u001b[0mget_xticklabels\u001b[0m\u001b[0;34m(\u001b[0m\u001b[0;34m)\u001b[0m\u001b[0;34m,\u001b[0m \u001b[0mrotation\u001b[0m\u001b[0;34m=\u001b[0m\u001b[0;36m45\u001b[0m\u001b[0;34m,\u001b[0m \u001b[0mhorizontalalignment\u001b[0m\u001b[0;34m=\u001b[0m\u001b[0;34m'right'\u001b[0m\u001b[0;34m)\u001b[0m\u001b[0;34m\u001b[0m\u001b[0;34m\u001b[0m\u001b[0m\n",
      "\u001b[0;32m~/anaconda3/lib/python3.9/site-packages/seaborn/_decorators.py\u001b[0m in \u001b[0;36minner_f\u001b[0;34m(*args, **kwargs)\u001b[0m\n\u001b[1;32m     44\u001b[0m             )\n\u001b[1;32m     45\u001b[0m         \u001b[0mkwargs\u001b[0m\u001b[0;34m.\u001b[0m\u001b[0mupdate\u001b[0m\u001b[0;34m(\u001b[0m\u001b[0;34m{\u001b[0m\u001b[0mk\u001b[0m\u001b[0;34m:\u001b[0m \u001b[0marg\u001b[0m \u001b[0;32mfor\u001b[0m \u001b[0mk\u001b[0m\u001b[0;34m,\u001b[0m \u001b[0marg\u001b[0m \u001b[0;32min\u001b[0m \u001b[0mzip\u001b[0m\u001b[0;34m(\u001b[0m\u001b[0msig\u001b[0m\u001b[0;34m.\u001b[0m\u001b[0mparameters\u001b[0m\u001b[0;34m,\u001b[0m \u001b[0margs\u001b[0m\u001b[0;34m)\u001b[0m\u001b[0;34m}\u001b[0m\u001b[0;34m)\u001b[0m\u001b[0;34m\u001b[0m\u001b[0;34m\u001b[0m\u001b[0m\n\u001b[0;32m---> 46\u001b[0;31m         \u001b[0;32mreturn\u001b[0m \u001b[0mf\u001b[0m\u001b[0;34m(\u001b[0m\u001b[0;34m**\u001b[0m\u001b[0mkwargs\u001b[0m\u001b[0;34m)\u001b[0m\u001b[0;34m\u001b[0m\u001b[0;34m\u001b[0m\u001b[0m\n\u001b[0m\u001b[1;32m     47\u001b[0m     \u001b[0;32mreturn\u001b[0m \u001b[0minner_f\u001b[0m\u001b[0;34m\u001b[0m\u001b[0;34m\u001b[0m\u001b[0m\n\u001b[1;32m     48\u001b[0m \u001b[0;34m\u001b[0m\u001b[0m\n",
      "\u001b[0;32m~/anaconda3/lib/python3.9/site-packages/seaborn/categorical.py\u001b[0m in \u001b[0;36mcountplot\u001b[0;34m(x, y, hue, data, order, hue_order, orient, color, palette, saturation, dodge, ax, **kwargs)\u001b[0m\n\u001b[1;32m   3596\u001b[0m         \u001b[0;32mraise\u001b[0m \u001b[0mValueError\u001b[0m\u001b[0;34m(\u001b[0m\u001b[0;34m\"Cannot pass values for both `x` and `y`\"\u001b[0m\u001b[0;34m)\u001b[0m\u001b[0;34m\u001b[0m\u001b[0;34m\u001b[0m\u001b[0m\n\u001b[1;32m   3597\u001b[0m \u001b[0;34m\u001b[0m\u001b[0m\n\u001b[0;32m-> 3598\u001b[0;31m     plotter = _CountPlotter(\n\u001b[0m\u001b[1;32m   3599\u001b[0m         \u001b[0mx\u001b[0m\u001b[0;34m,\u001b[0m \u001b[0my\u001b[0m\u001b[0;34m,\u001b[0m \u001b[0mhue\u001b[0m\u001b[0;34m,\u001b[0m \u001b[0mdata\u001b[0m\u001b[0;34m,\u001b[0m \u001b[0morder\u001b[0m\u001b[0;34m,\u001b[0m \u001b[0mhue_order\u001b[0m\u001b[0;34m,\u001b[0m\u001b[0;34m\u001b[0m\u001b[0;34m\u001b[0m\u001b[0m\n\u001b[1;32m   3600\u001b[0m         \u001b[0mestimator\u001b[0m\u001b[0;34m,\u001b[0m \u001b[0mci\u001b[0m\u001b[0;34m,\u001b[0m \u001b[0mn_boot\u001b[0m\u001b[0;34m,\u001b[0m \u001b[0munits\u001b[0m\u001b[0;34m,\u001b[0m \u001b[0mseed\u001b[0m\u001b[0;34m,\u001b[0m\u001b[0;34m\u001b[0m\u001b[0;34m\u001b[0m\u001b[0m\n",
      "\u001b[0;32m~/anaconda3/lib/python3.9/site-packages/seaborn/categorical.py\u001b[0m in \u001b[0;36m__init__\u001b[0;34m(self, x, y, hue, data, order, hue_order, estimator, ci, n_boot, units, seed, orient, color, palette, saturation, errcolor, errwidth, capsize, dodge)\u001b[0m\n\u001b[1;32m   1582\u001b[0m                  errwidth, capsize, dodge):\n\u001b[1;32m   1583\u001b[0m         \u001b[0;34m\"\"\"Initialize the plotter.\"\"\"\u001b[0m\u001b[0;34m\u001b[0m\u001b[0;34m\u001b[0m\u001b[0m\n\u001b[0;32m-> 1584\u001b[0;31m         self.establish_variables(x, y, hue, data, orient,\n\u001b[0m\u001b[1;32m   1585\u001b[0m                                  order, hue_order, units)\n\u001b[1;32m   1586\u001b[0m         \u001b[0mself\u001b[0m\u001b[0;34m.\u001b[0m\u001b[0mestablish_colors\u001b[0m\u001b[0;34m(\u001b[0m\u001b[0mcolor\u001b[0m\u001b[0;34m,\u001b[0m \u001b[0mpalette\u001b[0m\u001b[0;34m,\u001b[0m \u001b[0msaturation\u001b[0m\u001b[0;34m)\u001b[0m\u001b[0;34m\u001b[0m\u001b[0;34m\u001b[0m\u001b[0m\n",
      "\u001b[0;32m~/anaconda3/lib/python3.9/site-packages/seaborn/categorical.py\u001b[0m in \u001b[0;36mestablish_variables\u001b[0;34m(self, x, y, hue, data, orient, order, hue_order, units)\u001b[0m\n\u001b[1;32m    151\u001b[0m                 \u001b[0;32mif\u001b[0m \u001b[0misinstance\u001b[0m\u001b[0;34m(\u001b[0m\u001b[0mvar\u001b[0m\u001b[0;34m,\u001b[0m \u001b[0mstr\u001b[0m\u001b[0;34m)\u001b[0m\u001b[0;34m:\u001b[0m\u001b[0;34m\u001b[0m\u001b[0;34m\u001b[0m\u001b[0m\n\u001b[1;32m    152\u001b[0m                     \u001b[0merr\u001b[0m \u001b[0;34m=\u001b[0m \u001b[0;34m\"Could not interpret input '{}'\"\u001b[0m\u001b[0;34m.\u001b[0m\u001b[0mformat\u001b[0m\u001b[0;34m(\u001b[0m\u001b[0mvar\u001b[0m\u001b[0;34m)\u001b[0m\u001b[0;34m\u001b[0m\u001b[0;34m\u001b[0m\u001b[0m\n\u001b[0;32m--> 153\u001b[0;31m                     \u001b[0;32mraise\u001b[0m \u001b[0mValueError\u001b[0m\u001b[0;34m(\u001b[0m\u001b[0merr\u001b[0m\u001b[0;34m)\u001b[0m\u001b[0;34m\u001b[0m\u001b[0;34m\u001b[0m\u001b[0m\n\u001b[0m\u001b[1;32m    154\u001b[0m \u001b[0;34m\u001b[0m\u001b[0m\n\u001b[1;32m    155\u001b[0m             \u001b[0;31m# Figure out the plotting orientation\u001b[0m\u001b[0;34m\u001b[0m\u001b[0;34m\u001b[0m\u001b[0m\n",
      "\u001b[0;31mValueError\u001b[0m: Could not interpret input 'job_title'"
     ]
    },
    {
     "data": {
      "image/png": "[encoded data removed]",
      "text/plain": [
       "<Figure size 1440x864 with 1 Axes>"
      ]
     },
     "metadata": {
      "needs_background": "light"
     },
     "output_type": "display_data"
    }
   ],
   "source": [
    "# Vamos a hacer un countplot para visualizarlo:\n",
    "\n",
    "fig, ax = plt.subplots(figsize=(20, 12))\n",
    "\n",
    "plt.title('Frecuencia de los distintos puestos de trabajo')\n",
    "sns.countplot(x = 'job_title', data= df)\n",
    "ax.set_xticklabels(labels = ax.get_xticklabels(), rotation=45, horizontalalignment='right')"
   ]
  },
  {
   "cell_type": "code",
   "execution_count": 55,
   "metadata": {},
   "outputs": [
    {
     "name": "stdout",
     "output_type": "stream",
     "text": [
      "prevenir_la_propagacion  No  Yes\n",
      "genero                          \n",
      "Female                    5   53\n",
      "Male                      2   44\n",
      "Other                     0    2\n"
     ]
    }
   ],
   "source": [
    "data_crosstab = pd.crosstab(genero, \n",
    "                            prevenir) \n",
    "print(data_crosstab) "
   ]
  },
  {
   "attachments": {},
   "cell_type": "markdown",
   "metadata": {},
   "source": [
    "De lo que deducimos que mas mujeres previenen la enfermedad."
   ]
  },
  {
   "cell_type": "code",
   "execution_count": 56,
   "metadata": {},
   "outputs": [
    {
     "name": "stdout",
     "output_type": "stream",
     "text": [
      "-0.31928907046294486\n"
     ]
    }
   ],
   "source": [
    "skewness = skew(edad)\n",
    "print(skewness)"
   ]
  },
  {
   "attachments": {},
   "cell_type": "markdown",
   "metadata": {},
   "source": [
    "Con este numero podemos decir que nuestros datos estan sesgados a la izquierda, aunque si vemos los datos, en realidad, no es asi, es que solo tenemos edades bajas."
   ]
  },
  {
   "cell_type": "code",
   "execution_count": 57,
   "metadata": {},
   "outputs": [],
   "source": [
    "intervalo =(st.t.interval(alpha=0.65, df=len(edad)-1, loc=np.mean(edad), scale=st.sem(edad)))"
   ]
  },
  {
   "cell_type": "code",
   "execution_count": 58,
   "metadata": {},
   "outputs": [
    {
     "name": "stdout",
     "output_type": "stream",
     "text": [
      "Nuestro intervalo de confianza al 95% es(15.868440246028253, 16.094176576401654) La media de edad es 15.981308411214954 Lo que nos indica que esta media esta dentro de nuestro intervalo La moda de nuestros datos es [16]\n"
     ]
    }
   ],
   "source": [
    "print(f'Nuestro intervalo de confianza al 95% es{intervalo}',\n",
    "f'La media de edad es {media}',\n",
    "('Lo que nos indica que esta media esta dentro de nuestro intervalo'),\n",
    "f'La moda de nuestros datos es {moda}')"
   ]
  }
 ],
 "metadata": {
  "kernelspec": {
   "display_name": "Python 3.9.7 ('base')",
   "language": "python",
   "name": "python3"
  },
  "language_info": {
   "codemirror_mode": {
    "name": "ipython",
    "version": 3
   },
   "file_extension": ".py",
   "mimetype": "text/x-python",
   "name": "python",
   "nbconvert_exporter": "python",
   "pygments_lexer": "ipython3",
   "version": "3.9.7"
  },
  "orig_nbformat": 4,
  "vscode": {
   "interpreter": {
    "hash": "0620710c65b0f5ccc651a2aa8870ae0eb4c70492424a8d7866846658189426a3"
   }
  }
 },
 "nbformat": 4,
 "nbformat_minor": 2
}
