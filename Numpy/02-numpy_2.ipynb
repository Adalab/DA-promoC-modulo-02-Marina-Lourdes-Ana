{
 "cells": [
  {
   "cell_type": "code",
   "execution_count": 1,
   "metadata": {},
   "outputs": [],
   "source": [
    "import  numpy as np\n",
    "import pandas as pd"
   ]
  },
  {
   "cell_type": "markdown",
   "metadata": {},
   "source": [
    "# Pair Programming NumPy II"
   ]
  },
  {
   "cell_type": "code",
   "execution_count": null,
   "metadata": {},
   "outputs": [],
   "source": [
    "# Seguimos trabajando con NumPy, en este caso practicaremos \n",
    "# como acceder a distintos elementos de nuestros arrays y como cambiar\n",
    "#  su forma para poder hacer operaciones entre varios arrays.\n",
    "\n",
    "# Cread un array de dos dimensiones de 5 filas y 3 columnas. \n",
    "# Sobre el array creado anteriormente, extraed:\n",
    "# El valor de la primera fila y la segunda columna.\n",
    "# Los valores de la segunda fila y las dos primeras columnas.\n",
    "# Extraed las filas pares (incluyendo la 0) y todas las columnas.\n",
    "# Extraed los valores que sean mayores que 0.5.\n",
    "# Extraed los valores menores que 0.2 o mayores que 0.5"
   ]
  },
  {
   "cell_type": "code",
   "execution_count": 3,
   "metadata": {},
   "outputs": [
    {
     "data": {
      "text/plain": [
       "array([[0.95193536, 0.6341301 , 0.31405466],\n",
       "       [0.2294092 , 0.12720547, 0.19661694],\n",
       "       [0.50156404, 0.39985366, 0.917799  ],\n",
       "       [0.65255853, 0.57362053, 0.33953027],\n",
       "       [0.52854623, 0.81127364, 0.89057597]])"
      ]
     },
     "execution_count": 3,
     "metadata": {},
     "output_type": "execute_result"
    }
   ],
   "source": [
    "bidimensional = np.random.rand (5,3)\n",
    "bidimensional"
   ]
  },
  {
   "cell_type": "code",
   "execution_count": 4,
   "metadata": {},
   "outputs": [
    {
     "data": {
      "text/plain": [
       "0.6341300964474743"
      ]
     },
     "execution_count": 4,
     "metadata": {},
     "output_type": "execute_result"
    }
   ],
   "source": [
    "# El valor de la primera fila y la segunda columna.\n",
    "bidimensional[0,1]"
   ]
  },
  {
   "cell_type": "code",
   "execution_count": 5,
   "metadata": {},
   "outputs": [
    {
     "data": {
      "text/plain": [
       "array([0.2294092 , 0.12720547])"
      ]
     },
     "execution_count": 5,
     "metadata": {},
     "output_type": "execute_result"
    }
   ],
   "source": [
    "# Los valores de la segunda fila y las dos primeras columnas.\n",
    "bidimensional [1,:2]"
   ]
  },
  {
   "cell_type": "code",
   "execution_count": null,
   "metadata": {},
   "outputs": [],
   "source": [
    "# Extraed las filas pares (incluyendo la 0) y todas las columnas.\n",
    "# Extraed los valores que sean mayores que 0.5.\n",
    "# Extraed los valores menores que 0.2 o mayores que 0.5"
   ]
  },
  {
   "cell_type": "code",
   "execution_count": 7,
   "metadata": {},
   "outputs": [
    {
     "data": {
      "text/plain": [
       "array([[0.95193536, 0.6341301 , 0.31405466],\n",
       "       [0.50156404, 0.39985366, 0.917799  ],\n",
       "       [0.52854623, 0.81127364, 0.89057597]])"
      ]
     },
     "execution_count": 7,
     "metadata": {},
     "output_type": "execute_result"
    }
   ],
   "source": [
    "bidimensional[::2,:]"
   ]
  },
  {
   "cell_type": "code",
   "execution_count": 8,
   "metadata": {},
   "outputs": [
    {
     "data": {
      "text/plain": [
       "array([0.95193536, 0.6341301 , 0.50156404, 0.917799  , 0.65255853,\n",
       "       0.57362053, 0.52854623, 0.81127364, 0.89057597])"
      ]
     },
     "execution_count": 8,
     "metadata": {},
     "output_type": "execute_result"
    }
   ],
   "source": [
    "bidimensional[bidimensional>0.5]"
   ]
  },
  {
   "cell_type": "code",
   "execution_count": 10,
   "metadata": {},
   "outputs": [
    {
     "data": {
      "text/plain": [
       "array([0.95193536, 0.6341301 , 0.12720547, 0.19661694, 0.50156404,\n",
       "       0.917799  , 0.65255853, 0.57362053, 0.52854623, 0.81127364,\n",
       "       0.89057597])"
      ]
     },
     "execution_count": 10,
     "metadata": {},
     "output_type": "execute_result"
    }
   ],
   "source": [
    "bidimensional [(bidimensional<0.2)|(bidimensional>0.5)]"
   ]
  },
  {
   "cell_type": "code",
   "execution_count": null,
   "metadata": {},
   "outputs": [],
   "source": [
    "# Cread dos array de tres dimensiones:\n",
    "# El primero de 2 matrices, 5 filas y 3 columnas.\n",
    "# El segundo de 3 matrices, 2 filas y 5 columnas\n",
    "# Haced un análisis exploratorio de los array creados. \n",
    "# Recordad que en el ejercicio de ayer nos creamos una función para esto.\n",
    "# Sumad los dos arrays. ¿Podéis? ¿Por qué?\n",
    "# Para cambiar la forma de un array y poder hacer operaciones \n",
    "# entre arrays que tienen distintas formas hemos aprendido dos métodos:\n",
    "# .reshape()\n",
    "# .transpose()\n",
    "# Utiliza estas dos funciones para cambiar la forma de los array \n",
    "# y hacer operaciones entre ellos."
   ]
  },
  {
   "cell_type": "code",
   "execution_count": 17,
   "metadata": {},
   "outputs": [],
   "source": [
    "array1 = np.random.rand(2,5,3)\n",
    "array2 = np.random.rand (3,2,5)"
   ]
  },
  {
   "cell_type": "code",
   "execution_count": 18,
   "metadata": {},
   "outputs": [
    {
     "data": {
      "text/plain": [
       "array([[[0.05923446, 0.44887632, 0.37071892],\n",
       "        [0.95918024, 0.92923549, 0.86201202],\n",
       "        [0.92040091, 0.46296684, 0.91208168],\n",
       "        [0.81623105, 0.3412751 , 0.14120406],\n",
       "        [0.85247314, 0.70422144, 0.06217274]],\n",
       "\n",
       "       [[0.29180658, 0.98929221, 0.55804771],\n",
       "        [0.38364504, 0.11345103, 0.88549952],\n",
       "        [0.71201993, 0.60240291, 0.19857557],\n",
       "        [0.71606658, 0.87770765, 0.18420167],\n",
       "        [0.95968162, 0.06548779, 0.42907327]]])"
      ]
     },
     "execution_count": 18,
     "metadata": {},
     "output_type": "execute_result"
    }
   ],
   "source": [
    "array1"
   ]
  },
  {
   "cell_type": "code",
   "execution_count": 16,
   "metadata": {},
   "outputs": [
    {
     "data": {
      "text/plain": [
       "array([[[0.12767029, 0.50538231, 0.05358565, 0.63950636, 0.36682524],\n",
       "        [0.07414385, 0.26491172, 0.35797603, 0.64700667, 0.34451976]],\n",
       "\n",
       "       [[0.77829446, 0.24999269, 0.26033385, 0.29826917, 0.03263032],\n",
       "        [0.06156246, 0.235502  , 0.52187856, 0.0797551 , 0.77543694]],\n",
       "\n",
       "       [[0.32857398, 0.69215718, 0.74494304, 0.9345175 , 0.76315222],\n",
       "        [0.7113529 , 0.47380044, 0.98799668, 0.51514272, 0.10455885]]])"
      ]
     },
     "execution_count": 16,
     "metadata": {},
     "output_type": "execute_result"
    }
   ],
   "source": [
    "array2"
   ]
  },
  {
   "cell_type": "code",
   "execution_count": 20,
   "metadata": {},
   "outputs": [
    {
     "name": "stdout",
     "output_type": "stream",
     "text": [
      "La forma de nuestro array es (2, 5, 3)\n",
      "El tipo de nuestro array es float64\n",
      "El tamaño de nuestro array es 30\n",
      "Las dimensiones que tiene son 3\n"
     ]
    }
   ],
   "source": [
    "def propiedades(nuestro_array):\n",
    "    print(f'La forma de nuestro array es', nuestro_array.shape)\n",
    "    print(f'El tipo de nuestro array es', nuestro_array.dtype)\n",
    "    print(f'El tamaño de nuestro array es', nuestro_array.size)\n",
    "    print(f'Las dimensiones que tiene son', nuestro_array.ndim)\n",
    "\n",
    "propiedades(array1)"
   ]
  },
  {
   "cell_type": "code",
   "execution_count": 21,
   "metadata": {},
   "outputs": [
    {
     "name": "stdout",
     "output_type": "stream",
     "text": [
      "La forma de nuestro array es (3, 2, 5)\n",
      "El tipo de nuestro array es float64\n",
      "El tamaño de nuestro array es 30\n",
      "Las dimensiones que tiene son 3\n"
     ]
    }
   ],
   "source": [
    "propiedades (array2)"
   ]
  },
  {
   "cell_type": "code",
   "execution_count": null,
   "metadata": {},
   "outputs": [],
   "source": [
    "# Haced un análisis exploratorio de los array creados. \n",
    "# Recordad que en el ejercicio de ayer nos creamos una función para esto.\n",
    "# Sumad los dos arrays. ¿Podéis? ¿Por qué?"
   ]
  },
  {
   "cell_type": "code",
   "execution_count": 22,
   "metadata": {},
   "outputs": [
    {
     "ename": "ValueError",
     "evalue": "operands could not be broadcast together with shapes (2,5,3) (3,2,5) ",
     "output_type": "error",
     "traceback": [
      "\u001b[0;31m---------------------------------------------------------------------------\u001b[0m",
      "\u001b[0;31mValueError\u001b[0m                                Traceback (most recent call last)",
      "Cell \u001b[0;32mIn [22], line 1\u001b[0m\n\u001b[0;32m----> 1\u001b[0m array1 \u001b[39m+\u001b[39;49m array2\n",
      "\u001b[0;31mValueError\u001b[0m: operands could not be broadcast together with shapes (2,5,3) (3,2,5) "
     ]
    }
   ],
   "source": [
    "array1 + array2"
   ]
  },
  {
   "cell_type": "code",
   "execution_count": null,
   "metadata": {},
   "outputs": [],
   "source": [
    "# no se pueden sumar porque como hemos visto tienen formas diferentes."
   ]
  },
  {
   "cell_type": "code",
   "execution_count": null,
   "metadata": {},
   "outputs": [],
   "source": [
    "# Para cambiar la forma de un array y poder hacer operaciones \n",
    "# entre arrays que tienen distintas formas hemos aprendido dos métodos:\n",
    "# .reshape()\n",
    "# .transpose()\n",
    "# Utiliza estas dos funciones para cambiar la forma de los array \n",
    "# y hacer operaciones entre ellos."
   ]
  },
  {
   "cell_type": "code",
   "execution_count": 23,
   "metadata": {},
   "outputs": [
    {
     "data": {
      "text/plain": [
       "array([[[0.05923446, 0.44887632, 0.37071892],\n",
       "        [0.95918024, 0.92923549, 0.86201202],\n",
       "        [0.92040091, 0.46296684, 0.91208168],\n",
       "        [0.81623105, 0.3412751 , 0.14120406],\n",
       "        [0.85247314, 0.70422144, 0.06217274]],\n",
       "\n",
       "       [[0.29180658, 0.98929221, 0.55804771],\n",
       "        [0.38364504, 0.11345103, 0.88549952],\n",
       "        [0.71201993, 0.60240291, 0.19857557],\n",
       "        [0.71606658, 0.87770765, 0.18420167],\n",
       "        [0.95968162, 0.06548779, 0.42907327]]])"
      ]
     },
     "execution_count": 23,
     "metadata": {},
     "output_type": "execute_result"
    }
   ],
   "source": [
    "array1"
   ]
  },
  {
   "cell_type": "code",
   "execution_count": 24,
   "metadata": {},
   "outputs": [
    {
     "data": {
      "text/plain": [
       "array([[[0.07397051, 0.96405513, 0.61987886, 0.50390385, 0.98483823],\n",
       "        [0.67505384, 0.63777266, 0.91167652, 0.22777131, 0.85300749]],\n",
       "\n",
       "       [[0.54987857, 0.68906152, 0.03418484, 0.31516168, 0.411174  ],\n",
       "        [0.74998888, 0.16359266, 0.36683353, 0.01234933, 0.48859583]],\n",
       "\n",
       "       [[0.90533875, 0.19396943, 0.10064451, 0.95288446, 0.13269776],\n",
       "        [0.91036353, 0.94304471, 0.49990259, 0.75553714, 0.51680361]]])"
      ]
     },
     "execution_count": 24,
     "metadata": {},
     "output_type": "execute_result"
    }
   ],
   "source": [
    "array2"
   ]
  },
  {
   "cell_type": "code",
   "execution_count": 25,
   "metadata": {},
   "outputs": [],
   "source": [
    "array_traspo = np.transpose (array1,(1,2,0)) # que poner los indicies "
   ]
  },
  {
   "cell_type": "code",
   "execution_count": 28,
   "metadata": {},
   "outputs": [],
   "source": [
    "array_resha = np.reshape(array2, (5,3,2)) #con el numero "
   ]
  },
  {
   "cell_type": "code",
   "execution_count": 29,
   "metadata": {},
   "outputs": [
    {
     "data": {
      "text/plain": [
       "array([[[0.13320497, 1.25586171],\n",
       "        [1.06875518, 1.49319606],\n",
       "        [1.35555715, 1.23310156]],\n",
       "\n",
       "       [[1.5969529 , 1.29532156],\n",
       "        [1.1570068 , 0.96645852],\n",
       "        [1.41189059, 1.57456105]],\n",
       "\n",
       "       [[0.95458576, 1.02718161],\n",
       "        [0.87414084, 1.35239179],\n",
       "        [1.07567434, 0.56540911]],\n",
       "\n",
       "       [[0.82858038, 1.20466241],\n",
       "        [1.24661385, 1.07167708],\n",
       "        [0.24184856, 1.13708613]],\n",
       "\n",
       "       [[0.9851709 , 1.87004514],\n",
       "        [1.64726615, 0.56539039],\n",
       "        [0.81770989, 0.94587688]]])"
      ]
     },
     "execution_count": 29,
     "metadata": {},
     "output_type": "execute_result"
    }
   ],
   "source": [
    "array_traspo + array_resha"
   ]
  }
 ],
 "metadata": {
  "kernelspec": {
   "display_name": "Python 3.9.7 ('base')",
   "language": "python",
   "name": "python3"
  },
  "language_info": {
   "codemirror_mode": {
    "name": "ipython",
    "version": 3
   },
   "file_extension": ".py",
   "mimetype": "text/x-python",
   "name": "python",
   "nbconvert_exporter": "python",
   "pygments_lexer": "ipython3",
   "version": "3.9.7 (default, Sep 16 2021, 13:09:58) \n[GCC 7.5.0]"
  },
  "orig_nbformat": 4,
  "vscode": {
   "interpreter": {
    "hash": "f8e782a3a92a384869fb83a8974812ed4d4d199ed3e8c8704ecd8a7536d7fad4"
   }
  }
 },
 "nbformat": 4,
 "nbformat_minor": 2
}
