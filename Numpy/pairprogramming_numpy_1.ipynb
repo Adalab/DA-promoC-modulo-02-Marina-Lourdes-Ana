{
 "cells": [
  {
   "cell_type": "code",
   "execution_count": null,
   "metadata": {},
   "outputs": [],
   "source": [
    "pairprogramming_numpy"
   ]
  },
  {
   "cell_type": "code",
   "execution_count": null,
   "metadata": {},
   "outputs": [],
   "source": [
    "#1 Cread tres arrays: de una, dos y tres dimensiones. Lo podéis hacer usando los métodos de random que\n",
    "# hemos aprendido o a través de listas em algunos casos. El array de 2 dimensiones debe ser de 2 filas y 3 columnas.\n",
    "# El array de 3 dimensiones debe ser de 2 matrices, 3 filas y 5 columnas"
   ]
  },
  {
   "cell_type": "code",
   "execution_count": 70,
   "metadata": {},
   "outputs": [],
   "source": [
    "# Lo primero, importamos la librería:\n",
    "\n",
    "import numpy as np"
   ]
  },
  {
   "cell_type": "code",
   "execution_count": 71,
   "metadata": {},
   "outputs": [],
   "source": [
    "# Creamos los arrays según especificado:\n",
    "\n",
    "array1 = np.random.randint((2, 3))\n",
    "array2 = np.random.rand(3, 2)\n",
    "array3 = np.random.random_sample((2, 3, 5))"
   ]
  },
  {
   "cell_type": "code",
   "execution_count": 74,
   "metadata": {},
   "outputs": [
    {
     "name": "stdout",
     "output_type": "stream",
     "text": [
      "Las dimensiones del array1 son 1\n",
      "Las dimensiones del array2 son 2\n",
      "Las dimensiones del array3 son 3\n"
     ]
    }
   ],
   "source": [
    "# Comprobamos que las dimensiones son correctas:\n",
    "\n",
    "print('Las dimensiones del array1 son', array1.ndim)\n",
    "print('Las dimensiones del array2 son', array2.ndim)\n",
    "print('Las dimensiones del array3 son', array3.ndim)"
   ]
  },
  {
   "cell_type": "code",
   "execution_count": 75,
   "metadata": {},
   "outputs": [],
   "source": [
    "# Chequead las las propiedades básicas de cada array que os hayáis creado. Usad en una función que nos\n",
    "# devuelva las propiedades de una array que le pasemos."
   ]
  },
  {
   "cell_type": "code",
   "execution_count": 77,
   "metadata": {},
   "outputs": [],
   "source": [
    "def propiedades(nuestro_array):\n",
    "    print(f'La forma de nuestro array es', nuestro_array.shape)\n",
    "    print(f'El tamaño de nuestro array es', nuestro_array.size)\n",
    "    print(f'La dimensión de nuestro array es', nuestro_array.ndim)\n",
    "    print(f'El tipo de nuestro array es', nuestro_array.dtype)"
   ]
  },
  {
   "cell_type": "code",
   "execution_count": 78,
   "metadata": {},
   "outputs": [
    {
     "name": "stdout",
     "output_type": "stream",
     "text": [
      "La forma de nuestro array es (2, 3, 5)\n",
      "El tamaño de nuestro array es 30\n",
      "La dimensión de nuestro array es 3\n",
      "El tipo de nuestro array es float64\n"
     ]
    }
   ],
   "source": [
    "propiedades(array3)"
   ]
  },
  {
   "cell_type": "code",
   "execution_count": 79,
   "metadata": {},
   "outputs": [
    {
     "name": "stdout",
     "output_type": "stream",
     "text": [
      "La forma de nuestro array es (3, 2)\n",
      "El tamaño de nuestro array es 6\n",
      "La dimensión de nuestro array es 2\n",
      "El tipo de nuestro array es float64\n"
     ]
    }
   ],
   "source": [
    "propiedades(array2)"
   ]
  },
  {
   "cell_type": "code",
   "execution_count": 80,
   "metadata": {},
   "outputs": [
    {
     "name": "stdout",
     "output_type": "stream",
     "text": [
      "La forma de nuestro array es (2,)\n",
      "El tamaño de nuestro array es 2\n",
      "La dimensión de nuestro array es 1\n",
      "El tipo de nuestro array es int64\n"
     ]
    }
   ],
   "source": [
    "propiedades(array1)"
   ]
  },
  {
   "cell_type": "code",
   "execution_count": null,
   "metadata": {},
   "outputs": [],
   "source": [
    "# Cread una matriz identidad de dos dimensiones de 3 filas y 3 columnas."
   ]
  },
  {
   "cell_type": "code",
   "execution_count": 81,
   "metadata": {},
   "outputs": [],
   "source": [
    "array4 = np.identity(3)"
   ]
  },
  {
   "cell_type": "code",
   "execution_count": 46,
   "metadata": {},
   "outputs": [
    {
     "data": {
      "text/plain": [
       "array([[1., 0., 0.],\n",
       "       [0., 1., 0.],\n",
       "       [0., 0., 1.]])"
      ]
     },
     "execution_count": 46,
     "metadata": {},
     "output_type": "execute_result"
    }
   ],
   "source": [
    "# Printeamos el array para visualizarlo:\n",
    "\n",
    "array4"
   ]
  },
  {
   "cell_type": "code",
   "execution_count": 82,
   "metadata": {},
   "outputs": [
    {
     "name": "stdout",
     "output_type": "stream",
     "text": [
      "La forma de nuestro array es (3, 3)\n",
      "El tamaño de nuestro array es 9\n",
      "La dimensión de nuestro array es 2\n",
      "El tipo de nuestro array es float64\n"
     ]
    }
   ],
   "source": [
    "propiedades(array4)"
   ]
  },
  {
   "cell_type": "code",
   "execution_count": 83,
   "metadata": {},
   "outputs": [
    {
     "data": {
      "text/plain": [
       "array([[[0.80844556, 0.51221168, 0.32483996, 0.31325266, 0.04873871],\n",
       "        [0.14738931, 0.66601862, 0.86149357, 0.19682513, 0.24970169],\n",
       "        [0.79430245, 0.1439508 , 0.65800688, 0.51143632, 0.15644102]],\n",
       "\n",
       "       [[0.62423168, 0.77750732, 0.3143428 , 0.50827884, 0.23139559],\n",
       "        [0.9742304 , 0.9070172 , 0.42101125, 0.93252248, 0.3530001 ],\n",
       "        [0.8854443 , 0.15998441, 0.36186453, 0.47417082, 0.46961145]]])"
      ]
     },
     "execution_count": 83,
     "metadata": {},
     "output_type": "execute_result"
    }
   ],
   "source": [
    "# Cread una matriz de tres dimensiones de unos igual a la martiz de tres dimensiones\n",
    "# creada en el primer ejercicio.\n",
    "\n",
    "array5 = np.empty_like(array3)\n",
    "array5"
   ]
  },
  {
   "cell_type": "code",
   "execution_count": 84,
   "metadata": {},
   "outputs": [
    {
     "name": "stdout",
     "output_type": "stream",
     "text": [
      "La forma de nuestro array es (2, 3, 5)\n",
      "El tamaño de nuestro array es 30\n",
      "La dimensión de nuestro array es 3\n",
      "El tipo de nuestro array es float64\n"
     ]
    }
   ],
   "source": [
    "propiedades(array3)"
   ]
  },
  {
   "cell_type": "code",
   "execution_count": 85,
   "metadata": {},
   "outputs": [],
   "source": [
    "# Es el momento de hacer algunas operaciones entre arrays ¿Se puede sumar el array de dos dimensiones que creamos en el\n",
    "# primer ejecicios a la matriz identidad? ¿Por qué?"
   ]
  },
  {
   "cell_type": "code",
   "execution_count": 52,
   "metadata": {},
   "outputs": [
    {
     "ename": "ValueError",
     "evalue": "operands could not be broadcast together with shapes (3,2) (3,3) ",
     "output_type": "error",
     "traceback": [
      "\u001b[0;31m---------------------------------------------------------------------------\u001b[0m",
      "\u001b[0;31mValueError\u001b[0m                                Traceback (most recent call last)",
      "\u001b[0;32m/tmp/ipykernel_8424/2102809736.py\u001b[0m in \u001b[0;36m<module>\u001b[0;34m\u001b[0m\n\u001b[0;32m----> 1\u001b[0;31m \u001b[0mnp\u001b[0m\u001b[0;34m.\u001b[0m\u001b[0madd\u001b[0m\u001b[0;34m(\u001b[0m\u001b[0marray2\u001b[0m\u001b[0;34m,\u001b[0m \u001b[0marray4\u001b[0m\u001b[0;34m)\u001b[0m\u001b[0;34m\u001b[0m\u001b[0;34m\u001b[0m\u001b[0m\n\u001b[0m",
      "\u001b[0;31mValueError\u001b[0m: operands could not be broadcast together with shapes (3,2) (3,3) "
     ]
    }
   ],
   "source": [
    "np.add(array2, array4)"
   ]
  },
  {
   "cell_type": "code",
   "execution_count": 86,
   "metadata": {},
   "outputs": [
    {
     "name": "stdout",
     "output_type": "stream",
     "text": [
      "No se puede porque tienen formas distintas.\n"
     ]
    }
   ],
   "source": [
    "print('No se puede porque tienen formas distintas.')"
   ]
  },
  {
   "cell_type": "code",
   "execution_count": 54,
   "metadata": {},
   "outputs": [
    {
     "name": "stdout",
     "output_type": "stream",
     "text": [
      "(3, 2)\n",
      "6\n",
      "2\n",
      "float64\n"
     ]
    }
   ],
   "source": [
    "propiedades(array2)"
   ]
  },
  {
   "cell_type": "code",
   "execution_count": 55,
   "metadata": {},
   "outputs": [
    {
     "name": "stdout",
     "output_type": "stream",
     "text": [
      "(3, 3)\n",
      "9\n",
      "2\n",
      "float64\n"
     ]
    }
   ],
   "source": [
    "propiedades(array4)"
   ]
  },
  {
   "cell_type": "code",
   "execution_count": 87,
   "metadata": {},
   "outputs": [],
   "source": [
    "# En caso de que no se puedan sumar, busca una solución para sumar una matriz identidad a otra.\n",
    "# La solución puede ser crear un array nuevo.\n",
    "\n",
    "# Creamos un array nuevo:\n",
    "\n",
    "array5 = np.empty_like(array2)"
   ]
  },
  {
   "cell_type": "code",
   "execution_count": 59,
   "metadata": {},
   "outputs": [
    {
     "data": {
      "text/plain": [
       "array([[0.09350696, 0.37173281],\n",
       "       [0.70035775, 0.49270419],\n",
       "       [0.89495668, 0.8109074 ]])"
      ]
     },
     "execution_count": 59,
     "metadata": {},
     "output_type": "execute_result"
    }
   ],
   "source": [
    "array5"
   ]
  },
  {
   "cell_type": "code",
   "execution_count": 66,
   "metadata": {},
   "outputs": [
    {
     "data": {
      "text/plain": [
       "array([[0.91093016, 0.7678747 ],\n",
       "       [1.40259113, 1.10179414],\n",
       "       [1.47659405, 0.82003057]])"
      ]
     },
     "execution_count": 66,
     "metadata": {},
     "output_type": "execute_result"
    }
   ],
   "source": [
    "np.add(array2, array5)\n",
    "(array2 + array5)"
   ]
  },
  {
   "cell_type": "code",
   "execution_count": 67,
   "metadata": {},
   "outputs": [
    {
     "data": {
      "text/plain": [
       "array([[0.07643476, 0.14725894],\n",
       "       [0.49181459, 0.30010117],\n",
       "       [0.52054025, 0.00739804]])"
      ]
     },
     "execution_count": 67,
     "metadata": {},
     "output_type": "execute_result"
    }
   ],
   "source": [
    "# Multiplicad la matriz identidad por la nueva matriz que os creasteis en el ejercicio anterior.\n",
    "\n",
    "np.multiply(array2, array5)\n",
    "(array2 * array5)"
   ]
  },
  {
   "cell_type": "code",
   "execution_count": 69,
   "metadata": {},
   "outputs": [
    {
     "data": {
      "text/plain": [
       "array([[8.74184368, 1.065663  ],\n",
       "       [1.0026781 , 1.2362183 ],\n",
       "       [0.64990561, 0.01125056]])"
      ]
     },
     "execution_count": 69,
     "metadata": {},
     "output_type": "execute_result"
    }
   ],
   "source": [
    "# Dividid las dos matrices\n",
    "\n",
    "np.divide(array2, array5)\n",
    "(array2 / array5)"
   ]
  }
 ],
 "metadata": {
  "kernelspec": {
   "display_name": "Python 3.9.7 ('base')",
   "language": "python",
   "name": "python3"
  },
  "language_info": {
   "codemirror_mode": {
    "name": "ipython",
    "version": 3
   },
   "file_extension": ".py",
   "mimetype": "text/x-python",
   "name": "python",
   "nbconvert_exporter": "python",
   "pygments_lexer": "ipython3",
   "version": "3.9.7"
  },
  "orig_nbformat": 4,
  "vscode": {
   "interpreter": {
    "hash": "0620710c65b0f5ccc651a2aa8870ae0eb4c70492424a8d7866846658189426a3"
   }
  }
 },
 "nbformat": 4,
 "nbformat_minor": 2
}
