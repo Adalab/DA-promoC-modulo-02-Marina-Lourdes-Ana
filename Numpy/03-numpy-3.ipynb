{
 "cells": [
  {
   "cell_type": "code",
   "execution_count": 2,
   "metadata": {},
   "outputs": [],
   "source": [
    "# pair numpy 3"
   ]
  },
  {
   "cell_type": "code",
   "execution_count": 3,
   "metadata": {},
   "outputs": [],
   "source": [
    "# En esta lección hemps aprendido algunas de las operaciones matemáticas más importantes que podemos aplicar\n",
    "# a un array. Hoy pondremos en práctica algunas de estas operaciones, además de recordar algunas de los \n",
    "# métodos aprendidos en otras lecciones y recordar como podemos iterar por un array."
   ]
  },
  {
   "cell_type": "code",
   "execution_count": 4,
   "metadata": {},
   "outputs": [],
   "source": [
    "import numpy as np"
   ]
  },
  {
   "cell_type": "code",
   "execution_count": 5,
   "metadata": {},
   "outputs": [
    {
     "name": "stdout",
     "output_type": "stream",
     "text": [
      "1.0\n",
      "1.0\n"
     ]
    },
    {
     "data": {
      "text/plain": [
       "0.0"
      ]
     },
     "execution_count": 5,
     "metadata": {},
     "output_type": "execute_result"
    }
   ],
   "source": [
    "# Cread un array de tres dimensiones de 2 matrices, 3 filas y 5 columnas cuyos valores solo tengan 1\n",
    "# decimales. Sobre el array creado anteriormente, extraed:\n",
    "\n",
    "array1 = np.random.rand(2, 3, 5).round(1)\n",
    "array1\n",
    "\n",
    "#Calculad la media del array y almacenarlos en una variable.\n",
    "\n",
    "media_array1 = array1.mean()\n",
    "media_array1\n",
    "\n",
    "# Redondead a un decimal.\n",
    "    # Aquí lo hacemos como dice en los apuntes aunque ya redondeamos en la creación.\n",
    "media_array1_redondeada = np.round(media_array1, decimals = 1)\n",
    "media_array1_redondeada\n",
    "\n",
    "# Calculad el valor máximo del array y almacenarlos en una variable.\n",
    "    # Usamos dos formas para calcularlo, primero como indican los apuntes:\n",
    "\n",
    "maximo_array12 = np.max(array1).round(1)\n",
    "print(maximo_array12)\n",
    "\n",
    "maximo_array1 = array1.max().round(1)\n",
    "print(maximo_array1)\n",
    "\n",
    "# Redondead a un decimal.\n",
    "\n",
    "maximo_array1_redondeado = np.round(maximo_array1, decimals = 1)\n",
    "maximo_array1_redondeado\n",
    "\n",
    "# Calcular el valor mínimo del array y almacenarlo en una variable:\n",
    "\n",
    "minimo_array1 = np.min(array1)\n",
    "minimo_array1"
   ]
  },
  {
   "cell_type": "code",
   "execution_count": 6,
   "metadata": {},
   "outputs": [
    {
     "name": "stdout",
     "output_type": "stream",
     "text": [
      "[[['C' 'B' 'B' 'C' 'B']\n",
      "  ['B' 'B' 'C' 'C' 'B']\n",
      "  ['C' 'C' 'B' 'C' 'B']]\n",
      "\n",
      " [['B' 'B' 'C' 'C' 'C']\n",
      "  ['B' 'C' 'C' 'C' 'B']\n",
      "  ['C' 'B' 'C' 'B' 'B']]]\n"
     ]
    }
   ],
   "source": [
    "# Cread un array vacío con la misma forma y dimensiones que el array creado anteriormente.\n",
    "\n",
    "array_vacio = np.empty_like(array1, dtype = str)\n",
    "array_vacio\n",
    "\n",
    "# Vamos a reemplazar los valores de la matriz vacía que nos acabamos de crear pero basándonos\n",
    "# en los valores del primer array bajo las siguientes condiciones:\n",
    "\n",
    "    # Si el valor del array es igual que la media, se reemplaza por \"A\".\n",
    "    # Si el valor del array es mayor que la media, se reemplaza por \"B\".\n",
    "    # Si el valor del array es menor que la media, se reemplaza por \"C\".\n",
    "    # Si el valor es igual que el máximo, se reemplaza por \"D\".\n",
    "    # Si el valor es igual que el mínimo, se reemplaza por \"E\".\n",
    "\n",
    "for i in range(array1.shape[0]): \n",
    "    for j in range(array1.shape[1]): \n",
    "        for k in range (array1.shape[2]):\n",
    "            if array1[i][j][k] == media_array1:\n",
    "                array_vacio[i][j][k] = 'A'\n",
    "            elif array1[i][j][k] > media_array1:\n",
    "                array_vacio[i][j][k] = 'B'\n",
    "            elif array1[i][j][k] < media_array1:\n",
    "                array_vacio[i][j][k] = 'C'\n",
    "            elif array1[i][j][k] == maximo_array1:\n",
    "                array_vacio[i][j][k] = 'D'\n",
    "            elif array1[i][j][k] == minimo_array1:\n",
    "                array_vacio[i][j][k] = 'E'\n",
    "print(array_vacio)"
   ]
  },
  {
   "cell_type": "code",
   "execution_count": 8,
   "metadata": {},
   "outputs": [
    {
     "name": "stdout",
     "output_type": "stream",
     "text": [
      "['1' '1' '' '' '' '' '' '' '' '' '' '' '' '' '' '' '' '' '' '' '' '' '' ''\n",
      " '' '' '' '' '' '']\n"
     ]
    }
   ],
   "source": [
    "# Estupendo, tenemos un array con strings. Ahora realizaremos un ejercicio similar al anterior,\n",
    "# pero en este caso nos crearemos un array vacío unidimensional de 30 elementos.\n",
    "\n",
    "array_uni = np.empty(30, dtype = str)\n",
    "array_uni\n",
    "\n",
    "# Al final de este ejercicio acabaremos teniendo un array de tres dimensiones con la misma forma\n",
    "# que el primero que nos creamos.\n",
    "\n",
    "    # En este caso:\n",
    "    # Si el valor del array creado en el ejercicio anterior es \"A\" o \"B\" lo reemplazaremos por 1\n",
    "    # Si el valor del array creado en el ejercicio anterior es \"C\" o \"D\" lo reemplazaremos por 2\n",
    "    # Si el valor del array creado en el ejercicio anterior es \"E\" lo reemplazaremos por 3.\n",
    "\n",
    "\n",
    "for i in range(array1.shape[0]): \n",
    "    for j in range(array1.shape[1]): \n",
    "        for k in range (array1.shape[2]):\n",
    "            if (array_vacio[i][j][k] == 'A') or (array_vacio[i][j][k] == 'B'):\n",
    "                array_uni[i] = 1\n",
    "            elif (array_vacio[i][j][k] == 'C') or (array_vacio[i][j][k] == 'D'):\n",
    "                array_uni[i] = 2\n",
    "            elif (array_vacio[i][j][k] == 'E'):\n",
    "                array_uni[i] = 3\n",
    "print(array_uni)\n",
    "\n",
    "# Una vez que hayas reemplazado todos los valores cambiad la forma del array  para que sea de tres\n",
    "# dimensiones, con 2 matrices, 3 filas y 5 columnas."
   ]
  },
  {
   "cell_type": "code",
   "execution_count": null,
   "metadata": {},
   "outputs": [],
   "source": []
  }
 ],
 "metadata": {
  "kernelspec": {
   "display_name": "Python 3.9.7 ('base')",
   "language": "python",
   "name": "python3"
  },
  "language_info": {
   "codemirror_mode": {
    "name": "ipython",
    "version": 3
   },
   "file_extension": ".py",
   "mimetype": "text/x-python",
   "name": "python",
   "nbconvert_exporter": "python",
   "pygments_lexer": "ipython3",
   "version": "3.9.7"
  },
  "orig_nbformat": 4,
  "vscode": {
   "interpreter": {
    "hash": "0620710c65b0f5ccc651a2aa8870ae0eb4c70492424a8d7866846658189426a3"
   }
  }
 },
 "nbformat": 4,
 "nbformat_minor": 2
}
