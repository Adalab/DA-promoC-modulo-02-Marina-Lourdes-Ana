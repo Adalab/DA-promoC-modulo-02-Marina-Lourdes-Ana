{
 "cells": [
  {
   "cell_type": "code",
   "execution_count": null,
   "metadata": {},
   "outputs": [],
   "source": [
    "\n",
    "import numpy as np "
   ]
  },
  {
   "cell_type": "code",
   "execution_count": 3,
   "metadata": {},
   "outputs": [],
   "source": [
    "############################## Pair Programming NumPy IV ##############################\n",
    "\n",
    "# Manos a la obra con la última lección de NumPy. \n",
    "# En este caso pondremos en práctica como generar arrays \n",
    "# que sigan ciertas distribuciones, así como las operaciones \n",
    "# de teoría de conjuntos básicas."
   ]
  },
  {
   "cell_type": "code",
   "execution_count": null,
   "metadata": {},
   "outputs": [],
   "source": [
    "# ¿Cómo podemos crear dos arrays de dos dimensiones usando \n",
    "# el método random_sample que tengan los mismos valores?"
   ]
  },
  {
   "cell_type": "code",
   "execution_count": 18,
   "metadata": {},
   "outputs": [],
   "source": [
    "np.random.seed(42)"
   ]
  },
  {
   "cell_type": "code",
   "execution_count": 25,
   "metadata": {},
   "outputs": [
    {
     "data": {
      "text/plain": [
       "array([[0.37454012, 0.95071431, 0.73199394, 0.59865848, 0.15601864],\n",
       "       [0.15599452, 0.05808361, 0.86617615, 0.60111501, 0.70807258]])"
      ]
     },
     "execution_count": 25,
     "metadata": {},
     "output_type": "execute_result"
    }
   ],
   "source": [
    "np.random.seed(42)\n",
    "array1=np.random.random_sample((2,5))\n",
    "array1"
   ]
  },
  {
   "cell_type": "code",
   "execution_count": 26,
   "metadata": {},
   "outputs": [
    {
     "data": {
      "text/plain": [
       "array([[0.37454012, 0.95071431, 0.73199394, 0.59865848],\n",
       "       [0.15601864, 0.15599452, 0.05808361, 0.86617615]])"
      ]
     },
     "execution_count": 26,
     "metadata": {},
     "output_type": "execute_result"
    }
   ],
   "source": [
    "np.random.seed(42)\n",
    "array2=np.random.random_sample((2,4))\n",
    "array2"
   ]
  },
  {
   "cell_type": "code",
   "execution_count": 27,
   "metadata": {},
   "outputs": [
    {
     "data": {
      "text/plain": [
       "array([[[3, 7, 7, 2, 5],\n",
       "        [4, 1, 7, 5, 1],\n",
       "        [4, 0, 9, 5, 8]],\n",
       "\n",
       "       [[0, 9, 2, 6, 3],\n",
       "        [8, 2, 4, 2, 6],\n",
       "        [4, 8, 6, 1, 3]]])"
      ]
     },
     "execution_count": 27,
     "metadata": {},
     "output_type": "execute_result"
    }
   ],
   "source": [
    "#Cread los siguientes arrays:\n",
    "# Un array de tres dimensiones con distribución uniforme de 2 x 3 x 5, \n",
    "# con números entre 0 y 10, que no tengan decimales \n",
    "# y extrae sus valores únicos almacenándolos en una variable.\n",
    "\n",
    "array3=np.random.randint(0,10,(2,3,5))\n",
    "array3"
   ]
  },
  {
   "cell_type": "code",
   "execution_count": 28,
   "metadata": {},
   "outputs": [
    {
     "data": {
      "text/plain": [
       "array([[[8, 1, 9, 8, 9],\n",
       "        [4, 1, 3, 6, 7],\n",
       "        [2, 0, 3, 1, 7]],\n",
       "\n",
       "       [[3, 1, 5, 5, 9],\n",
       "        [3, 5, 1, 9, 1],\n",
       "        [9, 3, 7, 6, 8]]])"
      ]
     },
     "execution_count": 28,
     "metadata": {},
     "output_type": "execute_result"
    }
   ],
   "source": [
    "array4=np.random.randint(0,10,(2,3,5))\n",
    "array4"
   ]
  },
  {
   "cell_type": "code",
   "execution_count": 31,
   "metadata": {},
   "outputs": [
    {
     "data": {
      "text/plain": [
       "array([0, 1, 2, 3, 4, 5, 6, 7, 8, 9])"
      ]
     },
     "execution_count": 31,
     "metadata": {},
     "output_type": "execute_result"
    }
   ],
   "source": [
    "valores_unicos1=np.unique(array4)\n",
    "valores_unicos1"
   ]
  },
  {
   "cell_type": "code",
   "execution_count": 29,
   "metadata": {},
   "outputs": [
    {
     "data": {
      "text/plain": [
       "array([[[6, 4, 4, 3, 3],\n",
       "        [6, 3, 2, 2, 2],\n",
       "        [0, 3, 3, 2, 0]],\n",
       "\n",
       "       [[2, 4, 4, 3, 5],\n",
       "        [4, 5, 5, 3, 1],\n",
       "        [2, 4, 4, 3, 2]]])"
      ]
     },
     "execution_count": 29,
     "metadata": {},
     "output_type": "execute_result"
    }
   ],
   "source": [
    "\n",
    "# Un array de tres dimensiones con distribución binomial de 2 x 3 x 5,\n",
    "#  con probabilidad de 0.3 y número de pruebas igual a 10. \n",
    "# Igual que antes, extrae sus valores únicos y guarda los datos en una variable.\n",
    "\n",
    "array5=np.random.binomial(10,0.3,size=(2,3,5))\n",
    "array5"
   ]
  },
  {
   "cell_type": "code",
   "execution_count": 30,
   "metadata": {},
   "outputs": [
    {
     "data": {
      "text/plain": [
       "array([0, 1, 2, 3, 4, 5, 6])"
      ]
     },
     "execution_count": 30,
     "metadata": {},
     "output_type": "execute_result"
    }
   ],
   "source": [
    "valores_unicos2=np.unique(array5)\n",
    "valores_unicos2"
   ]
  },
  {
   "cell_type": "markdown",
   "metadata": {},
   "source": []
  },
  {
   "cell_type": "code",
   "execution_count": 32,
   "metadata": {},
   "outputs": [
    {
     "data": {
      "text/plain": [
       "array([0, 1, 2, 3, 4, 5, 6])"
      ]
     },
     "execution_count": 32,
     "metadata": {},
     "output_type": "execute_result"
    }
   ],
   "source": [
    "# En esta lección hemos aprendido algunos métodos de teórias de conjuntos. \n",
    "# Usando los arrays de elementos únicos obtenidos en el\n",
    "#  ejercicio anterior realizad las siguientes operaciones:\n",
    "\n",
    "# Elementos comunes entre los dos arrays\n",
    "# Unión de los dos arrays\n",
    "\n",
    "array_comun=np.intersect1d(valores_unicos1,valores_unicos2)\n",
    "array_comun"
   ]
  },
  {
   "cell_type": "code",
   "execution_count": 33,
   "metadata": {},
   "outputs": [
    {
     "data": {
      "text/plain": [
       "array([0, 1, 2, 3, 4, 5, 6, 7, 8, 9])"
      ]
     },
     "execution_count": 33,
     "metadata": {},
     "output_type": "execute_result"
    }
   ],
   "source": [
    "array_union=np.union1d(valores_unicos1,valores_unicos2)\n",
    "array_union"
   ]
  },
  {
   "cell_type": "code",
   "execution_count": null,
   "metadata": {},
   "outputs": [],
   "source": [
    "# ¿Qué elementos están en el array derivado de la distribución uniforme\n",
    "#  y no en los únicos de la distribución binomial?\n",
    "#  Extrae los valores númericos\n",
    "\n",
    "np.setdiff1d()"
   ]
  },
  {
   "cell_type": "code",
   "execution_count": null,
   "metadata": {},
   "outputs": [],
   "source": [
    "# ⚠️ Explicar cada uno de los outputs que os salgan. \n",
    "# Que significa cada una de estas operaciones que hemos ido extrayendo?\n",
    "\n"
   ]
  },
  {
   "cell_type": "code",
   "execution_count": null,
   "metadata": {},
   "outputs": [],
   "source": [
    "# Cread dos arrays usando el método random.randint de Numpy\n",
    "#  con 80 elementos cada uno con números del 1-100,\n",
    "# con los siguientes nombres array1 y array2.\n",
    "\n"
   ]
  },
  {
   "cell_type": "code",
   "execution_count": null,
   "metadata": {},
   "outputs": [],
   "source": [
    "# Extraed los valores únicos de cada uno de los arrays\n",
    "#  y los guardáis en variables en las que se les llame array1 y array2.\n",
    "\n"
   ]
  },
  {
   "cell_type": "code",
   "execution_count": null,
   "metadata": {},
   "outputs": [],
   "source": [
    "# Identificad los elementos presentes en el array1 pero no en el array2\n",
    "#  y asiganarlo a una variable que se llame array3.\n",
    "\n"
   ]
  },
  {
   "cell_type": "code",
   "execution_count": null,
   "metadata": {},
   "outputs": [],
   "source": [
    "# Identificad los elementos presentes en el array2 pero\n",
    "#  no en el array1 y asiganarlo a una variable que se llame array4.\n",
    "\n"
   ]
  },
  {
   "cell_type": "code",
   "execution_count": null,
   "metadata": {},
   "outputs": [],
   "source": [
    "# Identificad los elementos presentes en ambos arrays \n",
    "# y asiganarlos a una variable que se llame array5.\n",
    "\n"
   ]
  },
  {
   "cell_type": "code",
   "execution_count": null,
   "metadata": {},
   "outputs": [],
   "source": [
    "# ¿Cuál es la relación que existe entre todos estos arrays? \n",
    "# 💡 Pista 💡 Tendréis que usar las longitudes de cada uno de los arrays creados."
   ]
  }
 ],
 "metadata": {
  "kernelspec": {
   "display_name": "Python 3",
   "language": "python",
   "name": "python3"
  },
  "language_info": {
   "codemirror_mode": {
    "name": "ipython",
    "version": 3
   },
   "file_extension": ".py",
   "mimetype": "text/x-python",
   "name": "python",
   "nbconvert_exporter": "python",
   "pygments_lexer": "ipython3",
   "version": "3.8.10 (tags/v3.8.10:3d8993a, May  3 2021, 11:48:03) [MSC v.1928 64 bit (AMD64)]"
  },
  "orig_nbformat": 4,
  "vscode": {
   "interpreter": {
    "hash": "94b3ff6a27870a7cc36cfcc233c2d6d7a500b67077a2ccb041bb9f3f5f987204"
   }
  }
 },
 "nbformat": 4,
 "nbformat_minor": 2
}
