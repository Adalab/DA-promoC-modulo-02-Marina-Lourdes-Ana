{
 "cells": [
  {
   "cell_type": "code",
   "execution_count": 4,
   "metadata": {},
   "outputs": [],
   "source": [
    "\n",
    "import numpy as np "
   ]
  },
  {
   "cell_type": "code",
   "execution_count": 5,
   "metadata": {},
   "outputs": [],
   "source": [
    "############################## Pair Programming NumPy IV ##############################\n",
    "\n",
    "# Manos a la obra con la última lección de NumPy. \n",
    "# En este caso pondremos en práctica como generar arrays \n",
    "# que sigan ciertas distribuciones, así como las operaciones \n",
    "# de teoría de conjuntos básicas."
   ]
  },
  {
   "cell_type": "code",
   "execution_count": 6,
   "metadata": {},
   "outputs": [],
   "source": [
    "# ¿Cómo podemos crear dos arrays de dos dimensiones usando \n",
    "# el método random_sample que tengan los mismos valores?"
   ]
  },
  {
   "cell_type": "code",
   "execution_count": 7,
   "metadata": {},
   "outputs": [],
   "source": [
    "np.random.seed(42)"
   ]
  },
  {
   "cell_type": "code",
   "execution_count": 8,
   "metadata": {},
   "outputs": [
    {
     "data": {
      "text/plain": [
       "array([[0.37454012, 0.95071431, 0.73199394, 0.59865848, 0.15601864],\n",
       "       [0.15599452, 0.05808361, 0.86617615, 0.60111501, 0.70807258]])"
      ]
     },
     "execution_count": 8,
     "metadata": {},
     "output_type": "execute_result"
    }
   ],
   "source": [
    "np.random.seed(42)\n",
    "array1=np.random.random_sample((2,5))\n",
    "array1"
   ]
  },
  {
   "cell_type": "code",
   "execution_count": 9,
   "metadata": {},
   "outputs": [
    {
     "data": {
      "text/plain": [
       "array([[0.37454012, 0.95071431, 0.73199394, 0.59865848],\n",
       "       [0.15601864, 0.15599452, 0.05808361, 0.86617615]])"
      ]
     },
     "execution_count": 9,
     "metadata": {},
     "output_type": "execute_result"
    }
   ],
   "source": [
    "np.random.seed(42)\n",
    "array2=np.random.random_sample((2,4))\n",
    "array2"
   ]
  },
  {
   "cell_type": "code",
   "execution_count": 10,
   "metadata": {},
   "outputs": [
    {
     "data": {
      "text/plain": [
       "array([[[3, 7, 7, 2, 5],\n",
       "        [4, 1, 7, 5, 1],\n",
       "        [4, 0, 9, 5, 8]],\n",
       "\n",
       "       [[0, 9, 2, 6, 3],\n",
       "        [8, 2, 4, 2, 6],\n",
       "        [4, 8, 6, 1, 3]]])"
      ]
     },
     "execution_count": 10,
     "metadata": {},
     "output_type": "execute_result"
    }
   ],
   "source": [
    "#Cread los siguientes arrays:\n",
    "# Un array de tres dimensiones con distribución uniforme de 2 x 3 x 5, \n",
    "# con números entre 0 y 10, que no tengan decimales \n",
    "# y extrae sus valores únicos almacenándolos en una variable.\n",
    "\n",
    "array3=np.random.randint(0,10,(2,3,5))\n",
    "array3"
   ]
  },
  {
   "cell_type": "code",
   "execution_count": 11,
   "metadata": {},
   "outputs": [
    {
     "data": {
      "text/plain": [
       "array([[[8, 1, 9, 8, 9],\n",
       "        [4, 1, 3, 6, 7],\n",
       "        [2, 0, 3, 1, 7]],\n",
       "\n",
       "       [[3, 1, 5, 5, 9],\n",
       "        [3, 5, 1, 9, 1],\n",
       "        [9, 3, 7, 6, 8]]])"
      ]
     },
     "execution_count": 11,
     "metadata": {},
     "output_type": "execute_result"
    }
   ],
   "source": [
    "array4=np.random.randint(0,10,(2,3,5))\n",
    "array4"
   ]
  },
  {
   "cell_type": "code",
   "execution_count": 12,
   "metadata": {},
   "outputs": [
    {
     "data": {
      "text/plain": [
       "array([0, 1, 2, 3, 4, 5, 6, 7, 8, 9])"
      ]
     },
     "execution_count": 12,
     "metadata": {},
     "output_type": "execute_result"
    }
   ],
   "source": [
    "valores_unicos1=np.unique(array4)\n",
    "valores_unicos1"
   ]
  },
  {
   "cell_type": "code",
   "execution_count": 13,
   "metadata": {},
   "outputs": [
    {
     "data": {
      "text/plain": [
       "array([[[6, 4, 4, 3, 3],\n",
       "        [6, 3, 2, 2, 2],\n",
       "        [0, 3, 3, 2, 0]],\n",
       "\n",
       "       [[2, 4, 4, 3, 5],\n",
       "        [4, 5, 5, 3, 1],\n",
       "        [2, 4, 4, 3, 2]]])"
      ]
     },
     "execution_count": 13,
     "metadata": {},
     "output_type": "execute_result"
    }
   ],
   "source": [
    "\n",
    "# Un array de tres dimensiones con distribución binomial de 2 x 3 x 5,\n",
    "#  con probabilidad de 0.3 y número de pruebas igual a 10. \n",
    "# Igual que antes, extrae sus valores únicos y guarda los datos en una variable.\n",
    "\n",
    "array5=np.random.binomial(10,0.3,size=(2,3,5))\n",
    "array5"
   ]
  },
  {
   "cell_type": "code",
   "execution_count": 14,
   "metadata": {},
   "outputs": [
    {
     "data": {
      "text/plain": [
       "array([0, 1, 2, 3, 4, 5, 6])"
      ]
     },
     "execution_count": 14,
     "metadata": {},
     "output_type": "execute_result"
    }
   ],
   "source": [
    "valores_unicos2=np.unique(array5)\n",
    "valores_unicos2"
   ]
  },
  {
   "cell_type": "markdown",
   "metadata": {},
   "source": []
  },
  {
   "cell_type": "code",
   "execution_count": 20,
   "metadata": {},
   "outputs": [
    {
     "name": "stdout",
     "output_type": "stream",
     "text": [
      "Esto son los elementos comunes que tienen ambos arrays: [0 1 2 3 4 5 6]\n"
     ]
    }
   ],
   "source": [
    "# En esta lección hemos aprendido algunos métodos de teórias de conjuntos. \n",
    "# Usando los arrays de elementos únicos obtenidos en el\n",
    "#  ejercicio anterior realizad las siguientes operaciones:\n",
    "\n",
    "# Elementos comunes entre los dos arrays\n",
    "# Unión de los dos arrays\n",
    "\n",
    "array_comun=np.intersect1d(valores_unicos1,valores_unicos2)\n",
    "array_comun\n",
    "\n",
    "print('Esto son los elementos comunes que tienen ambos arrays:', array_comun)"
   ]
  },
  {
   "cell_type": "code",
   "execution_count": 21,
   "metadata": {},
   "outputs": [
    {
     "name": "stdout",
     "output_type": "stream",
     "text": [
      "Esta es la unión de elementos de ambos arrays: [0 1 2 3 4 5 6 7 8 9]\n"
     ]
    }
   ],
   "source": [
    "array_union=np.union1d(valores_unicos1,valores_unicos2)\n",
    "array_union\n",
    "\n",
    "print('Esta es la unión de elementos de ambos arrays:', array_union)"
   ]
  },
  {
   "cell_type": "code",
   "execution_count": 22,
   "metadata": {},
   "outputs": [
    {
     "name": "stdout",
     "output_type": "stream",
     "text": [
      "Estos son los elementos únicos de la distribución uniforme que no están en la distribución binomial: [7 8 9]\n"
     ]
    }
   ],
   "source": [
    "# ¿Qué elementos están en el array derivado de la distribución uniforme\n",
    "#  y no en los únicos de la distribución binomial?\n",
    "#  Extrae los valores númericos\n",
    "\n",
    "elementos_uniformes = np.setdiff1d(valores_unicos1, valores_unicos2)\n",
    "\n",
    "print('Estos son los elementos únicos de la distribución uniforme que no están en la distribución binomial:', elementos_uniformes)"
   ]
  },
  {
   "cell_type": "code",
   "execution_count": null,
   "metadata": {},
   "outputs": [],
   "source": [
    "# ⚠️ Explicar cada uno de los outputs que os salgan. \n",
    "# Que significa cada una de estas operaciones que hemos ido extrayendo?"
   ]
  },
  {
   "cell_type": "code",
   "execution_count": 23,
   "metadata": {},
   "outputs": [],
   "source": [
    "# Cread dos arrays usando el método random.randint de Numpy\n",
    "#  con 80 elementos cada uno con números del 1-100,\n",
    "# con los siguientes nombres array1 y array2.\n",
    "\n",
    "array11 = np.random.randint(1, 100, (80))\n",
    "array22 = np.random.randint(1, 100, (80))"
   ]
  },
  {
   "cell_type": "code",
   "execution_count": 25,
   "metadata": {},
   "outputs": [
    {
     "data": {
      "text/plain": [
       "array([35, 65, 99, 47, 78,  3,  1,  5, 90, 14, 27,  9, 79, 15, 90, 42, 77,\n",
       "       51, 63, 96, 52, 96,  4, 94, 23, 15, 43, 29, 36, 13, 32, 71, 59, 86,\n",
       "       28, 66, 42, 45, 62, 57,  6, 28, 28, 44, 84, 30, 62, 75, 92, 89, 62,\n",
       "       97,  1, 27, 62, 77,  3, 70, 72, 27,  9, 62, 37, 97, 51, 44, 24, 79,\n",
       "       59, 32, 96, 88, 52, 62, 58, 52, 12, 39,  2,  3])"
      ]
     },
     "execution_count": 25,
     "metadata": {},
     "output_type": "execute_result"
    }
   ],
   "source": [
    "array11"
   ]
  },
  {
   "cell_type": "code",
   "execution_count": 26,
   "metadata": {},
   "outputs": [
    {
     "data": {
      "text/plain": [
       "array([56, 81, 59,  2,  2, 92, 54, 87, 96, 97,  1, 19,  2, 53, 44, 90, 32,\n",
       "       70, 32, 68, 55, 75, 56, 17, 38, 24, 69, 98, 70, 86, 11, 16, 97, 73,\n",
       "       59, 70, 80, 93,  3, 20, 59, 36, 19, 90, 67, 19, 20, 96, 71, 52, 33,\n",
       "       40, 39, 82,  1, 11, 92, 57, 89, 50, 23, 31, 94, 42, 99,  7, 16, 90,\n",
       "       60,  2,  1, 48, 12, 69, 37, 32,  9, 99, 19, 48])"
      ]
     },
     "execution_count": 26,
     "metadata": {},
     "output_type": "execute_result"
    }
   ],
   "source": [
    "array22"
   ]
  },
  {
   "cell_type": "code",
   "execution_count": 27,
   "metadata": {},
   "outputs": [],
   "source": [
    "# Extraed los valores únicos de cada uno de los arrays\n",
    "#  y los guardáis en variables en las que se les llame array1 y array2.\n",
    "\n",
    "array11_unicos = np.unique(array11)\n",
    "array22_unicos = np.unique(array22)"
   ]
  },
  {
   "cell_type": "code",
   "execution_count": 28,
   "metadata": {},
   "outputs": [],
   "source": [
    "# Identificad los elementos presentes en el array1 pero no en el array2\n",
    "#  y asiganarlo a una variable que se llame array3.\n",
    "\n",
    "array33 = np.setdiff1d(array11, array22)"
   ]
  },
  {
   "cell_type": "code",
   "execution_count": 29,
   "metadata": {},
   "outputs": [],
   "source": [
    "# Identificad los elementos presentes en el array2 pero\n",
    "#  no en el array1 y asiganarlo a una variable que se llame array4.\n",
    "\n",
    "array44 = np.setdiff1d(array22, array11)\n"
   ]
  },
  {
   "cell_type": "code",
   "execution_count": 30,
   "metadata": {},
   "outputs": [],
   "source": [
    "# Identificad los elementos presentes en ambos arrays \n",
    "# y asiganarlos a una variable que se llame array5.\n",
    "\n",
    "array55 = np.intersect1d(array11, array22)\n"
   ]
  },
  {
   "cell_type": "code",
   "execution_count": 34,
   "metadata": {},
   "outputs": [
    {
     "name": "stdout",
     "output_type": "stream",
     "text": [
      "80\n",
      "80\n",
      "26\n",
      "27\n",
      "27\n"
     ]
    }
   ],
   "source": [
    "# ¿Cuál es la relación que existe entre todos estos arrays? \n",
    "# 💡 Pista 💡 Tendréis que usar las longitudes de cada uno de los arrays creados.\n",
    "\n",
    "print(array11.size)\n",
    "print(array22.size)\n",
    "print(array33.size)\n",
    "print(array44.size)\n",
    "print(array55.size)"
   ]
  },
  {
   "cell_type": "code",
   "execution_count": 36,
   "metadata": {},
   "outputs": [
    {
     "name": "stdout",
     "output_type": "stream",
     "text": [
      "Los dos primeros arrays son del mismo tamaño, 80. Los valores que están en array11 y no en array22 son 26, y al revés, son 27. De la misma manera, el total de elementos presentes en los dos arrays es de 27.\n"
     ]
    }
   ],
   "source": [
    "print('Los dos primeros arrays son del mismo tamaño, 80. Los valores que están en array11 y no en array22 son 26, y al revés, son 27. De la misma manera, el total de elementos presentes en los dos arrays es de 27.')"
   ]
  },
  {
   "cell_type": "code",
   "execution_count": null,
   "metadata": {},
   "outputs": [],
   "source": []
  }
 ],
 "metadata": {
  "kernelspec": {
   "display_name": "base",
   "language": "python",
   "name": "python3"
  },
  "language_info": {
   "codemirror_mode": {
    "name": "ipython",
    "version": 3
   },
   "file_extension": ".py",
   "mimetype": "text/x-python",
   "name": "python",
   "nbconvert_exporter": "python",
   "pygments_lexer": "ipython3",
   "version": "3.9.7 (default, Sep 16 2021, 13:09:58) \n[GCC 7.5.0]"
  },
  "orig_nbformat": 4,
  "vscode": {
   "interpreter": {
    "hash": "f8e782a3a92a384869fb83a8974812ed4d4d199ed3e8c8704ecd8a7536d7fad4"
   }
  }
 },
 "nbformat": 4,
 "nbformat_minor": 2
}
