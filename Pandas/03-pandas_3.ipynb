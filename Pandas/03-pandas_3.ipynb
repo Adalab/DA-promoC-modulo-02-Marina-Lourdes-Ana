{
 "cells": [
  {
   "cell_type": "code",
   "execution_count": null,
   "metadata": {},
   "outputs": [],
   "source": [
    "import pandas as pd"
   ]
  },
  {
   "cell_type": "code",
   "execution_count": null,
   "metadata": {},
   "outputs": [],
   "source": [
    "##############################  Pair Programming Pandas III ##############################\n",
    "\n",
    "# De aquí en adelante, vamos a trabajar con el mismo dataset. \n",
    "# Se trata de un conjunto de datos que contiene información \n",
    "# sobre ataques de tiburones en distintas partes del mundo. \n",
    "# ¿El problema de los datos? Están terriblemente sucios!!! \n",
    "# En las próximas lecciones iremos limpiando este csv \n",
    "# y sacaremos conclusiones usando la visualización.\n",
    "\n",
    "# Tareas a realizar en este pair programming\n",
    "\n",
    "# Cargar el dataset\n",
    "# 💡 Pista Si hacemos la carga del dataset sin el parámetro \n",
    "# encoding nos puede dar error (puede que no os de error,\n",
    "#  si es así menos problemas!).  tenéis una lista de los encodings \n",
    "# disponibles en pandas. Buscad por los encoding de tipo ISO.\n",
    "df_csv = pd.read_csv('03-attacks.csv', sep = \",\")\n",
    "df_csv.head(10)\n"
   ]
  },
  {
   "cell_type": "code",
   "execution_count": null,
   "metadata": {},
   "outputs": [],
   "source": [
    "# Haced una exploración básica del DataFrame:\n",
    "# ¿Cuántas filas y columnas tiene el DataFrame?\n",
    "df_csv.shape \n",
    "\n",
    "# Mostrad las primeras cinco filas y las últimas cinco filas del DataFrame.\n",
    "df_csv.head(5)\n",
    "df_csv.tail(5)\n",
    "# Mostrad 2 filas al azar del DataFrame.\n",
    "# ¿Cuál es el nombre de las columnas del DataFrame?\n",
    "df_csv.columns\n",
    "# ¿Cuáles son los principales estádisticos del DataFrame?\n",
    "df_csv.dtypes \n",
    "df_csv.describe()\n",
    "# Mostrad por separado las variables categóricas y las variables numéricas.\n",
    "df_csv.describe(include = 'object')\n",
    "# ¿Cuál es el porcentaje de valores nulos en cada columna?\n",
    "\n",
    "# Sacad los valores únicos y su frecuencia de las variables numéricas.\n",
    "# Almacenad los resultados en un diccionario. \n",
    "# Uno para cada variable.\n",
    "\n",
    "# Cambiad el nombre de las columnas para que todas estén en minúsculas\n",
    "#  y reemplazad los espacios por _.\n",
    "\n",
    "# Eliminad las columnas de Unnamed: 22 y Unnamed: 23, \n",
    "# Case Number.1, Case Number.2, original order, \n",
    "# Investigator or Source, pdf, href formula.\n",
    "\n",
    "# Establece la columna Case Number como índice del DataFrame.\n",
    "\n",
    "# Guarda el csv que no tiene esas columnas para seguir usándolo mañana."
   ]
  }
 ],
 "metadata": {
  "kernelspec": {
   "display_name": "base",
   "language": "python",
   "name": "python3"
  },
  "language_info": {
   "name": "python",
   "version": "3.9.7 (default, Sep 16 2021, 13:09:58) \n[GCC 7.5.0]"
  },
  "orig_nbformat": 4,
  "vscode": {
   "interpreter": {
    "hash": "f8e782a3a92a384869fb83a8974812ed4d4d199ed3e8c8704ecd8a7536d7fad4"
   }
  }
 },
 "nbformat": 4,
 "nbformat_minor": 2
}
