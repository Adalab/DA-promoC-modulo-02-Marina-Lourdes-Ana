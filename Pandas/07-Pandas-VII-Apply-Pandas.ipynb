{
 "cells": [
  {
   "cell_type": "code",
   "execution_count": 1,
   "id": "7f5d8941",
   "metadata": {},
   "outputs": [],
   "source": [
    "# importamos todas las librerías que necesitamos\n",
    "\n",
    "import pandas as pd\n",
    "pd.options.display.max_columns = None"
   ]
  },
  {
   "attachments": {},
   "cell_type": "markdown",
   "id": "115eac17",
   "metadata": {},
   "source": [
    "### Pair Programming Pandas VII"
   ]
  },
  {
   "attachments": {},
   "cell_type": "markdown",
   "id": "5f9a451c",
   "metadata": {},
   "source": [
    "En el ejercicio de ayer estuvimos viendo el groupby y pudimos observar que los datos estaban un poco sucios... 😭.\n",
    "\n",
    "En los ejercicios de hoy pondremos en práctica los apply, \n",
    "\n",
    "y nos crearemos algunas funciones que nos van a permitir limpiar un poco los datos, \n",
    "\n",
    "para que podamos extraer conclusiones de una forma más sencilla."
   ]
  },
  {
   "attachments": {},
   "cell_type": "markdown",
   "id": "60ffe6ca",
   "metadata": {},
   "source": [
    "# Manos a la obra 💪🏽! Los objetivos de la clase de hoy son:"
   ]
  },
  {
   "attachments": {},
   "cell_type": "markdown",
   "id": "c3432374",
   "metadata": {},
   "source": [
    "# 1. Cread una columna nueva y una función que nos de el mes en el que ocurrió el ataque. \n",
    "\n",
    "Tened en cuenta que no todas las filas tienen la misma estructura \n",
    "y que puede que no haya la información de mes. En ese caso devolved un nulo (NaN).\n",
    "💡 Pista 💡Podéis usar regex."
   ]
  },
  {
   "cell_type": "code",
   "execution_count": null,
   "id": "4231b870",
   "metadata": {},
   "outputs": [],
   "source": []
  },
  {
   "attachments": {},
   "cell_type": "markdown",
   "id": "28ac6b9d",
   "metadata": {},
   "source": [
    "# 2. Vamos con la columna fatal_(y/n). \n",
    "Lo primero que tenéis que hacer es evaluar los valores únicos que hay.\n",
    "\n",
    " Esperaríamos tener solo dos valores: y y n, pero tristemente no será así 😭.\n",
    "\n",
    "  Cread una columna nueva y una función que devuelva únicamente y o n \n",
    "  \n",
    "  y que devuelva un nulo (NaN) si no se encuentra el valor.\n"
   ]
  },
  {
   "cell_type": "code",
   "execution_count": null,
   "id": "027d7776",
   "metadata": {},
   "outputs": [],
   "source": []
  },
  {
   "attachments": {},
   "cell_type": "markdown",
   "id": "a0c393a9",
   "metadata": {},
   "source": [
    "# 3. Seguid la misma lógica que en el ejercicio anterior pero con la columna sex. \n",
    "Pero en este caso vamos a incluir un retito más: En este caso querremos tener dos\n",
    "\n",
    " valores únicos F y M. De nuevo en la columna hay otros carácteres raros como 'M ', 'lli', 'N', '.'.\n",
    " \n",
    "  En esos casos, queremos que se reemplacen por M o F de forma aleatoria (tendréis que usar la librería random).\n",
    "  \n",
    "   En caso de que sea nulo, que la función devuelva nulo (np.nan).\n"
   ]
  },
  {
   "cell_type": "code",
   "execution_count": null,
   "id": "13e4a925",
   "metadata": {},
   "outputs": [],
   "source": []
  },
  {
   "attachments": {},
   "cell_type": "markdown",
   "id": "6f516a16",
   "metadata": {},
   "source": [
    "# 4. Una vez que hayáis terminado eliminad las columnas originales conservando las nuevas.\n"
   ]
  },
  {
   "cell_type": "code",
   "execution_count": null,
   "id": "9370c1ca",
   "metadata": {},
   "outputs": [],
   "source": []
  },
  {
   "attachments": {},
   "cell_type": "markdown",
   "id": "cbbee65e",
   "metadata": {},
   "source": [
    "# 5. Guardad el dataframe en un csv que usaremos más adelante"
   ]
  },
  {
   "cell_type": "code",
   "execution_count": null,
   "id": "32d629b2",
   "metadata": {},
   "outputs": [],
   "source": []
  }
 ],
 "metadata": {
  "kernelspec": {
   "display_name": "base",
   "language": "python",
   "name": "python3"
  },
  "language_info": {
   "codemirror_mode": {
    "name": "ipython",
    "version": 3
   },
   "file_extension": ".py",
   "mimetype": "text/x-python",
   "name": "python",
   "nbconvert_exporter": "python",
   "pygments_lexer": "ipython3",
   "version": "3.9.7"
  },
  "toc": {
   "base_numbering": 1,
   "nav_menu": {},
   "number_sections": true,
   "sideBar": true,
   "skip_h1_title": false,
   "title_cell": "Table of Contents",
   "title_sidebar": "Contents",
   "toc_cell": true,
   "toc_position": {},
   "toc_section_display": true,
   "toc_window_display": false
  },
  "vscode": {
   "interpreter": {
    "hash": "f8e782a3a92a384869fb83a8974812ed4d4d199ed3e8c8704ecd8a7536d7fad4"
   }
  }
 },
 "nbformat": 4,
 "nbformat_minor": 5
}
