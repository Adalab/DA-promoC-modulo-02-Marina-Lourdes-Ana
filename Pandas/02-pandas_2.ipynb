{
 "cells": [
  {
   "cell_type": "code",
   "execution_count": null,
   "metadata": {},
   "outputs": [],
   "source": [
    "##############################   Pair Programming Pandas II  ###############################"
   ]
  },
  {
   "cell_type": "code",
   "execution_count": null,
   "metadata": {},
   "outputs": [],
   "source": [
    "#En este ejercicio de pair programming pondremos en práctica como cargar \n",
    "# distintos tipos de archivos en Python usando Pandas.\n",
    "# Al final de la explicación encontrareís una serie de ficheros con distintos formatos.\n",
    "# Los objetivos de este pair programming:\n",
    "# Id cargando todos los ficheros en vuestro jupyter.\n",
    "# Si os da error leer el pickle será por la versión de pandas. Podéis guardar el csv como pickle y cargarlo de ahí.\n",
    "# Para poner el práctica el read_clipboard elegir alguna tabla que os podaís encontrar en google y usad dicho método \n",
    "# para traer los datos al jupyter notebook. Una vez que los hayáis cargado, guardad esos datos en los siguientes formatos:\n",
    "# csv\n",
    "# excel\n",
    "# json\n",
    "# pickle"
   ]
  }
 ],
 "metadata": {
  "kernelspec": {
   "display_name": "Python 3.9.7 ('base')",
   "language": "python",
   "name": "python3"
  },
  "language_info": {
   "name": "python",
   "version": "3.9.7"
  },
  "orig_nbformat": 4,
  "vscode": {
   "interpreter": {
    "hash": "f8e782a3a92a384869fb83a8974812ed4d4d199ed3e8c8704ecd8a7536d7fad4"
   }
  }
 },
 "nbformat": 4,
 "nbformat_minor": 2
}
