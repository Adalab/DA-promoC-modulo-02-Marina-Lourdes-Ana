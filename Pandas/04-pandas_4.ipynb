{
 "cells": [
  {
   "cell_type": "code",
   "execution_count": null,
   "metadata": {},
   "outputs": [],
   "source": [
    "####################################    Pair Programming Pandas IV      ####################################\n",
    "\n",
    "# Hoy seguiremos trabajando con el csv de ataques que exploramos ayer.\n",
    "#  Para eso, ayer guardasteis al final del pair programming al que \n",
    "# le habíamos elimiando algunas columnas. Utilizad ese fichero.\n",
    "import pandas as pd\n",
    "import numpy as np\n",
    "# En la lección de hoy tendréis que ir contestando una serie \n",
    "# de preguntas que os planteamos. Para ello tendréis que aplicar\n",
    "#  los conocimientos adquiridos en la clase invertida sobre como\n",
    "#  filtrar datos en el DataFrame y como reemplazar valores en el DataFrame.\n",
    "\n",
    "# Cargad el csv que guardasteis ayer.\n",
    "df_tiburones = pd.read_csv(\"03-attacks.csv\")\n",
    "df_tiburones.head(1)\n",
    "# Antes de seguir con las preguntas, este DataFrame \n",
    "# está terriblemente sucio. En las próximas sesiones \n",
    "# lo iremos limpiando. Para evitar posibles errores con los nulos\n",
    "# vamos a eliminar todos los nulos del DataFrame.\n",
    "# Para ello vamos a utilizar el método .dropna() de pandas. \n",
    "# Tendréis que ejecutar la siguiente línea de código para eliminar \n",
    "# los nulos del DataFrame y poder seguir haciendo el resto de los ejercicios.\n"
   ]
  },
  {
   "cell_type": "code",
   "execution_count": null,
   "metadata": {},
   "outputs": [],
   "source": []
  },
  {
   "cell_type": "code",
   "execution_count": null,
   "metadata": {},
   "outputs": [],
   "source": [
    "# ¿Cuántas filas se han eliminado con esta línea de código?"
   ]
  },
  {
   "cell_type": "code",
   "execution_count": null,
   "metadata": {},
   "outputs": [],
   "source": [
    "# ¿Cuál es el número de ataques que se han producido en Estados Unidos?\n",
    "df_ataque_usa = df[df[\"\"] == \"Estados Unidos\"]"
   ]
  },
  {
   "cell_type": "code",
   "execution_count": null,
   "metadata": {},
   "outputs": [],
   "source": [
    "# ¿Y en España?"
   ]
  },
  {
   "cell_type": "code",
   "execution_count": null,
   "metadata": {},
   "outputs": [],
   "source": [
    "# 3.1 ¿En qué regiones se han producido los ataques (columna location) ?\n"
   ]
  },
  {
   "cell_type": "code",
   "execution_count": null,
   "metadata": {},
   "outputs": [],
   "source": [
    "# 3.2 ¿Cuántos ataques se han producido en cada área (columna area?"
   ]
  },
  {
   "cell_type": "code",
   "execution_count": null,
   "metadata": {},
   "outputs": [],
   "source": [
    "# Extraed un DataFrame nuevo con los ataques que se han producido \n",
    "# en Australia y Estados Unidos. \n",
    "\n",
    "# 📌 Nota Este ejercicio se puede resolver usando \n",
    "# dos condiciones de filtrado o usando el método isin(). \n",
    "# Hacedlo con ambas herramientas."
   ]
  },
  {
   "cell_type": "code",
   "execution_count": null,
   "metadata": {},
   "outputs": [],
   "source": [
    "# 4.1 ¿Cuántos ataques se han producido en cada país?"
   ]
  },
  {
   "cell_type": "code",
   "execution_count": null,
   "metadata": {},
   "outputs": [],
   "source": [
    "# 4.2 ¿Ha habido ataques en Australia a gente que estuviera \n",
    "# remando (lo encontrareis como Paddling en el DataFrame en la columna activity)?"
   ]
  },
  {
   "cell_type": "code",
   "execution_count": null,
   "metadata": {},
   "outputs": [],
   "source": [
    "# 4.3 ¿Cuántos ataques se han producido en Australia antes del 2000?"
   ]
  },
  {
   "cell_type": "code",
   "execution_count": null,
   "metadata": {},
   "outputs": [],
   "source": [
    "# 4.4 ¿Y después del 2000?"
   ]
  },
  {
   "cell_type": "code",
   "execution_count": null,
   "metadata": {},
   "outputs": [],
   "source": [
    "# Extraed unicamente los ataques a mujeres."
   ]
  },
  {
   "cell_type": "code",
   "execution_count": null,
   "metadata": {},
   "outputs": [],
   "source": [
    "# ¿Cuántas mujeres fueron atacadas en España?"
   ]
  },
  {
   "cell_type": "code",
   "execution_count": null,
   "metadata": {},
   "outputs": [],
   "source": [
    "# Extraed los ataques que se hayan producido en el año 2000, 1997 y 2006.\n",
    "# Utilizad el método isin() para resolver este ejercicio."
   ]
  },
  {
   "cell_type": "code",
   "execution_count": null,
   "metadata": {},
   "outputs": [],
   "source": [
    "# Si extraemos los valores únicos de la columna species nos \n",
    "# podemos dar cuenta que está un poco sucia y extraer informacion\n",
    "# útil de la misma se puede convertir en algo difícil.\n",
    "#  \n",
    "# En este ejercicio tendréis que extraer los ataques que \n",
    "# han ocurrido por tiburón blanco (lo encontraremos en \n",
    "# la columna species como algo que contenga white o White). \n",
    "# Usad el método str.contains() para resolver este ejercicio."
   ]
  },
  {
   "cell_type": "code",
   "execution_count": null,
   "metadata": {},
   "outputs": [],
   "source": [
    "# Extraed ahora los ataques por tiburón blanco o tigre. \n",
    "#Utilizad el método str.contains() para resolver este ejercicio.\n",
    "# Utilizando la columna de year cread una nueva columna llamada \n",
    "# siglo que tiene siglo-XX o siglo-XXI. Donde el año sea menor\n",
    "# que 2000 pondremos siglo-XX y el resto de los años siglo-XXI."
   ]
  },
  {
   "cell_type": "code",
   "execution_count": null,
   "metadata": {},
   "outputs": [],
   "source": [
    "# Guardad como un archivo csv nuevo. \n",
    "# Lo usaremos en el pair programming de mañana.\n",
    "df_csv.to_csv(\"04-attacks.csv\")"
   ]
  },
  {
   "cell_type": "code",
   "execution_count": null,
   "metadata": {},
   "outputs": [],
   "source": []
  },
  {
   "cell_type": "code",
   "execution_count": null,
   "metadata": {},
   "outputs": [],
   "source": []
  }
 ],
 "metadata": {
  "kernelspec": {
   "display_name": "Python 3",
   "language": "python",
   "name": "python3"
  },
  "language_info": {
   "name": "python",
   "version": "3.8.10 (tags/v3.8.10:3d8993a, May  3 2021, 11:48:03) [MSC v.1928 64 bit (AMD64)]"
  },
  "orig_nbformat": 4,
  "vscode": {
   "interpreter": {
    "hash": "94b3ff6a27870a7cc36cfcc233c2d6d7a500b67077a2ccb041bb9f3f5f987204"
   }
  }
 },
 "nbformat": 4,
 "nbformat_minor": 2
}
