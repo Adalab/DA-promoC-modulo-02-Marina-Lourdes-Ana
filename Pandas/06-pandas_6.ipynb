{
 "cells": [
  {
   "cell_type": "code",
   "execution_count": null,
   "metadata": {},
   "outputs": [],
   "source": [
    "##############################################  Pair Programming Pandas VI\n",
    "\n",
    "# Es el momento de poner en práctica los groupby de pandas. \n",
    "# Para esto vamos a trabajar con el csv creado en el ejercicio de pair programming anterior.\n",
    "# El objetivo de este ejercicio es agrupar los datos para contestar las siguientes preguntas:\n",
    "# ¿Cuántos ataques hubo por país? Devuelve un DataFrame.\n",
    "# 📌 NOTA Ordena los resultados de mayor a menor. \n",
    "# Esto todavía no lo hemos visto, pero un DataFrame lo podemos ordenar con .sort_values().  \n",
    "# tenéis una explicación de cómo hacerlo.\n",
    "\n",
    "# ¿Cuántos ataques ha habido por año? Devuelve un DataFrame.\n",
    "# De nuevo ordena los resultados de mayor a menor.\n",
    "\n",
    "# ¿Cuántos ataques hubo por año y sexo? Devolved un DataFrame solo del año 2000 en adelante.\n",
    "\n",
    "# Primero extraed solo las filas que correspondan a USA, AUSTRALIA y SOUTH AFRICA.\n",
    "#  ¿Cuántos de los ataques fueron letales por sexo? Devuelve un DataFrame.\n",
    "\n",
    "# Usando el DataFrame creado en el ejercicio anterior. ¿En qué país hubo más ataques?\n",
    "\n",
    "# ¿Qué y cuántos tipos de ataques hubo por país?\n",
    "\n",
    "# Happy coding 🦈"
   ]
  }
 ],
 "metadata": {
  "language_info": {
   "name": "python"
  },
  "orig_nbformat": 4
 },
 "nbformat": 4,
 "nbformat_minor": 2
}
