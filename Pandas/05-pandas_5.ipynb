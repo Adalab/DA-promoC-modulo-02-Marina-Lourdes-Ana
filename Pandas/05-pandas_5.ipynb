{
 "cells": [
  {
   "cell_type": "code",
   "execution_count": null,
   "metadata": {},
   "outputs": [],
   "source": [
    "##############################################  Pair Programming Pandas V   #####################################\n",
    "# En este ejercicio pondremos en práctica los conceptos \n",
    "# básicos para juntar varios csv que compartan información.\n",
    "# Trabajaremos con tres ficheros diferentes:\n",
    "# El csv que creamos en el ejercicio de pair programming Pandas IV, \n",
    "# dónde recordamos eliminamos ciertas columnas que no eran necesarias, \n",
    "# y habíamos creado nuevas.\n",
    "\n",
    "# El csv llamado attacks_historico donde tenemos información sobre \n",
    "# los ataques de tiburón previos al año 1800, este fichero lo \n",
    "# tenéis un poco mas abajo para descargar.\n",
    "\n",
    "# El csv llamado attacks_adicional donde tenemos información \n",
    "# sobre los ataques de tiburón. de nuevo, \n",
    "# este fichero lo tenéis abajo para descargar.\n",
    "\n",
    "# El principal objetivo de este ejercicio de pair programming\n",
    "#  es acabar teniendo un único DataFrame con toda la información\n",
    "#  contenida en los tres csv anteriores.\n",
    "\n",
    "# Para llevar a cabo nuestro objetivo tendréis que seguir los siguientes pasos:\n",
    "# Cargad los tres ficheros nombrados anteriormente y los exploramos para \n",
    "# familizarizarnos con ellos y saber que información tienen en común\n",
    "#  y debatir con tu compañera como podríamos juntar toda la información.\n",
    "\n",
    "# Chequead que los nombres de las columnas ver si se llaman iguales entre dataframes .\n",
    "#  ¿Están todas en minúsculas? \n",
    "# ¿Tienen espacios? \n",
    "# En caso de que no sean todas iguales unificad el nombre de las columnas.\n",
    "# En este momento nos habremos dado cuenta que el DataFrame que generamos \n",
    "# en el pair programming Pandas IV es similar al DataFrame de los datos historicos.\n",
    "# Si recordamos, eliminamos algunas columnas en la sesión III que no eran útiles,\n",
    "#  pero esas columnas están todavía en el histórico. Si no fuera por eso podríamos \n",
    "# unir esos dataframes. Realizad los cambios que creais necesarios para que los\n",
    "#  dataframes sean iguales y luego juntadlos usando el mejor método.\n",
    "\n",
    "# Es el momento de unir la información de todos los ataques de tiburón\n",
    "#  que acabamos de crear con el DataFrame de información adicional. \n",
    "# Debatid que método es el más correcto para unir toda esta información \n",
    "# y ejecutadlo.\n",
    "\n",
    "# 📌 NOTA Cuando hagáis la unión considerad que la información que más \n",
    "# nos interesa es la del DataFrame que creamos en el apartado anterior,\n",
    "#  lo cual determinará el tipo de unión.\n",
    "\n",
    "# Guardad el dataframe nuevo en un csv que usaremos mañana en la clase de pair programming"
   ]
  }
 ],
 "metadata": {
  "language_info": {
   "name": "python"
  },
  "orig_nbformat": 4
 },
 "nbformat": 4,
 "nbformat_minor": 2
}
