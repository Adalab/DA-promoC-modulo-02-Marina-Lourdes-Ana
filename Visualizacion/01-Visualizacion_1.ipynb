{
 "cells": [
  {
   "cell_type": "code",
   "execution_count": null,
   "metadata": {},
   "outputs": [],
   "source": [
    "##########################  Pair Programming Visualización I\n",
    "\n",
    "# Es el momento de ponernos manos a la obra con la visualización de datos.\n",
    "#  En este primer ejercicio de pair programming trabajaremos con el csv \n",
    "# que generamos en el ejercicio de pair programming de Pandas III,\n",
    "#  ese en el que habíamos eliminado algunas columnas de nuestro csv.\n",
    "\n",
    "# Hoy realizaremos una serie de gráficas usando la librería \n",
    "# de matplotlib para familiarizarnos un poco con los datos.\n",
    "# 📌 Para poder solucionar los ejercicios de hoy no solo \n",
    "# tendremos que visualizar, también tendremos que usar métodos\n",
    "#  que hemos aprendido en lecciones anteriores de Pandas\n",
    "#  como por ejemplo value_counts(), isnull, describe, etc.\n",
    "\n",
    "# Tendréis que realizar gráficas para contestar a las siguientes preguntas:\n",
    "\n"
   ]
  },
  {
   "cell_type": "code",
   "execution_count": null,
   "metadata": {},
   "outputs": [],
   "source": [
    "# ¿Cuál es la frecuencia de cada una de las categorías de la columna sex?\n"
   ]
  },
  {
   "cell_type": "code",
   "execution_count": null,
   "metadata": {},
   "outputs": [],
   "source": [
    "# ¿Cuál es el porcentaje de nulos por columna? Usa un pie chart\n",
    "#  donde incluyáis el porcentaje de cada variable en el \n",
    "# interior del quesito. \n",
    "# Para eso tendréis que usar el parámetro autopct,  algo de documentación.\n"
   ]
  },
  {
   "cell_type": "code",
   "execution_count": null,
   "metadata": {},
   "outputs": [],
   "source": [
    "# ¿Cuál es el número total de valores únicos de cada una de \n",
    "# las columnas categóricas del DataFrame?\n",
    "# Filtrad los datos para quedarnos solo con los datos de USA.\n",
    "\n"
   ]
  },
  {
   "cell_type": "code",
   "execution_count": null,
   "metadata": {},
   "outputs": [],
   "source": [
    "# ¿Cuántos ataques de tiburones hubo en USA a lo largo del tiempo?\n",
    "#  Muestra solo los que hayan ocurrido del 2000 en adelante.\n",
    "# En función del tipo, ¿cuántos ataques de tiburones de cada \n",
    "# tipo hubo en USA? Muestra los resultados en un gráfico de línea.\n",
    "\n"
   ]
  },
  {
   "cell_type": "code",
   "execution_count": null,
   "metadata": {},
   "outputs": [],
   "source": [
    "# Filtrad los datos para Spain:\n",
    "# ¿Cuántos ataques de tiburones hubo en España \n",
    "# a lo largo del tiempo? Muestra solo los que hayan ocurrido\n",
    "#  del 2000 en adelante.\n",
    "# En función del tipo, \n",
    "# ¿cuántos ataques de cada tipo de tiburones hubo en España?\n",
    "#  Muestra los resultados en un gráfico de línea."
   ]
  }
 ],
 "metadata": {
  "language_info": {
   "name": "python"
  },
  "orig_nbformat": 4
 },
 "nbformat": 4,
 "nbformat_minor": 2
}
