{
 "cells": [
  {
   "cell_type": "code",
   "execution_count": 3,
   "metadata": {},
   "outputs": [],
   "source": [
    "import seaborn as sns\n",
    "import matplotlib.pyplot as plt\n",
    "import pandas as pd\n",
    "import numpy as np\n",
    "pd.options.display.max_columns = None"
   ]
  },
  {
   "attachments": {},
   "cell_type": "markdown",
   "metadata": {},
   "source": [
    "#   Pair Programming Visualización III - Seaborn"
   ]
  },
  {
   "attachments": {},
   "cell_type": "markdown",
   "metadata": {},
   "source": [
    "En este ejercicio, de nuevo, trabajaremos con el csv que generamos \n",
    "\n",
    "en el ejercicio de pair programming de Pandas V, ese en el que habíamos unido distintos csv en uno.\n",
    "\n",
    "En estos ejercicios aprenderemos a hacer algunas gráficas usando la librería seaborn. Igual que el ejercicio anterior \n",
    "\n",
    "de pair programming, para solucionar algunas preguntas tendréis que usar métodos y herramientas aprendidas\n",
    "\n",
    "anteriormente como groupby, value_counts, rename, filtrado de datos, etc."
   ]
  },
  {
   "cell_type": "code",
   "execution_count": 5,
   "metadata": {},
   "outputs": [
    {
     "data": {
      "text/html": [
       "<div>\n",
       "<style scoped>\n",
       "    .dataframe tbody tr th:only-of-type {\n",
       "        vertical-align: middle;\n",
       "    }\n",
       "\n",
       "    .dataframe tbody tr th {\n",
       "        vertical-align: top;\n",
       "    }\n",
       "\n",
       "    .dataframe thead th {\n",
       "        text-align: right;\n",
       "    }\n",
       "</style>\n",
       "<table border=\"1\" class=\"dataframe\">\n",
       "  <thead>\n",
       "    <tr style=\"text-align: right;\">\n",
       "      <th></th>\n",
       "      <th>Unnamed: 0</th>\n",
       "      <th>case_number</th>\n",
       "      <th>year_</th>\n",
       "      <th>type_</th>\n",
       "      <th>country_</th>\n",
       "      <th>area_</th>\n",
       "      <th>location_</th>\n",
       "      <th>activity_</th>\n",
       "      <th>name_</th>\n",
       "      <th>se__</th>\n",
       "      <th>age_</th>\n",
       "      <th>time_</th>\n",
       "      <th>species_</th>\n",
       "      <th>investigator_or_source_</th>\n",
       "      <th>pdf_</th>\n",
       "      <th>href_formula_</th>\n",
       "      <th>href_</th>\n",
       "      <th>case_number.1_</th>\n",
       "      <th>case_number.2_</th>\n",
       "      <th>original_order_</th>\n",
       "      <th>year_.1</th>\n",
       "      <th>type_.1</th>\n",
       "      <th>country_.1</th>\n",
       "      <th>area_.1</th>\n",
       "      <th>location_.1</th>\n",
       "      <th>activity_.1</th>\n",
       "      <th>name_.1</th>\n",
       "      <th>se_</th>\n",
       "      <th>age_.1</th>\n",
       "      <th>time_.1</th>\n",
       "      <th>species_.1</th>\n",
       "      <th>investigator_or_source_.1</th>\n",
       "      <th>pdf_.1</th>\n",
       "      <th>href_formula_.1</th>\n",
       "      <th>href_.1</th>\n",
       "      <th>case_number.1_.1</th>\n",
       "      <th>case_number.2_.1</th>\n",
       "      <th>original_order_.1</th>\n",
       "      <th>fatal_(y/n)</th>\n",
       "      <th>injury</th>\n",
       "      <th>date</th>\n",
       "    </tr>\n",
       "  </thead>\n",
       "  <tbody>\n",
       "    <tr>\n",
       "      <th>0</th>\n",
       "      <td>0</td>\n",
       "      <td>1800.00.00</td>\n",
       "      <td>1800.0</td>\n",
       "      <td>Unprovoked</td>\n",
       "      <td>SEYCHELLES</td>\n",
       "      <td>St. Anne</td>\n",
       "      <td>NaN</td>\n",
       "      <td>a corsair's boat was overturned</td>\n",
       "      <td>NaN</td>\n",
       "      <td>F</td>\n",
       "      <td>NaN</td>\n",
       "      <td>NaN</td>\n",
       "      <td>NaN</td>\n",
       "      <td>V. C. Harvey-Brain</td>\n",
       "      <td>1800.00.00-Corsair-boat.pdf</td>\n",
       "      <td>http://sharkattackfile.net/spreadsheets/pdf_di...</td>\n",
       "      <td>http://sharkattackfile.net/spreadsheets/pdf_di...</td>\n",
       "      <td>1800.00.00</td>\n",
       "      <td>1800.00.00</td>\n",
       "      <td>171.0</td>\n",
       "      <td>1800.0</td>\n",
       "      <td>Unprovoked</td>\n",
       "      <td>SEYCHELLES</td>\n",
       "      <td>St. Anne</td>\n",
       "      <td>NaN</td>\n",
       "      <td>a corsair's boat was overturned</td>\n",
       "      <td>NaN</td>\n",
       "      <td>F</td>\n",
       "      <td>NaN</td>\n",
       "      <td>NaN</td>\n",
       "      <td>NaN</td>\n",
       "      <td>V. C. Harvey-Brain</td>\n",
       "      <td>1800.00.00-Corsair-boat.pdf</td>\n",
       "      <td>http://sharkattackfile.net/spreadsheets/pdf_di...</td>\n",
       "      <td>http://sharkattackfile.net/spreadsheets/pdf_di...</td>\n",
       "      <td>1800.00.00</td>\n",
       "      <td>1800.00.00</td>\n",
       "      <td>171.0</td>\n",
       "      <td>Y</td>\n",
       "      <td>FATAL, all onboard were killed by sharks</td>\n",
       "      <td>1800</td>\n",
       "    </tr>\n",
       "  </tbody>\n",
       "</table>\n",
       "</div>"
      ],
      "text/plain": [
       "   Unnamed: 0 case_number   year_       type_    country_     area_ location_  \\\n",
       "0           0  1800.00.00  1800.0  Unprovoked  SEYCHELLES  St. Anne       NaN   \n",
       "\n",
       "                         activity_ name_ se__ age_ time_ species_  \\\n",
       "0  a corsair's boat was overturned   NaN    F  NaN   NaN      NaN   \n",
       "\n",
       "  investigator_or_source_                         pdf_  \\\n",
       "0      V. C. Harvey-Brain  1800.00.00-Corsair-boat.pdf   \n",
       "\n",
       "                                       href_formula_  \\\n",
       "0  http://sharkattackfile.net/spreadsheets/pdf_di...   \n",
       "\n",
       "                                               href_ case_number.1_  \\\n",
       "0  http://sharkattackfile.net/spreadsheets/pdf_di...     1800.00.00   \n",
       "\n",
       "  case_number.2_  original_order_  year_.1     type_.1  country_.1   area_.1  \\\n",
       "0     1800.00.00            171.0   1800.0  Unprovoked  SEYCHELLES  St. Anne   \n",
       "\n",
       "  location_.1                      activity_.1 name_.1 se_ age_.1 time_.1  \\\n",
       "0         NaN  a corsair's boat was overturned     NaN   F    NaN     NaN   \n",
       "\n",
       "  species_.1 investigator_or_source_.1                       pdf_.1  \\\n",
       "0        NaN        V. C. Harvey-Brain  1800.00.00-Corsair-boat.pdf   \n",
       "\n",
       "                                     href_formula_.1  \\\n",
       "0  http://sharkattackfile.net/spreadsheets/pdf_di...   \n",
       "\n",
       "                                             href_.1 case_number.1_.1  \\\n",
       "0  http://sharkattackfile.net/spreadsheets/pdf_di...       1800.00.00   \n",
       "\n",
       "  case_number.2_.1  original_order_.1 fatal_(y/n)  \\\n",
       "0       1800.00.00              171.0           Y   \n",
       "\n",
       "                                     injury  date  \n",
       "0  FATAL, all onboard were killed by sharks  1800  "
      ]
     },
     "execution_count": 5,
     "metadata": {},
     "output_type": "execute_result"
    }
   ],
   "source": [
    "df = pd.read_csv(\"../Pandas/05-attacks_union.csv\")\n",
    "df.head(1)"
   ]
  },
  {
   "attachments": {},
   "cell_type": "markdown",
   "metadata": {},
   "source": [
    "# Usando la librería seaborn"
   ]
  },
  {
   "attachments": {},
   "cell_type": "markdown",
   "metadata": {},
   "source": [
    "# 1.Crea una gráfica de barras que muestre el **número de personas**\n",
    "\n",
    "#  que han hecho cada **actividad** en cada año. \n",
    "\n",
    "# Hacedlo solo desde el **2015**.\n",
    "Os podrá salir una gráfica un poco fea, no os preocupeis, es lo que esperamos."
   ]
  },
  {
   "cell_type": "code",
   "execution_count": null,
   "metadata": {},
   "outputs": [],
   "source": []
  },
  {
   "attachments": {},
   "cell_type": "markdown",
   "metadata": {},
   "source": [
    "# **Análisis**: \n",
    "Como podemos observar al obtener estos resultados\n"
   ]
  },
  {
   "attachments": {},
   "cell_type": "markdown",
   "metadata": {},
   "source": [
    "# 2. Crea una gráfica de barras que muestre el **número de ataques** que han ocurrido \n",
    "# cada **año** en función del **sexo**. Hacedlo solo desde el **2015**.\n",
    "\n"
   ]
  },
  {
   "cell_type": "code",
   "execution_count": null,
   "metadata": {},
   "outputs": [],
   "source": []
  },
  {
   "attachments": {},
   "cell_type": "markdown",
   "metadata": {},
   "source": [
    "# **Análisis**: \n",
    "Como podemos observar al obtener estos resultados\n"
   ]
  },
  {
   "attachments": {},
   "cell_type": "markdown",
   "metadata": {},
   "source": [
    "# 3. ¿Cuántos **ataques** hubo por **año**? Seleccionad solo desde el año **1500**."
   ]
  },
  {
   "cell_type": "code",
   "execution_count": null,
   "metadata": {},
   "outputs": [],
   "source": []
  },
  {
   "attachments": {},
   "cell_type": "markdown",
   "metadata": {},
   "source": [
    "# **Análisis**: \n",
    "Como podemos observar al obtener estos resultados\n"
   ]
  },
  {
   "attachments": {},
   "cell_type": "markdown",
   "metadata": {},
   "source": [
    "# 4. Seleccionad solo los registros de **USA, AUSTRALIA y SOUTH AFRICA.**\n",
    "# Muestra el número de ataques por **país** y año desde el año **1900**.\n",
    "\n"
   ]
  },
  {
   "cell_type": "code",
   "execution_count": null,
   "metadata": {},
   "outputs": [],
   "source": []
  },
  {
   "attachments": {},
   "cell_type": "markdown",
   "metadata": {},
   "source": [
    "# **Análisis**: \n",
    "Como podemos observar al obtener estos resultados\n"
   ]
  },
  {
   "attachments": {},
   "cell_type": "markdown",
   "metadata": {},
   "source": [
    "# 5. Realizad un boxplot donde se muestre los principales\n",
    "#  estadísticos del número de **ataques por país**.\n",
    "\n",
    "📌 NOTA Somos analistas y no nos vale con sacar las gráficas.Incluid una celda de markdown donde expliqueis que es lo que estamos viendo en las gráficas, es decir,haced una interpretación de los resultados."
   ]
  },
  {
   "cell_type": "code",
   "execution_count": null,
   "metadata": {},
   "outputs": [],
   "source": []
  },
  {
   "attachments": {},
   "cell_type": "markdown",
   "metadata": {},
   "source": [
    "# **Análisis**: \n",
    "Como podemos observar al obtener estos resultados\n"
   ]
  }
 ],
 "metadata": {
  "kernelspec": {
   "display_name": "base",
   "language": "python",
   "name": "python3"
  },
  "language_info": {
   "codemirror_mode": {
    "name": "ipython",
    "version": 3
   },
   "file_extension": ".py",
   "mimetype": "text/x-python",
   "name": "python",
   "nbconvert_exporter": "python",
   "pygments_lexer": "ipython3",
   "version": "3.9.7"
  },
  "orig_nbformat": 4,
  "vscode": {
   "interpreter": {
    "hash": "f8e782a3a92a384869fb83a8974812ed4d4d199ed3e8c8704ecd8a7536d7fad4"
   }
  }
 },
 "nbformat": 4,
 "nbformat_minor": 2
}
