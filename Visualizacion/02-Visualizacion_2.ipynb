{
 "cells": [
  {
   "cell_type": "code",
   "execution_count": 1,
   "metadata": {},
   "outputs": [],
   "source": [
    "import matplotlib.pyplot as plt\n",
    "import pandas as pd\n",
    "import numpy as np \n",
    "import seaborn as sns"
   ]
  },
  {
   "attachments": {},
   "cell_type": "markdown",
   "metadata": {},
   "source": [
    "# Pair Programming Visualización II"
   ]
  },
  {
   "attachments": {},
   "cell_type": "markdown",
   "metadata": {},
   "source": [
    "Sigamos con más visualizaciones. En este caso trabajaremos\n",
    "\n",
    "con el csv que generamos en el ejercicio de pair programming \n",
    "\n",
    "de Pandas V, ese en el que habíamos unido distintos csv en uno.\n",
    "\n",
    "El objetivo de hoy, mejorar algunas de las gráficas que \n",
    "\n",
    "hicimos en el ejericio de pair programming de ayer y \n",
    "\n",
    "crear algunas nuevas aprovechando que tenemos \n",
    "\n",
    "algunas columnas nuevas en dataframe"
   ]
  },
  {
   "cell_type": "code",
   "execution_count": 4,
   "metadata": {},
   "outputs": [
    {
     "data": {
      "text/html": [
       "<div>\n",
       "<style scoped>\n",
       "    .dataframe tbody tr th:only-of-type {\n",
       "        vertical-align: middle;\n",
       "    }\n",
       "\n",
       "    .dataframe tbody tr th {\n",
       "        vertical-align: top;\n",
       "    }\n",
       "\n",
       "    .dataframe thead th {\n",
       "        text-align: right;\n",
       "    }\n",
       "</style>\n",
       "<table border=\"1\" class=\"dataframe\">\n",
       "  <thead>\n",
       "    <tr style=\"text-align: right;\">\n",
       "      <th></th>\n",
       "      <th>case_number</th>\n",
       "      <th>year</th>\n",
       "      <th>type</th>\n",
       "      <th>country</th>\n",
       "      <th>area</th>\n",
       "      <th>location</th>\n",
       "      <th>activity</th>\n",
       "      <th>name</th>\n",
       "      <th>sex</th>\n",
       "      <th>age</th>\n",
       "      <th>time</th>\n",
       "      <th>species</th>\n",
       "      <th>href</th>\n",
       "      <th>investigator_or_source</th>\n",
       "      <th>pdf</th>\n",
       "      <th>href_formula</th>\n",
       "      <th>case_number.1</th>\n",
       "      <th>case_number.2</th>\n",
       "      <th>original_order</th>\n",
       "    </tr>\n",
       "  </thead>\n",
       "  <tbody>\n",
       "    <tr>\n",
       "      <th>0</th>\n",
       "      <td>2018.06.25</td>\n",
       "      <td>2018.0</td>\n",
       "      <td>Boating</td>\n",
       "      <td>USA</td>\n",
       "      <td>California</td>\n",
       "      <td>Oceanside, San Diego County</td>\n",
       "      <td>Paddling</td>\n",
       "      <td>Julie Wolfe</td>\n",
       "      <td>F</td>\n",
       "      <td>57</td>\n",
       "      <td>18h00</td>\n",
       "      <td>White shark</td>\n",
       "      <td>http://sharkattackfile.net/spreadsheets/pdf_di...</td>\n",
       "      <td>NaN</td>\n",
       "      <td>NaN</td>\n",
       "      <td>NaN</td>\n",
       "      <td>NaN</td>\n",
       "      <td>NaN</td>\n",
       "      <td>NaN</td>\n",
       "    </tr>\n",
       "    <tr>\n",
       "      <th>1</th>\n",
       "      <td>2018.06.18</td>\n",
       "      <td>2018.0</td>\n",
       "      <td>Unprovoked</td>\n",
       "      <td>USA</td>\n",
       "      <td>Georgia</td>\n",
       "      <td>St. Simon Island, Glynn County</td>\n",
       "      <td>Standing</td>\n",
       "      <td>Adyson McNeely</td>\n",
       "      <td>F</td>\n",
       "      <td>11</td>\n",
       "      <td>14h00  -15h00</td>\n",
       "      <td>NaN</td>\n",
       "      <td>http://sharkattackfile.net/spreadsheets/pdf_di...</td>\n",
       "      <td>NaN</td>\n",
       "      <td>NaN</td>\n",
       "      <td>NaN</td>\n",
       "      <td>NaN</td>\n",
       "      <td>NaN</td>\n",
       "      <td>NaN</td>\n",
       "    </tr>\n",
       "  </tbody>\n",
       "</table>\n",
       "</div>"
      ],
      "text/plain": [
       "  case_number    year        type country        area  \\\n",
       "0  2018.06.25  2018.0     Boating     USA  California   \n",
       "1  2018.06.18  2018.0  Unprovoked     USA     Georgia   \n",
       "\n",
       "                         location  activity             name sex age  \\\n",
       "0     Oceanside, San Diego County  Paddling      Julie Wolfe   F  57   \n",
       "1  St. Simon Island, Glynn County  Standing  Adyson McNeely    F  11   \n",
       "\n",
       "            time      species  \\\n",
       "0          18h00  White shark   \n",
       "1  14h00  -15h00          NaN   \n",
       "\n",
       "                                                href investigator_or_source  \\\n",
       "0  http://sharkattackfile.net/spreadsheets/pdf_di...                    NaN   \n",
       "1  http://sharkattackfile.net/spreadsheets/pdf_di...                    NaN   \n",
       "\n",
       "   pdf href_formula case_number.1 case_number.2  original_order  \n",
       "0  NaN          NaN           NaN           NaN             NaN  \n",
       "1  NaN          NaN           NaN           NaN             NaN  "
      ]
     },
     "execution_count": 4,
     "metadata": {},
     "output_type": "execute_result"
    }
   ],
   "source": [
    "df_union = pd.read_csv('../Pandas/05-attacks_union.csv', index_col= 0)\n",
    "df_union.head(2)"
   ]
  },
  {
   "attachments": {},
   "cell_type": "markdown",
   "metadata": {},
   "source": [
    "# Las preguntas que tendréis que contestar son:"
   ]
  },
  {
   "attachments": {},
   "cell_type": "markdown",
   "metadata": {},
   "source": [
    "Ayer creamos un par de gráficas para USA y España,\n",
    "\n",
    "donde visualizamos el número de ataques en \n",
    "\n",
    "cada país a lo largo de los años y el tipo de los ataques. \n",
    "\n",
    "Hoy tendréis que hacer dos gráficas con subplots:"
   ]
  },
  {
   "attachments": {},
   "cell_type": "markdown",
   "metadata": {},
   "source": [
    "# En la primera debéis mostrar los tipos ataques en USA y España, \n",
    "\n",
    "cada subplot corresponderá a un país. \n",
    "# Debéis:"
   ]
  },
  {
   "attachments": {},
   "cell_type": "markdown",
   "metadata": {},
   "source": [
    "Poner nombre a los ejes de cada uno de los subplots\n",
    "\n",
    "Poner un títulos a cada uno de los subplots\n",
    "\n",
    "Poner el color de las líneas en negro.\n",
    "\n",
    "Establecer el tamaño de la gráfica a 15 x 5\n",
    "\n",
    "Ponerle marcadores a las gráficas\n",
    "\n",
    "No incluir leyenda"
   ]
  },
  {
   "cell_type": "code",
   "execution_count": null,
   "metadata": {},
   "outputs": [],
   "source": []
  },
  {
   "attachments": {},
   "cell_type": "markdown",
   "metadata": {},
   "source": [
    "# En la segunda debéis mostrar los ataques por año para cada uno de los países.\n",
    "\n",
    "De nuevo tendréis que ponerle nombre a los ejes y título a cada gráfica.\n",
    "\n",
    "En este caso el subplot deberá tener dos filas y una columna\n",
    "\n",
    "No incluir leyenda\n",
    "\n",
    "Cambiar el color de las barras\n",
    "\n",
    "Cread un único gráfico donde juntéis las gráficas \n",
    "\n",
    "de los tipos de ataques en una sola. \n",
    "# Debéis:\n",
    "\n",
    "Poner leyenda a la gráfica\n",
    "\n",
    "Cada línea debe ir en un color\n",
    "\n",
    "Ponerle nombre a los ejes y a la gráfica.\n",
    "\n",
    "Poner marcadores a las lineas."
   ]
  },
  {
   "cell_type": "code",
   "execution_count": null,
   "metadata": {},
   "outputs": [],
   "source": []
  },
  {
   "attachments": {},
   "cell_type": "markdown",
   "metadata": {},
   "source": [
    "# Guardad \n",
    "\n",
    "las figuras creadas en cada caso. \n",
    "\n",
    "Podéis usar el formato que queráis. \n",
    "\n",
    "Guarda todas las fotos en una carpeta llamada Visualizacion-II."
   ]
  },
  {
   "cell_type": "code",
   "execution_count": null,
   "metadata": {},
   "outputs": [],
   "source": []
  }
 ],
 "metadata": {
  "kernelspec": {
   "display_name": "base",
   "language": "python",
   "name": "python3"
  },
  "language_info": {
   "codemirror_mode": {
    "name": "ipython",
    "version": 3
   },
   "file_extension": ".py",
   "mimetype": "text/x-python",
   "name": "python",
   "nbconvert_exporter": "python",
   "pygments_lexer": "ipython3",
   "version": "3.9.7"
  },
  "orig_nbformat": 4,
  "vscode": {
   "interpreter": {
    "hash": "f8e782a3a92a384869fb83a8974812ed4d4d199ed3e8c8704ecd8a7536d7fad4"
   }
  }
 },
 "nbformat": 4,
 "nbformat_minor": 2
}
