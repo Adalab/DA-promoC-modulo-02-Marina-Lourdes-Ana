{
 "cells": [
  {
   "cell_type": "code",
   "execution_count": null,
   "metadata": {},
   "outputs": [],
   "source": [
    "################### Pair Programming Visualización II\n",
    "\n",
    "# Sigamos con más visualizaciones. En este caso trabajaremos\n",
    "#  con el csv que generamos en el ejercicio de pair programming \n",
    "# de Pandas V, ese en el que habíamos unido distintos csv en uno.\n",
    "\n",
    "# El objetivo de hoy, mejorar algunas de las gráficas que \n",
    "# hicimos en el ejericio de pair programming de ayer y \n",
    "# crear algunas nuevas aprovechando que tenemos \n",
    "# algunas columnas nuevas en dataframe\n",
    "\n",
    "# Las preguntas que tendréis que contestar son:\n",
    "\n",
    "# Ayer creamos un par de gráficas para USA y España,\n",
    "#  donde visualizamos el número de ataques en \n",
    "# cada país a lo largo de los años y el tipo de los ataques. \n",
    "# Hoy tendréis que hacer dos gráficas con subplots:\n",
    "\n",
    "# En la primera debéis mostrar los tipos ataques \n",
    "# en USA y España, cada subplot corresponderá a un país. \n",
    "# Debéis:\n",
    "\n",
    "# Poner nombre a los ejes de cada uno de los subplots\n",
    "# Poner un títulos a cada uno de los subplots\n",
    "# Poner el color de las líneas en negro.\n",
    "# Establecer el tamaño de la gráfica a 15 x 5\n",
    "# Ponerle marcadores a las gráficas\n",
    "# No incluir leyenda\n",
    "# En la segunda debéis mostrar los ataques por año para cada uno de los países.\n",
    "# De nuevo tendréis que ponerle nombre a los ejes y título a cada gráfica.\n",
    "# En este caso el subplot deberá tener dos filas y una columna\n",
    "# No incluir leyenda\n",
    "# Cambiar el color de las barras\n",
    "# Cread un único gráfico donde juntéis las gráficas \n",
    "# de los tipos de ataques en una sola. Debéis:\n",
    "# Poner leyenda a la gráfica\n",
    "# Cada línea debe ir en un color\n",
    "# Ponerle nombre a los ejes y a la gráfica.\n",
    "# Poner marcadores a las lineas.\n",
    "\n",
    "# Guardad las figuras creadas en cada caso. \n",
    "# Podéis usar el formato que queráis. \n",
    "# Guarda todas las fotos en una carpeta llamada Visualizacion-II.\n",
    "\n",
    "# Happy coding 🦈"
   ]
  }
 ],
 "metadata": {
  "language_info": {
   "name": "python"
  },
  "orig_nbformat": 4
 },
 "nbformat": 4,
 "nbformat_minor": 2
}
