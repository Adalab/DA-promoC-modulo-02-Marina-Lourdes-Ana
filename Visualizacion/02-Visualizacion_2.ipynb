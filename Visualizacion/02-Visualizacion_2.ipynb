{
 "cells": [
  {
   "cell_type": "markdown",
   "metadata": {},
   "source": [
    "### Pair Programming Visualización II"
   ]
  },
  {
   "cell_type": "code",
   "execution_count": 17,
   "metadata": {},
   "outputs": [],
   "source": [
    "# Lo primero, importamos las librerías:\n",
    "\n",
    "import matplotlib.pyplot as plt\n",
    "import pandas as pd\n",
    "import numpy as np\n",
    "import seaborn as sns"
   ]
  },
  {
   "attachments": {},
   "cell_type": "markdown",
   "metadata": {},
   "source": [
    "Sigamos con más visualizaciones. En este caso trabajaremos con el csv que generamos en el ejercicio de pair programming de Pandas V, ese en el que habíamos unido distintos csv en uno. El objetivo de hoy, mejorar algunas de las gráficas que hicimos en el ejericio de pair programming de ayer y crear algunas nuevas aprovechando que tenemos algunas columnas nuevas en dataframe."
   ]
  },
  {
   "cell_type": "code",
   "execution_count": 18,
   "metadata": {},
   "outputs": [
    {
     "data": {
      "text/html": [
       "<div>\n",
       "<style scoped>\n",
       "    .dataframe tbody tr th:only-of-type {\n",
       "        vertical-align: middle;\n",
       "    }\n",
       "\n",
       "    .dataframe tbody tr th {\n",
       "        vertical-align: top;\n",
       "    }\n",
       "\n",
       "    .dataframe thead th {\n",
       "        text-align: right;\n",
       "    }\n",
       "</style>\n",
       "<table border=\"1\" class=\"dataframe\">\n",
       "  <thead>\n",
       "    <tr style=\"text-align: right;\">\n",
       "      <th></th>\n",
       "      <th>case_number</th>\n",
       "      <th>year</th>\n",
       "      <th>type</th>\n",
       "      <th>country</th>\n",
       "      <th>area</th>\n",
       "      <th>location</th>\n",
       "      <th>activity</th>\n",
       "      <th>name</th>\n",
       "      <th>sex</th>\n",
       "      <th>age</th>\n",
       "      <th>...</th>\n",
       "      <th>siglo</th>\n",
       "      <th>investigator_or_source</th>\n",
       "      <th>pdf</th>\n",
       "      <th>href_formula</th>\n",
       "      <th>case_number.1</th>\n",
       "      <th>case_number.2</th>\n",
       "      <th>original_order</th>\n",
       "      <th>fatal_(y/n)</th>\n",
       "      <th>injury</th>\n",
       "      <th>date</th>\n",
       "    </tr>\n",
       "  </thead>\n",
       "  <tbody>\n",
       "    <tr>\n",
       "      <th>0</th>\n",
       "      <td>2018.06.25</td>\n",
       "      <td>2018.0</td>\n",
       "      <td>Boating</td>\n",
       "      <td>USA</td>\n",
       "      <td>California</td>\n",
       "      <td>Oceanside, San Diego County</td>\n",
       "      <td>Paddling</td>\n",
       "      <td>Julie Wolfe</td>\n",
       "      <td>F</td>\n",
       "      <td>57</td>\n",
       "      <td>...</td>\n",
       "      <td>siglo-XXI</td>\n",
       "      <td>NaN</td>\n",
       "      <td>NaN</td>\n",
       "      <td>NaN</td>\n",
       "      <td>NaN</td>\n",
       "      <td>NaN</td>\n",
       "      <td>NaN</td>\n",
       "      <td>N</td>\n",
       "      <td>No injury to occupant, outrigger canoe and pad...</td>\n",
       "      <td>25-Jun-2018</td>\n",
       "    </tr>\n",
       "    <tr>\n",
       "      <th>1</th>\n",
       "      <td>2018.06.03.a</td>\n",
       "      <td>2018.0</td>\n",
       "      <td>Unprovoked</td>\n",
       "      <td>BRAZIL</td>\n",
       "      <td>Pernambuco</td>\n",
       "      <td>Piedade Beach, Recife</td>\n",
       "      <td>Swimming</td>\n",
       "      <td>Jose Ernesto da Silva</td>\n",
       "      <td>M</td>\n",
       "      <td>18</td>\n",
       "      <td>...</td>\n",
       "      <td>siglo-XXI</td>\n",
       "      <td>NaN</td>\n",
       "      <td>NaN</td>\n",
       "      <td>NaN</td>\n",
       "      <td>NaN</td>\n",
       "      <td>NaN</td>\n",
       "      <td>NaN</td>\n",
       "      <td>Y</td>\n",
       "      <td>FATAL</td>\n",
       "      <td>03-Jun-2018</td>\n",
       "    </tr>\n",
       "  </tbody>\n",
       "</table>\n",
       "<p>2 rows × 23 columns</p>\n",
       "</div>"
      ],
      "text/plain": [
       "    case_number    year        type country        area  \\\n",
       "0    2018.06.25  2018.0     Boating     USA  California   \n",
       "1  2018.06.03.a  2018.0  Unprovoked  BRAZIL  Pernambuco   \n",
       "\n",
       "                      location  activity                    name sex age  ...  \\\n",
       "0  Oceanside, San Diego County  Paddling             Julie Wolfe   F  57  ...   \n",
       "1        Piedade Beach, Recife  Swimming  Jose Ernesto da Silva    M  18  ...   \n",
       "\n",
       "       siglo investigator_or_source  pdf href_formula case_number.1  \\\n",
       "0  siglo-XXI                    NaN  NaN          NaN           NaN   \n",
       "1  siglo-XXI                    NaN  NaN          NaN           NaN   \n",
       "\n",
       "  case_number.2 original_order fatal_(y/n)  \\\n",
       "0           NaN            NaN           N   \n",
       "1           NaN            NaN           Y   \n",
       "\n",
       "                                              injury         date  \n",
       "0  No injury to occupant, outrigger canoe and pad...  25-Jun-2018  \n",
       "1                                              FATAL  03-Jun-2018  \n",
       "\n",
       "[2 rows x 23 columns]"
      ]
     },
     "execution_count": 18,
     "metadata": {},
     "output_type": "execute_result"
    }
   ],
   "source": [
    "# Importamos el archivo que guardamos ayer:\n",
    "\n",
    "df_union = pd.read_csv('../Pandas/datos/05-attacks_union.csv', index_col= 0)\n",
    "df_union.head(2)"
   ]
  },
  {
   "attachments": {},
   "cell_type": "markdown",
   "metadata": {},
   "source": [
    "1. Haced dos gráficas para USA y España con subplots.\n",
    "\n",
    "    En la primera debéis mostrar los tipos ataques en USA y España.\n",
    "\n",
    "    Cada subplot corresponderá a un país.\n",
    "\n",
    "\n",
    "    Debéis:\n",
    "    - Poner nombre a los ejes de cada uno de los subplots\n",
    "    - Poner un títulos a cada uno de los subplots\n",
    "    - Poner el color de las líneas en negro.\n",
    "    - Establecer el tamaño de la gráfica a 15 x 5\n",
    "    - Ponerle marcadores a las gráficas\n",
    "    - No incluir leyenda"
   ]
  },
  {
   "cell_type": "code",
   "execution_count": 19,
   "metadata": {},
   "outputs": [
    {
     "data": {
      "text/plain": [
       "406"
      ]
     },
     "execution_count": 19,
     "metadata": {},
     "output_type": "execute_result"
    }
   ],
   "source": [
    "df_union[(df_union[\"country\"] == \"USA\") & (df_union[\"year\"] >2000)].shape[0]"
   ]
  },
  {
   "cell_type": "code",
   "execution_count": 20,
   "metadata": {},
   "outputs": [
    {
     "data": {
      "text/plain": [
       "Unprovoked    345\n",
       "Invalid        27\n",
       "Provoked       26\n",
       "Boating         8\n",
       "Name: type, dtype: int64"
      ]
     },
     "execution_count": 20,
     "metadata": {},
     "output_type": "execute_result"
    }
   ],
   "source": [
    "ataques_usa = df_union[(df_union[\"country\"] == \"USA\") & (df_union[\"year\"] >2000)]['type'].value_counts()\n",
    "ataques_usa"
   ]
  },
  {
   "cell_type": "code",
   "execution_count": 21,
   "metadata": {},
   "outputs": [
    {
     "data": {
      "text/plain": [
       "4"
      ]
     },
     "execution_count": 21,
     "metadata": {},
     "output_type": "execute_result"
    }
   ],
   "source": [
    "df_union[(df_union[\"country\"] == \"SPAIN\") & (df_union[\"year\"] >2000)].shape[0]"
   ]
  },
  {
   "cell_type": "code",
   "execution_count": 22,
   "metadata": {},
   "outputs": [
    {
     "data": {
      "text/plain": [
       "Invalid       2\n",
       "Unprovoked    1\n",
       "Provoked      1\n",
       "Name: type, dtype: int64"
      ]
     },
     "execution_count": 22,
     "metadata": {},
     "output_type": "execute_result"
    }
   ],
   "source": [
    "ataques_spain = df_union[(df_union[\"country\"] == \"SPAIN\") & (df_union[\"year\"] >2000)]['type'].value_counts()\n",
    "ataques_spain"
   ]
  },
  {
   "cell_type": "code",
   "execution_count": 23,
   "metadata": {},
   "outputs": [
    {
     "data": {
      "image/png": "[encoded data removed]",
      "text/plain": [
       "<Figure size 1080x360 with 2 Axes>"
      ]
     },
     "metadata": {
      "needs_background": "light"
     },
     "output_type": "display_data"
    }
   ],
   "source": [
    "fig,ax = plt.subplots(1,2, figsize=  (15,5))\n",
    "\n",
    "x = ataques_usa.index\n",
    "y = ataques_usa.values\n",
    "\n",
    "x2 = ataques_spain.index\n",
    "y2 = ataques_spain.values\n",
    "\n",
    "\n",
    "ax[0].plot(x, y, c= 'pink', marker= 'X' )\n",
    "ax[0].set_title('USA')\n",
    "ax[0].set_xlabel('Tipo de ataque')\n",
    "ax[0].set_ylabel('Número de ataques')\n",
    "\n",
    "\n",
    "\n",
    "ax[1].plot(x2, y2, c= 'turquoise', marker ='D')\n",
    "ax[1].set_xlabel('Tipo de ataque')\n",
    "ax[1].set_ylabel('Número de ataques')\n",
    "ax[1].set_title('SPAIN')\n",
    "\n",
    "plt.savefig('01-graficas-ataques.png')"
   ]
  },
  {
   "attachments": {},
   "cell_type": "markdown",
   "metadata": {},
   "source": [
    "### En la segunda debéis mostrar los ataques por año para cada uno de los países.\n",
    "\n",
    "De nuevo tendréis que ponerle nombre a los ejes y título a cada gráfica. En este caso el subplot deberá tener dos filas y una columna.\n",
    "- No incluir leyenda\n",
    "- Cambiar el color de las barras\n",
    "- Cread un único gráfico donde juntéis las gráficas de los tipos de ataques en una sola. \n",
    "\n",
    "Debéis:\n",
    "\n",
    "- Poner leyenda a la gráfica\n",
    "- Cada línea debe ir en un color\n",
    "- Ponerle nombre a los ejes y a la gráfica.\n",
    "- Poner marcadores a las lineas."
   ]
  },
  {
   "cell_type": "code",
   "execution_count": 24,
   "metadata": {},
   "outputs": [
    {
     "data": {
      "text/plain": [
       "406"
      ]
     },
     "execution_count": 24,
     "metadata": {},
     "output_type": "execute_result"
    }
   ],
   "source": [
    "df_union[(df_union[\"country\"] == \"USA\") & (df_union[\"year\"]>2000)].shape[0]"
   ]
  },
  {
   "cell_type": "code",
   "execution_count": 25,
   "metadata": {},
   "outputs": [
    {
     "data": {
      "text/plain": [
       "2015.0    39\n",
       "2002.0    37\n",
       "2007.0    35\n",
       "2012.0    31\n",
       "2003.0    31\n",
       "2005.0    26\n",
       "2013.0    26\n",
       "2001.0    22\n",
       "2006.0    22\n",
       "2014.0    20\n",
       "2008.0    20\n",
       "2016.0    18\n",
       "2004.0    18\n",
       "2009.0    17\n",
       "2017.0    16\n",
       "2010.0    15\n",
       "2011.0    10\n",
       "2018.0     3\n",
       "Name: year, dtype: int64"
      ]
     },
     "execution_count": 25,
     "metadata": {},
     "output_type": "execute_result"
    }
   ],
   "source": [
    "ataques_usa_anio = df_union[(df_union[\"country\"] == \"USA\") & (df_union[\"year\"]>2000)]['year'].value_counts()\n",
    "ataques_usa_anio"
   ]
  },
  {
   "cell_type": "code",
   "execution_count": 26,
   "metadata": {},
   "outputs": [
    {
     "data": {
      "text/plain": [
       "4"
      ]
     },
     "execution_count": 26,
     "metadata": {},
     "output_type": "execute_result"
    }
   ],
   "source": [
    "df_union[(df_union[\"country\"] == \"SPAIN\") & (df_union[\"year\"]>2000)].shape[0]"
   ]
  },
  {
   "cell_type": "code",
   "execution_count": 27,
   "metadata": {},
   "outputs": [
    {
     "data": {
      "text/plain": [
       "2017.0    1\n",
       "2016.0    1\n",
       "2015.0    1\n",
       "2010.0    1\n",
       "Name: year, dtype: int64"
      ]
     },
     "execution_count": 27,
     "metadata": {},
     "output_type": "execute_result"
    }
   ],
   "source": [
    "ataques_spain_anio = df_union[(df_union[\"country\"] == \"SPAIN\") & (df_union[\"year\"]>2000)]['year'].value_counts()\n",
    "ataques_spain_anio"
   ]
  },
  {
   "cell_type": "code",
   "execution_count": 28,
   "metadata": {},
   "outputs": [
    {
     "data": {
      "image/png": "[encoded data removed]",
      "text/plain": [
       "<Figure size 1440x720 with 2 Axes>"
      ]
     },
     "metadata": {
      "needs_background": "light"
     },
     "output_type": "display_data"
    }
   ],
   "source": [
    "fig,ax = plt.subplots(1,2, figsize = (20,10))\n",
    "\n",
    "x3 = ataques_usa_anio.index\n",
    "y3 = ataques_usa_anio.values\n",
    "\n",
    "x4 = ataques_spain_anio.index\n",
    "y4 = ataques_spain_anio.values\n",
    "\n",
    "\n",
    "ax[0].bar(x3,y3, color = \"pink\", edgecolor = \"turquoise\")\n",
    "ax[0].set_title(\"USA\")\n",
    "ax[0].set_xlabel(\"Año\")\n",
    "ax[0].set_ylabel(\"Número de ataques\")\n",
    "ax[0].legend(labels=[\"Casos\"])\n",
    "\n",
    "\n",
    "ax[1].bar(x4,y4, color = \"pink\", edgecolor = \"turquoise\")\n",
    "ax[1].set_xlabel(\"Año\")\n",
    "ax[1].set_ylabel(\"Número de ataques\")\n",
    "ax[1].legend(labels = [\"Casos\"])\n",
    "ax[1].set_title('SPAIN')\n",
    "\n",
    "plt.savefig(\"02-graficas-ataques.png\")"
   ]
  },
  {
   "attachments": {},
   "cell_type": "markdown",
   "metadata": {},
   "source": [
    "### 2. Crear un único gráfico donde juntéis las gráficas de los tipos de ataques en una sola:\n",
    "\n",
    "Debéis:\n",
    "- Poner leyenda a la gráfica\n",
    "- Cada línea debe ir en un color\n",
    "- Ponerle nombre a los ejes y a la gráfica.\n",
    "- Poner marcadores a las lineas."
   ]
  },
  {
   "cell_type": "code",
   "execution_count": 29,
   "metadata": {},
   "outputs": [
    {
     "data": {
      "image/png": "[encoded data removed]",
      "text/plain": [
       "<Figure size 720x360 with 1 Axes>"
      ]
     },
     "metadata": {
      "needs_background": "light"
     },
     "output_type": "display_data"
    }
   ],
   "source": [
    "fig,ax = plt.subplots(figsize=(10,5))\n",
    "\n",
    "plt.plot(x,y, color=\"pink\", marker=\"D\")\n",
    "plt.plot(x2,y2, color=\"turquoise\", marker=\"X\")\n",
    "\n",
    "plt.title(\"Ataques en USA y SPAIN\")\n",
    "\n",
    "ax.set_xlabel(\"Tipo de ataque\")\n",
    "ax.set_ylabel(\"Cantidad de ataques\")\n",
    "\n",
    "ax.legend(labels=[\"USA\",\"SPAIN\"])\n",
    "\n",
    "plt.savefig('03-graficas-unidas-tipo.png')\n"
   ]
  },
  {
   "attachments": {},
   "cell_type": "markdown",
   "metadata": {},
   "source": [
    "Guardad las figuras creadas en cada caso."
   ]
  },
  {
   "cell_type": "markdown",
   "metadata": {},
   "source": []
  }
 ],
 "metadata": {
  "kernelspec": {
   "display_name": "Python 3.9.7 ('base')",
   "language": "python",
   "name": "python3"
  },
  "language_info": {
   "codemirror_mode": {
    "name": "ipython",
    "version": 3
   },
   "file_extension": ".py",
   "mimetype": "text/x-python",
   "name": "python",
   "nbconvert_exporter": "python",
   "pygments_lexer": "ipython3",
   "version": "3.9.7"
  },
  "orig_nbformat": 4,
  "vscode": {
   "interpreter": {
    "hash": "0620710c65b0f5ccc651a2aa8870ae0eb4c70492424a8d7866846658189426a3"
   }
  }
 },
 "nbformat": 4,
 "nbformat_minor": 2
}
