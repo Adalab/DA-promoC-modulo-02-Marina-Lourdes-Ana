{
 "cells": [
  {
   "cell_type": "code",
   "execution_count": 1,
   "metadata": {},
   "outputs": [],
   "source": [
    "import matplotlib.pyplot as plt\n",
    "import pandas as pd\n",
    "import numpy as np \n",
    "import seaborn as sns"
   ]
  },
  {
   "attachments": {},
   "cell_type": "markdown",
   "metadata": {},
   "source": [
    "# Pair Programming Visualización II"
   ]
  },
  {
   "attachments": {},
   "cell_type": "markdown",
   "metadata": {},
   "source": [
    "Sigamos con más visualizaciones. En este caso trabajaremos\n",
    "\n",
    "con el csv que generamos en el ejercicio de pair programming \n",
    "\n",
    "de Pandas V, ese en el que habíamos unido distintos csv en uno.\n",
    "\n",
    "El objetivo de hoy, mejorar algunas de las gráficas que \n",
    "\n",
    "hicimos en el ejericio de pair programming de ayer y \n",
    "\n",
    "crear algunas nuevas aprovechando que tenemos \n",
    "\n",
    "algunas columnas nuevas en dataframe"
   ]
  },
  {
   "cell_type": "code",
   "execution_count": 2,
   "metadata": {},
   "outputs": [
    {
     "data": {
      "text/html": [
       "<div>\n",
       "<style scoped>\n",
       "    .dataframe tbody tr th:only-of-type {\n",
       "        vertical-align: middle;\n",
       "    }\n",
       "\n",
       "    .dataframe tbody tr th {\n",
       "        vertical-align: top;\n",
       "    }\n",
       "\n",
       "    .dataframe thead th {\n",
       "        text-align: right;\n",
       "    }\n",
       "</style>\n",
       "<table border=\"1\" class=\"dataframe\">\n",
       "  <thead>\n",
       "    <tr style=\"text-align: right;\">\n",
       "      <th></th>\n",
       "      <th>case_number</th>\n",
       "      <th>year</th>\n",
       "      <th>type</th>\n",
       "      <th>country</th>\n",
       "      <th>area</th>\n",
       "      <th>location</th>\n",
       "      <th>activity</th>\n",
       "      <th>name</th>\n",
       "      <th>sex</th>\n",
       "      <th>age</th>\n",
       "      <th>time</th>\n",
       "      <th>species</th>\n",
       "      <th>href</th>\n",
       "      <th>investigator_or_source</th>\n",
       "      <th>pdf</th>\n",
       "      <th>href_formula</th>\n",
       "      <th>case_number.1</th>\n",
       "      <th>case_number.2</th>\n",
       "      <th>original_order</th>\n",
       "    </tr>\n",
       "  </thead>\n",
       "  <tbody>\n",
       "    <tr>\n",
       "      <th>0</th>\n",
       "      <td>2018.06.25</td>\n",
       "      <td>2018.0</td>\n",
       "      <td>Boating</td>\n",
       "      <td>USA</td>\n",
       "      <td>California</td>\n",
       "      <td>Oceanside, San Diego County</td>\n",
       "      <td>Paddling</td>\n",
       "      <td>Julie Wolfe</td>\n",
       "      <td>F</td>\n",
       "      <td>57</td>\n",
       "      <td>18h00</td>\n",
       "      <td>White shark</td>\n",
       "      <td>http://sharkattackfile.net/spreadsheets/pdf_di...</td>\n",
       "      <td>NaN</td>\n",
       "      <td>NaN</td>\n",
       "      <td>NaN</td>\n",
       "      <td>NaN</td>\n",
       "      <td>NaN</td>\n",
       "      <td>NaN</td>\n",
       "    </tr>\n",
       "    <tr>\n",
       "      <th>1</th>\n",
       "      <td>2018.06.18</td>\n",
       "      <td>2018.0</td>\n",
       "      <td>Unprovoked</td>\n",
       "      <td>USA</td>\n",
       "      <td>Georgia</td>\n",
       "      <td>St. Simon Island, Glynn County</td>\n",
       "      <td>Standing</td>\n",
       "      <td>Adyson McNeely</td>\n",
       "      <td>F</td>\n",
       "      <td>11</td>\n",
       "      <td>14h00  -15h00</td>\n",
       "      <td>NaN</td>\n",
       "      <td>http://sharkattackfile.net/spreadsheets/pdf_di...</td>\n",
       "      <td>NaN</td>\n",
       "      <td>NaN</td>\n",
       "      <td>NaN</td>\n",
       "      <td>NaN</td>\n",
       "      <td>NaN</td>\n",
       "      <td>NaN</td>\n",
       "    </tr>\n",
       "  </tbody>\n",
       "</table>\n",
       "</div>"
      ],
      "text/plain": [
       "  case_number    year        type country        area  \\\n",
       "0  2018.06.25  2018.0     Boating     USA  California   \n",
       "1  2018.06.18  2018.0  Unprovoked     USA     Georgia   \n",
       "\n",
       "                         location  activity             name sex age  \\\n",
       "0     Oceanside, San Diego County  Paddling      Julie Wolfe   F  57   \n",
       "1  St. Simon Island, Glynn County  Standing  Adyson McNeely    F  11   \n",
       "\n",
       "            time      species  \\\n",
       "0          18h00  White shark   \n",
       "1  14h00  -15h00          NaN   \n",
       "\n",
       "                                                href investigator_or_source  \\\n",
       "0  http://sharkattackfile.net/spreadsheets/pdf_di...                    NaN   \n",
       "1  http://sharkattackfile.net/spreadsheets/pdf_di...                    NaN   \n",
       "\n",
       "   pdf href_formula case_number.1 case_number.2  original_order  \n",
       "0  NaN          NaN           NaN           NaN             NaN  \n",
       "1  NaN          NaN           NaN           NaN             NaN  "
      ]
     },
     "execution_count": 2,
     "metadata": {},
     "output_type": "execute_result"
    }
   ],
   "source": [
    "df_union = pd.read_csv('../Pandas/05-attacks_union.csv', index_col= 0)\n",
    "df_union.head(2)"
   ]
  },
  {
   "attachments": {},
   "cell_type": "markdown",
   "metadata": {},
   "source": [
    "# Las preguntas que tendréis que contestar son:"
   ]
  },
  {
   "attachments": {},
   "cell_type": "markdown",
   "metadata": {},
   "source": [
    "Ayer creamos un par de gráficas para USA y España,\n",
    "\n",
    "donde visualizamos el número de ataques en \n",
    "\n",
    "cada país a lo largo de los años y el tipo de los ataques. \n",
    "\n",
    "Hoy tendréis que hacer dos gráficas con subplots:"
   ]
  },
  {
   "attachments": {},
   "cell_type": "markdown",
   "metadata": {},
   "source": [
    "# En la primera debéis mostrar los tipos ataques en USA y España, \n",
    "\n",
    "cada subplot corresponderá a un país. \n",
    "# Debéis:"
   ]
  },
  {
   "attachments": {},
   "cell_type": "markdown",
   "metadata": {},
   "source": [
    "Poner nombre a los ejes de cada uno de los subplots\n",
    "\n",
    "Poner un títulos a cada uno de los subplots\n",
    "\n",
    "Poner el color de las líneas en negro.\n",
    "\n",
    "Establecer el tamaño de la gráfica a 15 x 5\n",
    "\n",
    "Ponerle marcadores a las gráficas\n",
    "\n",
    "No incluir leyenda"
   ]
  },
  {
   "attachments": {},
   "cell_type": "markdown",
   "metadata": {},
   "source": [
    "# USA"
   ]
  },
  {
   "cell_type": "code",
   "execution_count": 6,
   "metadata": {},
   "outputs": [
    {
     "data": {
      "text/plain": [
       "959"
      ]
     },
     "execution_count": 6,
     "metadata": {},
     "output_type": "execute_result"
    }
   ],
   "source": [
    "# solo los del 2000, pero del tiburones no del describe porque en ese nos quita el año\n",
    "df_union[(df_union[\"country\"] == \"USA\") & (df_union[\"year\"] >2000)].shape[0]"
   ]
  },
  {
   "cell_type": "code",
   "execution_count": 7,
   "metadata": {},
   "outputs": [
    {
     "data": {
      "text/plain": [
       "Unprovoked      797\n",
       "Invalid          65\n",
       "Provoked         60\n",
       "Boating          32\n",
       "Boat              3\n",
       "Sea Disaster      2\n",
       "Name: type, dtype: int64"
      ]
     },
     "execution_count": 7,
     "metadata": {},
     "output_type": "execute_result"
    }
   ],
   "source": [
    "# ponemos type porque el value count tiene que hacerse sobre una columna siempre y nos lo dice el enunciado que se por tipo\n",
    "ataques_usa = df_union[(df_union[\"country\"] == \"USA\") & (df_union[\"year\"] >2000)]['type'].value_counts()\n",
    "ataques_usa"
   ]
  },
  {
   "attachments": {},
   "cell_type": "markdown",
   "metadata": {},
   "source": [
    "# SPAIN"
   ]
  },
  {
   "cell_type": "code",
   "execution_count": 8,
   "metadata": {},
   "outputs": [
    {
     "data": {
      "text/plain": [
       "16"
      ]
     },
     "execution_count": 8,
     "metadata": {},
     "output_type": "execute_result"
    }
   ],
   "source": [
    "df_union[(df_union[\"country\"] == \"SPAIN\") & (df_union[\"year\"] >2000)].shape[0]"
   ]
  },
  {
   "cell_type": "code",
   "execution_count": 9,
   "metadata": {},
   "outputs": [
    {
     "data": {
      "text/plain": [
       "Unprovoked    9\n",
       "Invalid       5\n",
       "Provoked      2\n",
       "Name: type, dtype: int64"
      ]
     },
     "execution_count": 9,
     "metadata": {},
     "output_type": "execute_result"
    }
   ],
   "source": [
    "ataques_spain = df_union[(df_union[\"country\"] == \"SPAIN\") & (df_union[\"year\"] >2000)]['type'].value_counts()\n",
    "ataques_spain"
   ]
  },
  {
   "cell_type": "code",
   "execution_count": 37,
   "metadata": {},
   "outputs": [
    {
     "data": {
      "image/png": "[encoded data removed]",
      "text/plain": [
       "<Figure size 1500x500 with 2 Axes>"
      ]
     },
     "metadata": {},
     "output_type": "display_data"
    }
   ],
   "source": [
    "# no las ponemos en negro nos gusta mas en este color\n",
    "fig,ax = plt.subplots(1,2, figsize=  (15,5))\n",
    "\n",
    "x = ataques_usa.index\n",
    "y = ataques_usa.values\n",
    "\n",
    "x2 = ataques_spain.index\n",
    "y2 = ataques_spain.values\n",
    "\n",
    "\n",
    "ax[0].plot(x, y, c= 'pink', marker= 'X' )\n",
    "ax[0].set_title('USA')\n",
    "ax[0].set_xlabel('Tipo de ataque')\n",
    "ax[0].set_ylabel('Número de ataques')\n",
    "\n",
    "\n",
    "\n",
    "ax[1].plot(x2, y2, c= 'turquoise', marker ='D')\n",
    "ax[1].set_xlabel('Tipo de ataque')\n",
    "ax[1].set_ylabel('Número de ataques')\n",
    "ax[1].set_title('SPAIN')\n",
    "\n",
    "plt.savefig('01-graficas-ataques.png')"
   ]
  },
  {
   "attachments": {},
   "cell_type": "markdown",
   "metadata": {},
   "source": [
    "# En la segunda debéis mostrar los ataques por año para cada uno de los países.\n",
    "\n",
    "De nuevo tendréis que ponerle nombre a los ejes y título a cada gráfica.\n",
    "\n",
    "En este caso el subplot deberá tener dos filas y una columna\n",
    "\n",
    "No incluir leyenda\n",
    "\n",
    "Cambiar el color de las barras\n",
    "\n",
    "Cread un único gráfico donde juntéis las gráficas \n",
    "\n",
    "de los tipos de ataques en una sola. \n",
    "# Debéis:\n",
    "\n",
    "Poner leyenda a la gráfica\n",
    "\n",
    "Cada línea debe ir en un color\n",
    "\n",
    "Ponerle nombre a los ejes y a la gráfica.\n",
    "\n",
    "Poner marcadores a las lineas."
   ]
  },
  {
   "attachments": {},
   "cell_type": "markdown",
   "metadata": {},
   "source": [
    "# USA"
   ]
  },
  {
   "cell_type": "code",
   "execution_count": 18,
   "metadata": {},
   "outputs": [
    {
     "data": {
      "text/plain": [
       "2205"
      ]
     },
     "execution_count": 18,
     "metadata": {},
     "output_type": "execute_result"
    }
   ],
   "source": [
    "# solo los del 2000, pero del tiburones no del describe porque en ese nos quita el año\n",
    "df_union[(df_union[\"country\"] == \"USA\") & (df_union[\"year\"])].shape[0]"
   ]
  },
  {
   "cell_type": "code",
   "execution_count": 21,
   "metadata": {},
   "outputs": [
    {
     "data": {
      "text/plain": [
       "2015.0    73\n",
       "2007.0    66\n",
       "2017.0    65\n",
       "2014.0    65\n",
       "2016.0    64\n",
       "          ..\n",
       "1862.0     1\n",
       "1860.0     1\n",
       "1859.0     1\n",
       "1857.0     1\n",
       "1642.0     1\n",
       "Name: year, Length: 179, dtype: int64"
      ]
     },
     "execution_count": 21,
     "metadata": {},
     "output_type": "execute_result"
    }
   ],
   "source": [
    "# ponemos type porque el value count tiene que hacerse sobre una columna siempre y nos lo dice el enunciado que se por tipo\n",
    "ataques_usa_anio = df_union[(df_union[\"country\"] == \"USA\") & (df_union[\"year\"])]['year'].value_counts()\n",
    "ataques_usa_anio"
   ]
  },
  {
   "attachments": {},
   "cell_type": "markdown",
   "metadata": {},
   "source": [
    "# SPAIN"
   ]
  },
  {
   "cell_type": "code",
   "execution_count": 19,
   "metadata": {},
   "outputs": [
    {
     "data": {
      "text/plain": [
       "43"
      ]
     },
     "execution_count": 19,
     "metadata": {},
     "output_type": "execute_result"
    }
   ],
   "source": [
    "df_union[(df_union[\"country\"] == \"SPAIN\") & (df_union[\"year\"])].shape[0]"
   ]
  },
  {
   "cell_type": "code",
   "execution_count": 20,
   "metadata": {},
   "outputs": [
    {
     "data": {
      "text/plain": [
       "1862.0    5\n",
       "2017.0    4\n",
       "2014.0    4\n",
       "2015.0    2\n",
       "1986.0    2\n",
       "1908.0    2\n",
       "2016.0    2\n",
       "1924.0    1\n",
       "1819.0    1\n",
       "1836.0    1\n",
       "1864.0    1\n",
       "1879.0    1\n",
       "1909.0    1\n",
       "1911.0    1\n",
       "1912.0    1\n",
       "1916.0    1\n",
       "1929.0    1\n",
       "1925.0    1\n",
       "1926.0    1\n",
       "1930.0    1\n",
       "1962.0    1\n",
       "1970.0    1\n",
       "1980.0    1\n",
       "1993.0    1\n",
       "2006.0    1\n",
       "2009.0    1\n",
       "2010.0    1\n",
       "2013.0    1\n",
       "1764.0    1\n",
       "Name: year, dtype: int64"
      ]
     },
     "execution_count": 20,
     "metadata": {},
     "output_type": "execute_result"
    }
   ],
   "source": [
    "ataques_spain_anio = df_union[(df_union[\"country\"] == \"SPAIN\") & (df_union[\"year\"])]['year'].value_counts()\n",
    "ataques_spain_anio"
   ]
  },
  {
   "cell_type": "code",
   "execution_count": 36,
   "metadata": {},
   "outputs": [
    {
     "data": {
      "image/png": "[encoded data removed]",
      "text/plain": [
       "<Figure size 2000x1000 with 2 Axes>"
      ]
     },
     "metadata": {},
     "output_type": "display_data"
    }
   ],
   "source": [
    "fig,ax = plt.subplots(1,2, figsize = (20,10))\n",
    "\n",
    "x3 = ataques_usa_anio.index\n",
    "y3 = ataques_usa_anio.values\n",
    "\n",
    "x4 = ataques_spain_anio.index\n",
    "y4 = ataques_spain_anio.values\n",
    "\n",
    "\n",
    "ax[0].bar(x3,y3, color='black',edgecolor = 'pink' )\n",
    "ax[0].set_title('USA')\n",
    "ax[0].set_xlabel('Año')\n",
    "ax[0].set_ylabel('Número de ataques')\n",
    "ax[0].legend(labels=['Casos'])\n",
    "\n",
    "\n",
    "ax[1].bar(x4,y4, ecolor='black',edgecolor = 'turquoise' )\n",
    "ax[1].set_xlabel('Año')\n",
    "ax[1].set_ylabel('Número de ataques')\n",
    "ax[1].legend(labels=['Casos'])\n",
    "ax[1].set_title('SPAIN')\n",
    "\n",
    "plt.savefig('02-graficas-ataques.png')"
   ]
  },
  {
   "attachments": {},
   "cell_type": "markdown",
   "metadata": {},
   "source": [
    "# Guardad \n",
    "\n",
    "las figuras creadas en cada caso. \n",
    "\n",
    "Podéis usar el formato que queráis. \n",
    "\n",
    "Guarda todas las fotos en una carpeta llamada Visualizacion-II."
   ]
  },
  {
   "cell_type": "code",
   "execution_count": 35,
   "metadata": {},
   "outputs": [
    {
     "data": {
      "text/plain": [
       "<Figure size 640x480 with 0 Axes>"
      ]
     },
     "metadata": {},
     "output_type": "display_data"
    }
   ],
   "source": [
    "plt.savefig('02-graficas-ataques.png')"
   ]
  }
 ],
 "metadata": {
  "kernelspec": {
   "display_name": "base",
   "language": "python",
   "name": "python3"
  },
  "language_info": {
   "codemirror_mode": {
    "name": "ipython",
    "version": 3
   },
   "file_extension": ".py",
   "mimetype": "text/x-python",
   "name": "python",
   "nbconvert_exporter": "python",
   "pygments_lexer": "ipython3",
   "version": "3.9.7"
  },
  "orig_nbformat": 4,
  "vscode": {
   "interpreter": {
    "hash": "f8e782a3a92a384869fb83a8974812ed4d4d199ed3e8c8704ecd8a7536d7fad4"
   }
  }
 },
 "nbformat": 4,
 "nbformat_minor": 2
}
