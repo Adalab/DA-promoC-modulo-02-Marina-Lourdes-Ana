{
 "cells": [
  {
   "cell_type": "code",
   "execution_count": 1,
   "metadata": {},
   "outputs": [],
   "source": [
    "import matplotlib.pyplot as plt\n",
    "import numpy as np \n",
    "import seaborn as sns"
   ]
  },
  {
   "attachments": {},
   "cell_type": "markdown",
   "metadata": {},
   "source": [
    "# Pair Programming Visualización II"
   ]
  },
  {
   "attachments": {},
   "cell_type": "markdown",
   "metadata": {},
   "source": [
    "Sigamos con más visualizaciones. En este caso trabajaremos\n",
    "\n",
    "con el csv que generamos en el ejercicio de pair programming \n",
    "\n",
    "de Pandas V, ese en el que habíamos unido distintos csv en uno.\n",
    "\n",
    "El objetivo de hoy, mejorar algunas de las gráficas que \n",
    "\n",
    "hicimos en el ejericio de pair programming de ayer y \n",
    "\n",
    "crear algunas nuevas aprovechando que tenemos \n",
    "\n",
    "algunas columnas nuevas en dataframe"
   ]
  },
  {
   "attachments": {},
   "cell_type": "markdown",
   "metadata": {},
   "source": [
    "# Las preguntas que tendréis que contestar son:"
   ]
  },
  {
   "attachments": {},
   "cell_type": "markdown",
   "metadata": {},
   "source": [
    "Ayer creamos un par de gráficas para USA y España,\n",
    "\n",
    "donde visualizamos el número de ataques en \n",
    "\n",
    "cada país a lo largo de los años y el tipo de los ataques. \n",
    "\n",
    "Hoy tendréis que hacer dos gráficas con subplots:"
   ]
  },
  {
   "attachments": {},
   "cell_type": "markdown",
   "metadata": {},
   "source": [
    "# En la primera debéis mostrar los tipos ataques en USA y España, \n",
    "\n",
    "cada subplot corresponderá a un país. \n",
    "# Debéis:"
   ]
  },
  {
   "attachments": {},
   "cell_type": "markdown",
   "metadata": {},
   "source": [
    "Poner nombre a los ejes de cada uno de los subplots\n",
    "\n",
    "Poner un títulos a cada uno de los subplots\n",
    "\n",
    "Poner el color de las líneas en negro.\n",
    "\n",
    "Establecer el tamaño de la gráfica a 15 x 5\n",
    "\n",
    "Ponerle marcadores a las gráficas\n",
    "\n",
    "No incluir leyenda"
   ]
  },
  {
   "cell_type": "code",
   "execution_count": null,
   "metadata": {},
   "outputs": [],
   "source": []
  },
  {
   "attachments": {},
   "cell_type": "markdown",
   "metadata": {},
   "source": [
    "# En la segunda debéis mostrar los ataques por año para cada uno de los países.\n",
    "\n",
    "De nuevo tendréis que ponerle nombre a los ejes y título a cada gráfica.\n",
    "\n",
    "En este caso el subplot deberá tener dos filas y una columna\n",
    "\n",
    "No incluir leyenda\n",
    "\n",
    "Cambiar el color de las barras\n",
    "\n",
    "Cread un único gráfico donde juntéis las gráficas \n",
    "\n",
    "de los tipos de ataques en una sola. \n",
    "# Debéis:\n",
    "\n",
    "Poner leyenda a la gráfica\n",
    "\n",
    "Cada línea debe ir en un color\n",
    "\n",
    "Ponerle nombre a los ejes y a la gráfica.\n",
    "\n",
    "Poner marcadores a las lineas."
   ]
  },
  {
   "cell_type": "code",
   "execution_count": null,
   "metadata": {},
   "outputs": [],
   "source": []
  },
  {
   "attachments": {},
   "cell_type": "markdown",
   "metadata": {},
   "source": [
    "# Guardad \n",
    "\n",
    "las figuras creadas en cada caso. \n",
    "\n",
    "Podéis usar el formato que queráis. \n",
    "\n",
    "Guarda todas las fotos en una carpeta llamada Visualizacion-II."
   ]
  },
  {
   "cell_type": "code",
   "execution_count": null,
   "metadata": {},
   "outputs": [],
   "source": []
  }
 ],
 "metadata": {
  "kernelspec": {
   "display_name": "base",
   "language": "python",
   "name": "python3"
  },
  "language_info": {
   "codemirror_mode": {
    "name": "ipython",
    "version": 3
   },
   "file_extension": ".py",
   "mimetype": "text/x-python",
   "name": "python",
   "nbconvert_exporter": "python",
   "pygments_lexer": "ipython3",
   "version": "3.9.7"
  },
  "orig_nbformat": 4,
  "vscode": {
   "interpreter": {
    "hash": "f8e782a3a92a384869fb83a8974812ed4d4d199ed3e8c8704ecd8a7536d7fad4"
   }
  }
 },
 "nbformat": 4,
 "nbformat_minor": 2
}
